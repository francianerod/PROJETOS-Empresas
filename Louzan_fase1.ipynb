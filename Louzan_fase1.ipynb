{
  "nbformat": 4,
  "nbformat_minor": 0,
  "metadata": {
    "colab": {
      "provenance": [],
      "include_colab_link": true
    },
    "kernelspec": {
      "name": "python3",
      "display_name": "Python 3"
    },
    "language_info": {
      "name": "python"
    }
  },
  "cells": [
    {
      "cell_type": "markdown",
      "metadata": {
        "id": "view-in-github",
        "colab_type": "text"
      },
      "source": [
        "<a href=\"https://colab.research.google.com/github/francianerod/PROJETOS-Empresas/blob/main/Louzan_fase1.ipynb\" target=\"_parent\"><img src=\"https://colab.research.google.com/assets/colab-badge.svg\" alt=\"Open In Colab\"/></a>"
      ]
    },
    {
      "cell_type": "markdown",
      "source": [
        "### **Relatórios Gerenciais - Resultados 1**\n",
        "\n",
        "Analista responsável: Franciane Rodrigues\n",
        "\n",
        "Empresa: Louzan Illustrations\n",
        "\n",
        "Área/Setor: Administrativo/Estratégico\n",
        "\n",
        "Obs.: Código usado para confecção de relatórios gerenciais das coleções de camisetas pretas"
      ],
      "metadata": {
        "id": "f6USO5qujD-3"
      }
    },
    {
      "cell_type": "markdown",
      "source": [
        "## **Instalação e Preparação de Ambiente**"
      ],
      "metadata": {
        "id": "x2Amzrcpn3Lt"
      }
    },
    {
      "cell_type": "code",
      "execution_count": null,
      "metadata": {
        "id": "Znfeq66GOW3T"
      },
      "outputs": [],
      "source": [
        "# Comando de abertura para Google Drive\n",
        "from google.colab import drive\n",
        "drive.mount('/content/drive')"
      ]
    },
    {
      "cell_type": "code",
      "source": [
        "# Instalação de Pacotes\n",
        "!pip install gspread"
      ],
      "metadata": {
        "id": "rBlEOKqqtg-G"
      },
      "execution_count": null,
      "outputs": []
    },
    {
      "cell_type": "code",
      "source": [
        "# Importação de biblioteca\n",
        "import pandas as pd\n",
        "from google.colab import auth\n",
        "from google.auth import default\n",
        "import gspread"
      ],
      "metadata": {
        "id": "kEpwDtDSPCit"
      },
      "execution_count": null,
      "outputs": []
    },
    {
      "cell_type": "code",
      "source": [
        "# Autenticação\n",
        "auth.authenticate_user()\n",
        "creds, _ = default()\n",
        "gc = gspread.authorize(creds)"
      ],
      "metadata": {
        "id": "m0Y4dfzUvWKY"
      },
      "execution_count": null,
      "outputs": []
    },
    {
      "cell_type": "code",
      "source": [
        "# Configuração da quantidade de colunas para aparecer em um Datraframe\n",
        "pd.set_option('display.max_columns',100)"
      ],
      "metadata": {
        "id": "rAzw8HZvQuKf"
      },
      "execution_count": null,
      "outputs": []
    },
    {
      "cell_type": "code",
      "source": [
        "# Ignorar avisos\n",
        "import warnings\n",
        "warnings.filterwarnings(\"ignore\")"
      ],
      "metadata": {
        "id": "3tUiqpGRdhPU"
      },
      "execution_count": null,
      "outputs": []
    },
    {
      "cell_type": "markdown",
      "source": [
        "## **EXTRAÇÃO**"
      ],
      "metadata": {
        "id": "H_dippFBTFfi"
      }
    },
    {
      "cell_type": "code",
      "source": [
        "# Abertura de Biblioteca - Usando apenas o filtro \"Pagos\"\n",
        "df = pd.read_csv('/content/drive/MyDrive/Dados/Temporário/Agosto_2023/relatorio_pedidos_produtos_cyber_agosto.csv',\n",
        "                 encoding='ISO-8859-1',\n",
        "                 sep = ';')"
      ],
      "metadata": {
        "id": "Nd0XGmHTPIRX"
      },
      "execution_count": null,
      "outputs": []
    },
    {
      "cell_type": "code",
      "source": [
        "# Visualizar as últimas linhas do dataframe\n",
        "df.tail(10)"
      ],
      "metadata": {
        "id": "4fA24Rb0Plz0"
      },
      "execution_count": null,
      "outputs": []
    },
    {
      "cell_type": "markdown",
      "source": [
        "## **TRANSFORMAÇÃO**"
      ],
      "metadata": {
        "id": "3aN89pJOMSTJ"
      }
    },
    {
      "cell_type": "markdown",
      "source": [
        "### **Transformação: Geral**"
      ],
      "metadata": {
        "id": "gWhSBQK6TzA_"
      }
    },
    {
      "cell_type": "code",
      "source": [
        "# Filtragem por linhas\n",
        "geral_venda = df.iloc[47:55]\n",
        "\n",
        "# Filtragem por colunas \"Fornecedor\", \"Vendas\" e \"Custo\" usando .loc[]\n",
        "geral_venda = geral_venda.loc[:, [\"Fornecedor\", \"Vendas\", \"Custo\"]]\n",
        "\n",
        "# Renomeando colunas\n",
        "geral_venda.rename(columns={'Fornecedor':'Demonstrativo',\n",
        "                            'Vendas':'Produtos',\n",
        "                            'Custo':'Valor ($)',\n",
        "                            },inplace=True)\n",
        "\n",
        "# Mostrar resultados gerais\n",
        "geral_venda"
      ],
      "metadata": {
        "id": "_QCR2Wz7dPe7"
      },
      "execution_count": null,
      "outputs": []
    },
    {
      "cell_type": "code",
      "source": [
        "# Eliminando as linhas do dataframe que representa o resultado final\n",
        "df = df.drop(range(47, 55))"
      ],
      "metadata": {
        "id": "uDAsF727dzuA"
      },
      "execution_count": null,
      "outputs": []
    },
    {
      "cell_type": "code",
      "source": [
        "# Eliminando colunas desnecessárias\n",
        "df.drop(['SKU', 'SKU Fornecedor', 'Fornecedor', 'Custo'],axis=1, inplace=True)"
      ],
      "metadata": {
        "id": "QeEt6h_QfPYL"
      },
      "execution_count": null,
      "outputs": []
    },
    {
      "cell_type": "code",
      "source": [
        "# Preenchendo os valores nulos com uma string.\n",
        "df['Marca'].fillna('SEM INFORMAÇÃO', inplace=True)"
      ],
      "metadata": {
        "id": "39PmycDWkDBx"
      },
      "execution_count": null,
      "outputs": []
    },
    {
      "cell_type": "code",
      "source": [
        "# Trabalhar com valor monetario\n",
        "df['Valor_TOTAL (R$)'] = df['Valor Vendas'].str.replace('R\\$', '').str.replace(',00', '').str.replace('.', '')\n",
        "\n",
        "# Converter a coluna para o tipo de dado 'int'\n",
        "df['Valor_TOTAL (R$)'] = df['Valor_TOTAL (R$)'].astype(int)\n",
        "\n",
        "df.head()"
      ],
      "metadata": {
        "id": "NkEvjUBLrmSy"
      },
      "execution_count": null,
      "outputs": []
    },
    {
      "cell_type": "code",
      "source": [
        "# Converter a coluna para o tipo de dado 'int'\n",
        "df['Vendas'] = df['Vendas'].astype(int)\n",
        "df['Valor_TOTAL (R$)'] = df['Valor_TOTAL (R$)'].astype(int)"
      ],
      "metadata": {
        "id": "f6-lMYxPt6D7"
      },
      "execution_count": null,
      "outputs": []
    },
    {
      "cell_type": "code",
      "source": [
        "# Crie a nova coluna 'situação' com base na coluna 'Marca'.\n",
        "df['Situação'] = df['Marca'].apply(lambda x: 'EM PRODUÇÃO' if 'CYBER PUNK' in x else 'EM ESTOQUE')"
      ],
      "metadata": {
        "id": "FCNajQcvDDun"
      },
      "execution_count": null,
      "outputs": []
    },
    {
      "cell_type": "code",
      "source": [
        "# Verificação\n",
        "df.sample(10)"
      ],
      "metadata": {
        "id": "Z00w5BjNkp91"
      },
      "execution_count": null,
      "outputs": []
    },
    {
      "cell_type": "code",
      "source": [
        "# Particularidades da base de dados: Crie a nova coluna 'Situação' com base na coluna 'Marca'.\n",
        "#df['Situação'] = df.apply(lambda row: 'EM ESTOQUE' if 'Dragon Ball Clássico' in row['Marca'] else 'EM PRODUÇÃO', axis=1)"
      ],
      "metadata": {
        "id": "Yo9_60GNaDb0"
      },
      "execution_count": null,
      "outputs": []
    },
    {
      "cell_type": "code",
      "source": [
        "# Particularidades da base de dados: Substitua os valores na coluna 'situação' com base na coluna 'marca'\n",
        "#marcas_substituir = ['Digimonster', 'POKEMON', 'Pokémonster', 'SEM INFORMAÇÃO', 'YU GI OH']\n",
        "#df.loc[df['Marca'].isin(marcas_substituir), 'Situação'] = 'EM ESTOQUE'"
      ],
      "metadata": {
        "id": "DdTbthJ5m9AW"
      },
      "execution_count": null,
      "outputs": []
    },
    {
      "cell_type": "markdown",
      "source": [
        "### **Transformação: PRE-VENDA**"
      ],
      "metadata": {
        "id": "fN8zHsH4TqkH"
      }
    },
    {
      "cell_type": "code",
      "source": [
        "# Localizando as linhas onde a coluna \"marca\" contém a palavra \"EM PRODUÇÃO\"\n",
        "geral_produtos_pre = df[df['Situação'].str.contains('EM PRODUÇÃO', case=False)]"
      ],
      "metadata": {
        "id": "FlOQ92-6dFBu"
      },
      "execution_count": null,
      "outputs": []
    },
    {
      "cell_type": "code",
      "source": [
        "# Converter a coluna para o tipo de dado 'int'\n",
        "geral_produtos_pre['Vendas'] = geral_produtos_pre['Vendas'].astype(int)\n",
        "\n",
        "# Quantidade de Camisetas da pré-venda\n",
        "geral_produtos_pre.groupby('Categoria')['Vendas'].sum().sort_values(ascending=True)"
      ],
      "metadata": {
        "id": "azF1WRjMczYd"
      },
      "execution_count": null,
      "outputs": []
    },
    {
      "cell_type": "code",
      "source": [
        "# Verificação\n",
        "geral_produtos_pre"
      ],
      "metadata": {
        "id": "Mo5FuOc8ok9A"
      },
      "execution_count": null,
      "outputs": []
    },
    {
      "cell_type": "code",
      "source": [
        "# Valor total da pré-venda\n",
        "total_pre_venda = geral_produtos_pre['Valor_TOTAL (R$)'].sum()\n",
        "\n",
        "# Imprimir os totais\n",
        "print(\"O valor total de vendas na Pré-venda foi de: R$\", total_pre_venda)"
      ],
      "metadata": {
        "id": "Zn2nOWLgv3Xh"
      },
      "execution_count": null,
      "outputs": []
    },
    {
      "cell_type": "code",
      "source": [
        "# Filtrando as linhas que começam com \"PRÉ VENDA\" na coluna \"Produto\"\n",
        "geral_pre_venda = df[df['Produto'].str.startswith('PRÉ VENDA')]"
      ],
      "metadata": {
        "id": "-wBLTRyhiNkF"
      },
      "execution_count": null,
      "outputs": []
    },
    {
      "cell_type": "code",
      "source": [
        "geral_pre_venda"
      ],
      "metadata": {
        "id": "eko1Hjji9Srr"
      },
      "execution_count": null,
      "outputs": []
    },
    {
      "cell_type": "code",
      "source": [
        "sorted(pd.unique(geral_pre_venda['Combinação']))"
      ],
      "metadata": {
        "id": "4omhGiYX9R1s"
      },
      "execution_count": null,
      "outputs": []
    },
    {
      "cell_type": "code",
      "source": [
        "# Criando um dicionário para mapear as strings para os tamanhos correspondentes.\n",
        "tamanho_mapping = {'Tamanho: P': 'P',\n",
        "                   'Tamanho: M': 'M',\n",
        "                   'Tamanho: G': 'G',\n",
        "                   'Tamanho: GG': 'GG',\n",
        "                   'Tamanho: G1': 'G1',\n",
        "                   'Tamanho: G2': 'G2',\n",
        "                   'Tamanho: G3': 'G3'\n",
        "                   }\n",
        "\n",
        "# Criando uma função para mapear as strings usando o dicionário.\n",
        "def mapear_tamanho(valor):\n",
        "    return tamanho_mapping.get(valor, 'Não se aplica')\n",
        "\n",
        "# Aplique a função mapear_tamanho para criar a nova coluna 'Tamanho'.\n",
        "geral_pre_venda['Tamanho'] = geral_pre_venda['Combinação'].apply(mapear_tamanho)"
      ],
      "metadata": {
        "id": "kLCyQMIkHL3K"
      },
      "execution_count": null,
      "outputs": []
    },
    {
      "cell_type": "code",
      "source": [
        "# Eliminando a coluna Combinação\n",
        "geral_pre_venda.drop(['Combinação'],axis=1,inplace=True)"
      ],
      "metadata": {
        "id": "NjOrr4O2kups"
      },
      "execution_count": null,
      "outputs": []
    },
    {
      "cell_type": "code",
      "source": [
        "geral_pre_venda"
      ],
      "metadata": {
        "id": "nqWCzT2vdGBc"
      },
      "execution_count": null,
      "outputs": []
    },
    {
      "cell_type": "code",
      "source": [
        "# Calcule a soma da coluna de vendas\n",
        "total_vendas = geral_pre_venda['Vendas'].sum()\n",
        "\n",
        "# Exiba o total de vendas\n",
        "print(f'Soma do total de Camisetas da Pré-Venda: {total_vendas}')"
      ],
      "metadata": {
        "id": "J_pDS6idxm9j"
      },
      "execution_count": null,
      "outputs": []
    },
    {
      "cell_type": "code",
      "source": [
        "# Converter a coluna para o tipo de dado 'int'\n",
        "geral_pre_venda['Vendas'] = geral_pre_venda['Vendas'].astype(int)\n",
        "\n",
        "# Defina a ordem categórica desejada\n",
        "ordem_categorica = ['P', 'M', 'G', 'GG', 'G1', 'G2', 'G3']\n",
        "\n",
        "# Use a função Categorical para definir a ordem\n",
        "geral_pre_venda['Tamanho'] = pd.Categorical(geral_pre_venda['Tamanho'], categories=ordem_categorica, ordered=True)\n",
        "\n",
        "# Calcule a soma das vendas por Tamanho\n",
        "geral_grade = geral_pre_venda.groupby('Tamanho')['Vendas'].sum()\n",
        "\n",
        "# Reordene o resultado com base na ordem categórica\n",
        "geral_grade = geral_grade.reindex(ordem_categorica)\n",
        "\n",
        "# Crie um DataFrame a partir do resultado\n",
        "geral_grade = pd.DataFrame({'Tamanho': geral_grade.index, 'Quantidade': geral_grade.values})\n",
        "\n",
        "# Exiba a tabela resultante\n",
        "geral_grade"
      ],
      "metadata": {
        "id": "tbhpO0MtlaYT"
      },
      "execution_count": null,
      "outputs": []
    },
    {
      "cell_type": "code",
      "source": [
        "sorted(pd.unique(geral_pre_venda['Produto']))"
      ],
      "metadata": {
        "id": "BPYE7sz2-K1a"
      },
      "execution_count": null,
      "outputs": []
    },
    {
      "cell_type": "code",
      "source": [
        "# Localizando as linhas onde a coluna \"Produto\" e realizando separação\n",
        "pre_venda_p1 = geral_pre_venda[geral_pre_venda['Produto'].str.contains('PRÉ VENDA - DAVID MARTINEZ', case=False)]\n",
        "\n",
        "# Converter a coluna para o tipo de dado 'int'\n",
        "pre_venda_p1['Tamanho'] = pre_venda_p1['Tamanho'].astype(str)\n",
        "\n",
        "# Defina a ordem categórica desejada\n",
        "ordem_categorica = ['P', 'M', 'G', 'GG', 'G1', 'G2', 'G3']\n",
        "\n",
        "# Use a função Categorical para definir a ordem\n",
        "pre_venda_p1['Tamanho'] = pd.Categorical(pre_venda_p1['Tamanho'], categories=ordem_categorica, ordered=True)\n",
        "\n",
        "# Ordene o DataFrame com base na coluna 'Tamanho'\n",
        "pre_venda_p1 = pre_venda_p1.sort_values(by='Tamanho')\n",
        "\n",
        "# Eliminando colunas\n",
        "pre_venda_p1.drop(['Valor Vendas', 'Situação', 'Valor_TOTAL (R$)'],axis=1,inplace=True)\n",
        "\n",
        "# Exiba o DataFrame resultante\n",
        "pre_venda_p1"
      ],
      "metadata": {
        "id": "fsYY_FQ6fTyB"
      },
      "execution_count": null,
      "outputs": []
    },
    {
      "cell_type": "code",
      "source": [
        "# Separando as linhas da coluna \"Produto\"\n",
        "pre_venda_p2 = geral_pre_venda[geral_pre_venda['Produto'].str.contains('PRÉ VENDA - LUCY', case=False)]\n",
        "\n",
        "# Converter a coluna para o tipo de dado 'int'\n",
        "pre_venda_p2['Tamanho'] = pre_venda_p2['Tamanho'].astype(str)\n",
        "\n",
        "# Defina a ordem categórica desejada\n",
        "ordem_categorica = ['P', 'M', 'G', 'GG', 'G1', 'G2', 'G3']\n",
        "\n",
        "# Use a função Categorical para definir a ordem\n",
        "pre_venda_p2['Tamanho'] = pd.Categorical(pre_venda_p2['Tamanho'], categories=ordem_categorica, ordered=True)\n",
        "\n",
        "# Ordene o DataFrame com base na coluna 'Tamanho'\n",
        "pre_venda_p2 = pre_venda_p2.sort_values(by='Tamanho')\n",
        "\n",
        "# Eliminando colunas\n",
        "pre_venda_p2.drop(['Valor Vendas', 'Situação', 'Valor_TOTAL (R$)'],axis=1,inplace=True)\n",
        "\n",
        "# Exiba o DataFrame resultante\n",
        "pre_venda_p2"
      ],
      "metadata": {
        "id": "WHWmMp1zfo16"
      },
      "execution_count": null,
      "outputs": []
    },
    {
      "cell_type": "code",
      "source": [
        "# Separando as linhas da coluna \"Produto\"\n",
        "pre_venda_p3 = geral_pre_venda[geral_pre_venda['Produto'].str.contains('PRÉ VENDA - REBECCA', case=False)]\n",
        "\n",
        "# Converter a coluna para o tipo de dado 'int'\n",
        "pre_venda_p3['Tamanho'] = pre_venda_p3['Tamanho'].astype(str)\n",
        "\n",
        "# Defina a ordem categórica desejada\n",
        "ordem_categorica = ['P', 'M', 'G', 'GG', 'G1', 'G2', 'G3']\n",
        "\n",
        "# Use a função Categorical para definir a ordem\n",
        "pre_venda_p3['Tamanho'] = pd.Categorical(pre_venda_p3['Tamanho'], categories=ordem_categorica, ordered=True)\n",
        "\n",
        "# Ordene o DataFrame com base na coluna 'Tamanho'\n",
        "pre_venda_p3 = pre_venda_p3.sort_values(by='Tamanho')\n",
        "\n",
        "# Eliminando colunas\n",
        "pre_venda_p3.drop(['Valor Vendas', 'Situação', 'Valor_TOTAL (R$)'],axis=1,inplace=True)\n",
        "\n",
        "# Exiba o DataFrame resultante\n",
        "pre_venda_p3"
      ],
      "metadata": {
        "id": "hBtzTYNkhIlg"
      },
      "execution_count": null,
      "outputs": []
    },
    {
      "cell_type": "code",
      "source": [
        "\"\"\"\n",
        "# Separando as linhas da coluna \"Produto\"\n",
        "pre_venda_p4 = geral_pre_venda[geral_pre_venda['Produto'].str.contains('PRÉ VENDA - CAMISETA VEGETA E NAPPA', case=False)]\n",
        "\n",
        "# Converter a coluna para o tipo de dado 'int'\n",
        "pre_venda_p4['Tamanho'] = pre_venda_p4['Tamanho'].astype(str)\n",
        "\n",
        "# Defina a ordem categórica desejada\n",
        "ordem_categorica = ['P', 'M', 'G', 'GG', 'G1', 'G2', 'G3']\n",
        "\n",
        "# Use a função Categorical para definir a ordem\n",
        "pre_venda_p4['Tamanho'] = pd.Categorical(pre_venda_p4['Tamanho'], categories=ordem_categorica, ordered=True)\n",
        "\n",
        "# Ordene o DataFrame com base na coluna 'Tamanho'\n",
        "pre_venda_p4 = pre_venda_p4.sort_values(by='Tamanho')\n",
        "\n",
        "# Eliminando colunas\n",
        "pre_venda_p4.drop(['Valor Vendas', 'Situação', 'Valor_TOTAL (R$)'],axis=1,inplace=True)\n",
        "\n",
        "# Exiba o DataFrame resultante\n",
        "pre_venda_p4\n",
        "\"\"\""
      ],
      "metadata": {
        "id": "it9-eJo3dYds"
      },
      "execution_count": null,
      "outputs": []
    },
    {
      "cell_type": "markdown",
      "source": [
        "### **Transformação: PRONTA-ENTREGA**"
      ],
      "metadata": {
        "id": "UgSLlT6STN6-"
      }
    },
    {
      "cell_type": "code",
      "source": [
        "# Localizando as linhas onde a coluna \"marca\" contém a palavra \"EM ESTOQUE\"\n",
        "estoque_venda = df[df['Situação'].str.contains('EM ESTOQUE', case=False)]"
      ],
      "metadata": {
        "id": "VnBo9VS-1Tow"
      },
      "execution_count": null,
      "outputs": []
    },
    {
      "cell_type": "code",
      "source": [
        "estoque_venda"
      ],
      "metadata": {
        "id": "u2nUMZSyd6Lz"
      },
      "execution_count": null,
      "outputs": []
    },
    {
      "cell_type": "code",
      "source": [
        "# Criando um dicionário para mapear as strings para os tamanhos correspondentes.\n",
        "tamanho_mapping = {'Tamanho: P': 'P',\n",
        "                   'Tamanho: M': 'M',\n",
        "                   'Tamanho: G': 'G',\n",
        "                   'Tamanho: GG': 'GG',\n",
        "                   'Tamanho: G1': 'G1',\n",
        "                   'Tamanho: G2': 'G2',\n",
        "                   'Tamanho: G3': 'G3'\n",
        "                   }\n",
        "\n",
        "# Criando uma função para mapear as strings usando o dicionário.\n",
        "def mapear_tamanho(valor):\n",
        "    return tamanho_mapping.get(valor, 'Não se aplica')\n",
        "\n",
        "# Aplique a função mapear_tamanho para criar a nova coluna 'Tamanho'.\n",
        "estoque_venda['Tamanho'] = estoque_venda['Combinação'].apply(mapear_tamanho)"
      ],
      "metadata": {
        "id": "N_t1xx7C17Oy"
      },
      "execution_count": null,
      "outputs": []
    },
    {
      "cell_type": "code",
      "source": [
        "estoque_venda"
      ],
      "metadata": {
        "id": "MGG-3PimpSS6"
      },
      "execution_count": null,
      "outputs": []
    },
    {
      "cell_type": "code",
      "source": [
        "# Converter a coluna para o tipo de dado 'int'\n",
        "estoque_venda['Tamanho'] = estoque_venda['Tamanho'].astype(str)\n",
        "\n",
        "# Defina a ordem categórica desejada\n",
        "ordem_categorica = ['P', 'M', 'G', 'GG', 'G1', 'G2', 'G3', 'Não se aplica']\n",
        "\n",
        "# Use a função Categorical para definir a ordem\n",
        "estoque_venda['Tamanho'] = pd.Categorical(estoque_venda['Tamanho'], categories=ordem_categorica, ordered=True)\n",
        "\n",
        "# Ordene o DataFrame com base na coluna 'Tamanho'\n",
        "estoque_venda = estoque_venda.sort_values(by='Tamanho')\n",
        "\n",
        "# Eliminando colunas\n",
        "estoque_venda.drop(['Combinação'],axis=1,inplace=True)\n",
        "\n",
        "# Exiba o DataFrame resultante\n",
        "estoque_venda"
      ],
      "metadata": {
        "id": "We2C-WPO2EdI"
      },
      "execution_count": null,
      "outputs": []
    },
    {
      "cell_type": "code",
      "source": [
        "# Converter a coluna para o tipo de dado 'int'\n",
        "estoque_venda['Vendas'] = estoque_venda['Vendas'].astype(int)\n",
        "\n",
        "# Quantidade de Camisetas da pré-venda por Tamanho\n",
        "estoque_venda.groupby('Categoria')['Vendas'].sum().sort_values(ascending=True)"
      ],
      "metadata": {
        "id": "-fRJr_ULjjTK"
      },
      "execution_count": null,
      "outputs": []
    },
    {
      "cell_type": "code",
      "source": [
        "# Valor total da pré-venda\n",
        "total_estoque = estoque_venda['Valor_TOTAL (R$)'].sum()\n",
        "\n",
        "# Imprimir os totais\n",
        "print(\"O valor total de vendas a pronto-entrega durante a Pré-venda foi de: R$\", total_estoque)"
      ],
      "metadata": {
        "id": "VxdMwWcq3pLm"
      },
      "execution_count": null,
      "outputs": []
    },
    {
      "cell_type": "markdown",
      "source": [
        "## **RESULTADOS GERAIS**"
      ],
      "metadata": {
        "id": "YpdvAsjZ2nLd"
      }
    },
    {
      "cell_type": "markdown",
      "source": [
        "### **RELATÓRIO FINANCEIRO**"
      ],
      "metadata": {
        "id": "lXqJ544-94FM"
      }
    },
    {
      "cell_type": "code",
      "source": [
        "# Demonstrativo Financeiro\n",
        "geral_venda"
      ],
      "metadata": {
        "id": "9LAPIOpn4t0-"
      },
      "execution_count": null,
      "outputs": []
    },
    {
      "cell_type": "markdown",
      "source": [
        "### **RELATÓRIO COMERCIAL**"
      ],
      "metadata": {
        "id": "pOyrvz699mBs"
      }
    },
    {
      "cell_type": "code",
      "source": [
        "# Quantidade de produtos vendidos apenas na pré-venda\n",
        "geral_produtos_pre.groupby('Categoria')['Vendas'].sum().sort_values(ascending=True)"
      ],
      "metadata": {
        "id": "qRUCwnAI6QSF"
      },
      "execution_count": null,
      "outputs": []
    },
    {
      "cell_type": "code",
      "source": [
        "# Preferência do público por personagem na pré-venda\n",
        "geral_produtos_pre.groupby('Produto')['Vendas'].sum().sort_values(ascending=False)"
      ],
      "metadata": {
        "id": "NO2OkU6i8U4o"
      },
      "execution_count": null,
      "outputs": []
    },
    {
      "cell_type": "code",
      "source": [
        "# Valor total da pré-venda\n",
        "total_pre_venda = geral_produtos_pre['Valor_TOTAL (R$)'].sum()\n",
        "\n",
        "# Imprimir os totais\n",
        "print(\"O valor total de vendas na Pré-venda foi de: R$\", total_pre_venda)"
      ],
      "metadata": {
        "id": "h8LwUCYf6WXQ"
      },
      "execution_count": null,
      "outputs": []
    },
    {
      "cell_type": "markdown",
      "source": [
        "### **RELATÓRIO DE INSUMO**"
      ],
      "metadata": {
        "id": "VmBdUKcX-bfM"
      }
    },
    {
      "cell_type": "code",
      "source": [
        "# Solicitação para camiseteria\n",
        "geral_grade"
      ],
      "metadata": {
        "id": "uOVJ0L4r-5GN"
      },
      "execution_count": null,
      "outputs": []
    },
    {
      "cell_type": "markdown",
      "source": [
        "### **RELATÓRIO OPERACIONAL**"
      ],
      "metadata": {
        "id": "r7d5fUA4_frO"
      }
    },
    {
      "cell_type": "code",
      "source": [
        "# Verificação de produtos que precisam ser produzidos\n",
        "pd.unique(geral_produtos_pre['Categoria'])"
      ],
      "metadata": {
        "id": "aXxSnIvTXSht"
      },
      "execution_count": null,
      "outputs": []
    },
    {
      "cell_type": "code",
      "source": [
        "# Quantidade de produtos a serem produzidos\n",
        "geral_produtos_pre.groupby('Categoria')['Vendas'].sum().sort_values(ascending=True)"
      ],
      "metadata": {
        "id": "yIudKDV-YXQm"
      },
      "execution_count": null,
      "outputs": []
    },
    {
      "cell_type": "code",
      "source": [
        "# Para produção\n",
        "pre_venda_p1"
      ],
      "metadata": {
        "id": "QjHSHSpD_kLB"
      },
      "execution_count": null,
      "outputs": []
    },
    {
      "cell_type": "code",
      "source": [
        "# Para produção\n",
        "pre_venda_p2"
      ],
      "metadata": {
        "id": "ixf6F8bP_pAV"
      },
      "execution_count": null,
      "outputs": []
    },
    {
      "cell_type": "code",
      "source": [
        "# Para produção\n",
        "pre_venda_p3"
      ],
      "metadata": {
        "id": "7_N3--rz_rJm"
      },
      "execution_count": null,
      "outputs": []
    },
    {
      "cell_type": "code",
      "source": [
        "# Para produção\n",
        "#pre_venda_p4"
      ],
      "metadata": {
        "id": "0lYL4PI9euGk"
      },
      "execution_count": null,
      "outputs": []
    },
    {
      "cell_type": "markdown",
      "source": [
        "### **RELATÓRIO PRONTO-ENTREGA**"
      ],
      "metadata": {
        "id": "YgIc1m_ZAHc1"
      }
    },
    {
      "cell_type": "code",
      "source": [
        "# Verificação de produtos que foram vendidos\n",
        "pd.unique(estoque_venda['Categoria'])"
      ],
      "metadata": {
        "id": "h_jtlrHQY5wU"
      },
      "execution_count": null,
      "outputs": []
    },
    {
      "cell_type": "code",
      "source": [
        "# Valor total da pré-venda\n",
        "total_estoque = estoque_venda['Valor_TOTAL (R$)'].sum()\n",
        "\n",
        "# Imprimir os totais\n",
        "print(\"O valor total de vendas na Pré-venda foi de: R$\", total_estoque)"
      ],
      "metadata": {
        "id": "XUNaoq_AZGvo"
      },
      "execution_count": null,
      "outputs": []
    },
    {
      "cell_type": "code",
      "source": [
        "# Listagem total do que foi vendido\n",
        "estoque_venda.drop(['Valor Vendas', 'Valor_TOTAL (R$)'],axis=1,inplace=True)"
      ],
      "metadata": {
        "id": "D73B1KVTYoWq"
      },
      "execution_count": null,
      "outputs": []
    },
    {
      "cell_type": "code",
      "source": [
        "estoque_venda"
      ],
      "metadata": {
        "id": "00hZxuzseVYr"
      },
      "execution_count": null,
      "outputs": []
    },
    {
      "cell_type": "code",
      "source": [
        "# Separar produtos em estoque\n",
        "estoque_venda_p1 = estoque_venda[estoque_venda['Categoria'] == 'CAMISETAS']\n",
        "estoque_venda_p2 = estoque_venda[estoque_venda['Categoria'] == 'QUADROS']\n",
        "estoque_venda_p3 = estoque_venda[estoque_venda['Categoria'] == 'STICKERS']\n",
        "#estoque_venda_p4 = estoque_venda[estoque_venda['Categoria'] == 'OUTLET']"
      ],
      "metadata": {
        "id": "3U-r5blrZPYV"
      },
      "execution_count": null,
      "outputs": []
    },
    {
      "cell_type": "code",
      "source": [
        "# Mostrar as tabelas separadas\n",
        "estoque_venda_p1"
      ],
      "metadata": {
        "id": "pwNivWv1aNiv"
      },
      "execution_count": null,
      "outputs": []
    },
    {
      "cell_type": "code",
      "source": [
        "# Mostrar as tabelas separadas\n",
        "estoque_venda_p2"
      ],
      "metadata": {
        "id": "BbQZFEg4aNXp"
      },
      "execution_count": null,
      "outputs": []
    },
    {
      "cell_type": "code",
      "source": [
        "# Mostrar as tabelas separadas\n",
        "estoque_venda_p3"
      ],
      "metadata": {
        "id": "tXttitgVaNP9"
      },
      "execution_count": null,
      "outputs": []
    },
    {
      "cell_type": "code",
      "source": [
        "# Mostrar as tabelas separadas\n",
        "#estoque_venda_p4"
      ],
      "metadata": {
        "id": "UraU4erHfOrU"
      },
      "execution_count": null,
      "outputs": []
    },
    {
      "cell_type": "markdown",
      "source": [
        "## **CARREGAMENTO**"
      ],
      "metadata": {
        "id": "KbJRYviYTeu_"
      }
    },
    {
      "cell_type": "markdown",
      "source": [
        "Esquemas de tabelas históricas\n",
        "\n",
        "*   geral_venda - Resultado financeiro\n",
        "*   geral_produtos_pre - todos os produtos da coleção vigente;\n",
        "*   geral_pre_venda - só camisetas da coleção vigente;\n",
        "*   geral_grade - só camisetas da coleção vigente\n",
        "*   geral_grade_cores - grade completa com cores e tamanhos (se houver)\n",
        "*   branco_grade_cores - grade por cor - (se houver)\n",
        "*   preto_grade_cores - grade por cor - (se houve)\n",
        "*   pre_venda_p1 - qtd. de produção do personagem 1\n",
        "*   pre_venda_p2 - qtd. de produção do personagem 2\n",
        "*   pre_venda_p3 - qtd. de produção do personagem 3\n",
        "*   pre_venda_p4 - qtd. de produção do personagem 4\n",
        "*   estoque_venda - Tudo que foi vendido a pronto-entrega durante o mês vigente\n",
        "*   estoque_venda_p1 - camisetas a pronto-entrega\n",
        "*   estoque_venda_p2 - quadros a pronto-entrega\n",
        "*   estoque_venda_p3 - stickers a pronto-entrega\n",
        "*   estoque_venda_p4 - outlet a pronto-entrega"
      ],
      "metadata": {
        "id": "s1k6ezkV-Eka"
      }
    },
    {
      "cell_type": "code",
      "source": [
        "# Carregamento em uma pasta Google Drive em extensão .csv\n",
        "geral_venda.to_csv('/content/drive/MyDrive/Dados/Tratado/Agosto_2023/Agosto_2023_Dados Históricos/agosto_2023_geral_venda.csv')\n",
        "geral_produtos_pre.to_csv('/content/drive/MyDrive/Dados/Tratado/Agosto_2023/Agosto_2023_Dados Históricos/agosto_2023_geral_produtos_pre.csv')\n",
        "\n",
        "geral_pre_venda.to_csv('/content/drive/MyDrive/Dados/Tratado/Agosto_2023/Agosto_2023_Dados Históricos/agosto_2023_geral_pre_camisetas')\n",
        "geral_grade.to_csv('/content/drive/MyDrive/Dados/Tratado/Agosto_2023/Agosto_2023_Dados Históricos/agosto_2023_grade_geral.csv')\n",
        "\n",
        "pre_venda_p1.to_csv('/content/drive/MyDrive/Dados/Tratado/Agosto_2023/Agosto_2023_Dados Históricos/agosto_2023_pre_venda_p1.csv')\n",
        "pre_venda_p2.to_csv('/content/drive/MyDrive/Dados/Tratado/Agosto_2023/Agosto_2023_Dados Históricos/agosto_2023_pre_venda_p2.csv')\n",
        "pre_venda_p3.to_csv('/content/drive/MyDrive/Dados/Tratado/Agosto_2023/Agosto_2023_Dados Históricos/agosto_2023_pre_venda_p3.csv')\n",
        "#pre_venda_p4.to_csv('/content/drive/MyDrive/Dados/Tratado/Agosto_2023/Agosto_2023_Dados Históricos/agosto_2023_pre_venda_p4.csv')\n",
        "\n",
        "estoque_venda.to_csv('/content/drive/MyDrive/Dados/Tratado/Agosto_2023/Agosto_2023_Dados Históricos/agosto_2023_estoque_venda.csv')\n",
        "estoque_venda_p1.to_csv('/content/drive/MyDrive/Dados/Tratado/Agosto_2023/Agosto_2023_Dados Históricos/agosto_2023_estoque_venda_p1.csv')\n",
        "estoque_venda_p2.to_csv('/content/drive/MyDrive/Dados/Tratado/Agosto_2023/Agosto_2023_Dados Históricos/agosto_2023_estoque_venda_p2.csv')\n",
        "estoque_venda_p3.to_csv('/content/drive/MyDrive/Dados/Tratado/Agosto_2023/Agosto_2023_Dados Históricos/agosto_2023_estoque_venda_p3.csv')\n",
        "#estoque_venda_p4.to_csv('/content/drive/MyDrive/Dados/Tratado/Agosto_2023/Agosto_2023_Dados Históricos/agosto_2023_estoque_venda_p4.csv')"
      ],
      "metadata": {
        "id": "-7eetAkvSh85"
      },
      "execution_count": null,
      "outputs": []
    },
    {
      "cell_type": "code",
      "source": [
        "# Acessar planilha que vai receber os dados\n",
        "planilha = gc.open('Resultado_Agosto_2023')"
      ],
      "metadata": {
        "id": "rW84UuzTutge"
      },
      "execution_count": null,
      "outputs": []
    },
    {
      "cell_type": "code",
      "source": [
        "# Acesse as guias da planilha usando o método worksheet\n",
        "agosto_geral_venda = planilha.worksheet('Página1')\n",
        "agosto_produtos_pre = planilha.worksheet('Página2')\n",
        "agosto_geral_grade = planilha.worksheet('Página3')\n",
        "\n",
        "p1 = planilha.worksheet('Página4')\n",
        "p2 = planilha.worksheet('Página5')\n",
        "p3 = planilha.worksheet('Página6')\n",
        "#p4 = planilha.worksheet('Página7')\n",
        "\n",
        "estoque_venda_p1_1 = planilha.worksheet('Página8')\n",
        "estoque_venda_p2_2 = planilha.worksheet('Página9')\n",
        "estoque_venda_p3_3 = planilha.worksheet('Página10')\n",
        "#estoque_venda_p4_4 = planilha.worksheet('Página11')"
      ],
      "metadata": {
        "id": "3RhElaNfkffU"
      },
      "execution_count": null,
      "outputs": []
    },
    {
      "cell_type": "code",
      "source": [
        "# Exportação 1\n",
        "agosto_geral_venda.update([geral_venda.columns.values.tolist()] + geral_venda.values.tolist())"
      ],
      "metadata": {
        "id": "z_5hDrdvoH59"
      },
      "execution_count": null,
      "outputs": []
    },
    {
      "cell_type": "code",
      "source": [
        "# Exportação 2\n",
        "agosto_produtos_pre.update([geral_produtos_pre.columns.values.tolist()] + geral_produtos_pre.values.tolist())"
      ],
      "metadata": {
        "id": "Uju1ExwJFmED"
      },
      "execution_count": null,
      "outputs": []
    },
    {
      "cell_type": "code",
      "source": [
        "# Exportação 3\n",
        "agosto_geral_grade.update([geral_grade.columns.values.tolist()] + geral_grade.values.tolist())"
      ],
      "metadata": {
        "id": "-1zE0CWIm8UF"
      },
      "execution_count": null,
      "outputs": []
    },
    {
      "cell_type": "code",
      "source": [
        "# Exportação 4\n",
        "pre_venda_p1.fillna('', inplace=True)\n",
        "p1.update([pre_venda_p1.columns.values.tolist()] + pre_venda_p1.values.tolist())"
      ],
      "metadata": {
        "id": "yNX0eOR-X1R8"
      },
      "execution_count": null,
      "outputs": []
    },
    {
      "cell_type": "code",
      "source": [
        "# Exportação 5\n",
        "pre_venda_p2.fillna('', inplace=True)\n",
        "p2.update([pre_venda_p2.columns.values.tolist()] + pre_venda_p2.values.tolist())"
      ],
      "metadata": {
        "id": "c8CHPRAgX1sE"
      },
      "execution_count": null,
      "outputs": []
    },
    {
      "cell_type": "code",
      "source": [
        "# Exportação 6\n",
        "pre_venda_p3.fillna('', inplace=True)\n",
        "p3.update([pre_venda_p3.columns.values.tolist()] + pre_venda_p3.values.tolist())"
      ],
      "metadata": {
        "id": "7NZOKq1LX1-A"
      },
      "execution_count": null,
      "outputs": []
    },
    {
      "cell_type": "code",
      "source": [
        "# Exportação 7\n",
        "#pre_venda_p4.fillna('', inplace=True)\n",
        "#p4.update([pre_venda_p4.columns.values.tolist()] + pre_venda_p4.values.tolist())"
      ],
      "metadata": {
        "id": "7p2FdyYGg3UZ"
      },
      "execution_count": null,
      "outputs": []
    },
    {
      "cell_type": "code",
      "source": [
        "# Exportação 8\n",
        "estoque_venda_p1.fillna('', inplace=True)\n",
        "estoque_venda_p1_1.update([estoque_venda_p1.columns.values.tolist()] + estoque_venda_p1.values.tolist())"
      ],
      "metadata": {
        "id": "1fQLGZYOrEmu"
      },
      "execution_count": null,
      "outputs": []
    },
    {
      "cell_type": "code",
      "source": [
        "# Exportação 9\n",
        "estoque_venda_p2.fillna('', inplace=True)\n",
        "estoque_venda_p2_2.update([estoque_venda_p2.columns.values.tolist()] + estoque_venda_p2.values.tolist())"
      ],
      "metadata": {
        "id": "vx-rqKR5HV1e"
      },
      "execution_count": null,
      "outputs": []
    },
    {
      "cell_type": "code",
      "source": [
        "# Exportação 10\n",
        "estoque_venda_p3.fillna('', inplace=True)\n",
        "estoque_venda_p3_3.update([estoque_venda_p3.columns.values.tolist()] + estoque_venda_p3.values.tolist())"
      ],
      "metadata": {
        "id": "sJ0WUB5CHVsb"
      },
      "execution_count": null,
      "outputs": []
    },
    {
      "cell_type": "code",
      "source": [
        "# Exportação 11\n",
        "#estoque_venda_p4.fillna('', inplace=True)\n",
        "#estoque_venda_p4_4.update([estoque_venda_p4.columns.values.tolist()] + estoque_venda_p4.values.tolist())"
      ],
      "metadata": {
        "id": "vx7fao01hqSD"
      },
      "execution_count": null,
      "outputs": []
    },
    {
      "cell_type": "markdown",
      "source": [
        "# **Final**"
      ],
      "metadata": {
        "id": "Ve2UPTnITkdl"
      }
    },
    {
      "cell_type": "code",
      "source": [
        "# Recado Final\n",
        "print(\"Dados exportados com sucesso para o Google Sheets!\")"
      ],
      "metadata": {
        "id": "kIMdYCtss953"
      },
      "execution_count": null,
      "outputs": []
    }
  ]
}