{
  "cells": [
    {
      "cell_type": "markdown",
      "metadata": {
        "id": "view-in-github",
        "colab_type": "text"
      },
      "source": [
        "<a href=\"https://colab.research.google.com/github/francianerod/PROJETOS-Empresas/blob/main/SoulCode_Assinatura_Tech.ipynb\" target=\"_parent\"><img src=\"https://colab.research.google.com/assets/colab-badge.svg\" alt=\"Open In Colab\"/></a>"
      ]
    },
    {
      "cell_type": "markdown",
      "metadata": {
        "id": "eZz8ps4mDPQ3"
      },
      "source": [
        "# Considerações iniciais"
      ]
    },
    {
      "cell_type": "markdown",
      "metadata": {
        "id": "Ecah2VqVE8N6"
      },
      "source": [
        "## Equipe de Analistas"
      ]
    },
    {
      "cell_type": "markdown",
      "metadata": {
        "id": "P2CR4o7BDYrH"
      },
      "source": [
        "*   [Adriano Hoffman](https://www.linkedin.com/in/adriano-hoffmann-89104949/)\n",
        "*   [Franciane Rodrigues](https://www.linkedin.com/in/francianerod/)\n",
        "*   [Jonathas Carneiro](https://www.linkedin.com/in/sahtcarneiro/)\n",
        "*   [Maria Lina S. J. Rocha](https://www.linkedin.com/in/lina-jeannine)\n",
        "*   [Yuri Ageme](https://www.linkedin.com/in/yuri-ageme-ab2803167/)\n",
        "\n",
        "\n",
        "\n",
        "\n",
        "\n"
      ]
    },
    {
      "cell_type": "markdown",
      "metadata": {
        "id": "MbR_5o_BE5K5"
      },
      "source": [
        "## Observações"
      ]
    },
    {
      "cell_type": "markdown",
      "metadata": {
        "id": "Puyk_GIvFEHZ"
      },
      "source": [
        "Os comentário do código serão separados entre comentário didáticos e comentários técnicos.\n",
        "\n",
        "' ' '   \n",
        "Assim estarão os comentários didáticos, na intenção de explicar decisões no decorrer do código e descrever o processo feito.   \n",
        "' ' '   \n",
        "  \n",
        "' # Assim estarão os comentários técnicos que trarão ponto relevantes para a aplicação do script"
      ]
    },
    {
      "cell_type": "markdown",
      "metadata": {
        "id": "5gndD-R--djl"
      },
      "source": [
        "#Setup"
      ]
    },
    {
      "cell_type": "markdown",
      "metadata": {
        "id": "sQSXqom7HlPK"
      },
      "source": [
        "##Instalações"
      ]
    },
    {
      "cell_type": "code",
      "execution_count": null,
      "metadata": {
        "id": "Axi-VNoQMdxw"
      },
      "outputs": [],
      "source": [
        "pip install gcsfs"
      ]
    },
    {
      "cell_type": "code",
      "execution_count": null,
      "metadata": {
        "id": "tUjHPZbR3Uve"
      },
      "outputs": [],
      "source": [
        "!pip install firebase-admin"
      ]
    },
    {
      "cell_type": "code",
      "execution_count": null,
      "metadata": {
        "id": "8CH1ch2v3Rl7"
      },
      "outputs": [],
      "source": [
        "pip install pyspark"
      ]
    },
    {
      "cell_type": "code",
      "execution_count": null,
      "metadata": {
        "id": "Yiujl3OuEyaq"
      },
      "outputs": [],
      "source": [
        "pip install pandera"
      ]
    },
    {
      "cell_type": "code",
      "execution_count": null,
      "metadata": {
        "id": "sGMx9z6SGKCO"
      },
      "outputs": [],
      "source": [
        "pip install pymongo"
      ]
    },
    {
      "cell_type": "markdown",
      "metadata": {
        "id": "meD6sOy6Hnp5"
      },
      "source": [
        "##Importações"
      ]
    },
    {
      "cell_type": "code",
      "execution_count": null,
      "metadata": {
        "id": "xPRe1nDEMd0c"
      },
      "outputs": [],
      "source": [
        "from google.colab import drive\n",
        "from google.cloud import storage\n",
        "import firebase_admin\n",
        "from firebase_admin import credentials\n",
        "from firebase_admin import firestore\n",
        "from pymongo import MongoClient\n",
        "import os\n",
        "import json\n",
        "import pandas as pd\n",
        "import numpy as np\n",
        "import pandera as pa\n",
        "import seaborn as sns\n",
        "import plotly.express as px\n",
        "import matplotlib.pyplot as plt\n",
        "from pyspark.sql import SparkSession\n",
        "from pyspark.sql.functions import col, isnan, when, count\n",
        "import warnings\n",
        "warnings.filterwarnings(\"ignore\")"
      ]
    },
    {
      "cell_type": "markdown",
      "metadata": {
        "id": "ITV52V6bHqWa"
      },
      "source": [
        "##Conexões"
      ]
    },
    {
      "cell_type": "code",
      "execution_count": null,
      "metadata": {
        "id": "A49VeHIsH2lR"
      },
      "outputs": [],
      "source": [
        "'''\n",
        "Para cumprir os requisitos soliciatados precisariamos constantemente estar fazendos as conexões\n",
        "com o firebase, bucket do cloud store e com o mongoDB Atlas, devido a isso já separamos as keys\n",
        "de acesso no drive e automatizamos o processo de autenticação.\n",
        "'''"
      ]
    },
    {
      "cell_type": "markdown",
      "metadata": {
        "id": "g10rvnd8Huo3"
      },
      "source": [
        "###Drive"
      ]
    },
    {
      "cell_type": "code",
      "execution_count": null,
      "metadata": {
        "id": "SZPJbhksXDZp"
      },
      "outputs": [],
      "source": [
        "#conexão com o drive onde consta as chaves necessários para acesso ao firebase,bucket gcp e mongoDB\n",
        "#sem esse passo se fará necessário adicionar manualmente a chave ao scritp\n",
        "drive.mount('/content/drive')\n",
        "chave_firebase = '/content/drive/MyDrive/PROJETO FINAL/Chaves/firebase-dashboard-b2c-ad1-firebase-adminsdk-wju40-3a65f3c66f.json'\n",
        "chave_bucket = '/content/drive/MyDrive/PROJETO FINAL/Chaves/bucket-dashboard-b2c-ad1-82fa16ca561e.json'\n",
        "chave_mongo = '/content/drive/MyDrive/PROJETO FINAL/Chaves/mongo-X509-cert-2960257155044243010.pem'"
      ]
    },
    {
      "cell_type": "markdown",
      "metadata": {
        "id": "6nv9QFI0Hx0a"
      },
      "source": [
        "###Firebase"
      ]
    },
    {
      "cell_type": "code",
      "execution_count": null,
      "metadata": {
        "id": "2Fi_7AYs3fIn"
      },
      "outputs": [],
      "source": [
        "cred = credentials.Certificate(chave_firebase)\n",
        "firebase_admin.initialize_app(cred)"
      ]
    },
    {
      "cell_type": "markdown",
      "metadata": {
        "id": "sjnIxu50H0J2"
      },
      "source": [
        "###Bucket"
      ]
    },
    {
      "cell_type": "code",
      "execution_count": null,
      "metadata": {
        "id": "907pimkAH8He"
      },
      "outputs": [],
      "source": [
        "serviceAccount = chave_bucket\n",
        "os.environ['GOOGLE_APPLICATION_CREDENTIALS'] = serviceAccount"
      ]
    },
    {
      "cell_type": "code",
      "execution_count": null,
      "metadata": {
        "id": "L6K9UWJ8H_Y2"
      },
      "outputs": [],
      "source": [
        "client_bucket = storage.Client()\n",
        "bucket = client_bucket.get_bucket('ad1-dashboards-b2c-tratados')"
      ]
    },
    {
      "cell_type": "markdown",
      "metadata": {
        "id": "RsTOhDyGH29l"
      },
      "source": [
        "###MongoDB"
      ]
    },
    {
      "cell_type": "code",
      "execution_count": null,
      "metadata": {
        "id": "doXfq97FIFXc"
      },
      "outputs": [],
      "source": [
        "uri = \"mongodb+srv://assinaturatech.hjwqgce.mongodb.net/?authSource=%24external&authMechanism=MONGODB-X509&retryWrites=true&w=majority\"\n",
        "client_mongo = MongoClient(uri,\n",
        "                     tls=True,\n",
        "                     tlsCertificateKeyFile=chave_mongo,\n",
        "                     )\n",
        "\n",
        "db = client_mongo['AssinaturaTech']\n"
      ]
    },
    {
      "cell_type": "markdown",
      "metadata": {
        "id": "ZHxQFMqwtf0X"
      },
      "source": [
        "###PySpark\n"
      ]
    },
    {
      "cell_type": "code",
      "execution_count": null,
      "metadata": {
        "id": "OwNMfp2P3eQ-"
      },
      "outputs": [],
      "source": [
        "spark = SparkSession.builder.appName(\"ass_tech\").getOrCreate()"
      ]
    },
    {
      "cell_type": "markdown",
      "metadata": {
        "id": "tX8tz91pIVtu"
      },
      "source": [
        "# ETL"
      ]
    },
    {
      "cell_type": "code",
      "execution_count": null,
      "metadata": {
        "id": "IfG3SMGOIZFU"
      },
      "outputs": [],
      "source": [
        "'''\n",
        "De agora em diante começa todo o tratamento feito nos datasets disponibilizados.\n",
        "Optamos por tratar cada dataset separadamente e, ao final, carregar todos uma única vez\n",
        "para os destinos de armazenamento. Assim, garantimos os padrões de trabalho e normalização\n",
        "ao mesmo tempo que mantemos a indiviadualidade de cada tratamento. Dessa meneira,\n",
        "possibilitamos que fique clara qual a parte do script corresponde a cada um dos datasets\n",
        "aqui existentes, caso eventualmente haja necessidade de trabalhar com algum individualmente.\n",
        "'''"
      ]
    },
    {
      "cell_type": "markdown",
      "metadata": {
        "id": "bmH-WL7RPV39"
      },
      "source": [
        "#Collection ShoppingCart"
      ]
    },
    {
      "cell_type": "markdown",
      "metadata": {
        "id": "VgtiEaLLQluv"
      },
      "source": [
        "##Extração"
      ]
    },
    {
      "cell_type": "code",
      "execution_count": null,
      "metadata": {
        "id": "AV2lVX_CPaEX"
      },
      "outputs": [],
      "source": [
        "db = firestore.client()\n",
        "\n",
        "docs = db.collection('shoppingCart').stream()\n",
        "\n",
        "data = []\n",
        "for doc in docs:\n",
        "    data.append(doc.to_dict())\n",
        "\n",
        "df_shoppingCart = pd.DataFrame(data)"
      ]
    },
    {
      "cell_type": "code",
      "execution_count": null,
      "metadata": {
        "id": "Xc6CrSj7Pj2t"
      },
      "outputs": [],
      "source": [
        "pd.set_option('display.max_columns', 200)"
      ]
    },
    {
      "cell_type": "code",
      "execution_count": null,
      "metadata": {
        "id": "RGUEHXmnPpSk"
      },
      "outputs": [],
      "source": [
        "df_shoppingCart.head(20)"
      ]
    },
    {
      "cell_type": "markdown",
      "metadata": {
        "id": "_vg5McLdVIUE"
      },
      "source": [
        "##Tratamento"
      ]
    },
    {
      "cell_type": "code",
      "execution_count": null,
      "metadata": {
        "id": "bWVYKS--VkAr"
      },
      "outputs": [],
      "source": [
        "df_shoppingCart.groupby('createdAt').size().sort_values(ascending=False)"
      ]
    },
    {
      "cell_type": "markdown",
      "metadata": {
        "id": "DnjCGK-wQs2M"
      },
      "source": [
        "###Remover colunas nulas"
      ]
    },
    {
      "cell_type": "code",
      "execution_count": null,
      "metadata": {
        "id": "y9ShmOy9QyNJ"
      },
      "outputs": [],
      "source": [
        "colunas_nulas_shoppingCart = []\n",
        "total_nulos_shoppingCart = 0\n",
        "\n",
        "for c in list(df_shoppingCart.columns):\n",
        "  if df_shoppingCart[c].count() == 0:\n",
        "    colunas_nulas_shoppingCart.append(c)\n",
        "    print(c)\n",
        "    total_nulos_shoppingCart += 1\n",
        "print(f'Total de colunas nulas: {total_nulos_shoppingCart}')"
      ]
    },
    {
      "cell_type": "markdown",
      "metadata": {
        "id": "x6DIyu3YRkXA"
      },
      "source": [
        "###Remover subcollections e colunas ilegiveis"
      ]
    },
    {
      "cell_type": "code",
      "execution_count": null,
      "metadata": {
        "id": "BDuaczhzRvGy"
      },
      "outputs": [],
      "source": [
        "#Não foram identificadas colunas referentes a subcollections ou com caracteres ilegiveis na collection ShoppingCart"
      ]
    },
    {
      "cell_type": "markdown",
      "metadata": {
        "id": "B9roXZbJuhcS"
      },
      "source": [
        "### Definição da Região do Cliente com base no DDD"
      ]
    },
    {
      "cell_type": "code",
      "execution_count": null,
      "metadata": {
        "id": "xhYco6AlDgx2"
      },
      "outputs": [],
      "source": [
        "colunas_shoppingCart = list(df_shoppingCart.columns)"
      ]
    },
    {
      "cell_type": "code",
      "execution_count": null,
      "metadata": {
        "id": "cfJCqLv5C8fd"
      },
      "outputs": [],
      "source": [
        "for c in list(colunas_shoppingCart):\n",
        "  print(f'coluna {c}: {list(df_shoppingCart[c].unique())}')"
      ]
    },
    {
      "cell_type": "code",
      "execution_count": null,
      "metadata": {
        "id": "SDZ6l37aXPhZ"
      },
      "outputs": [],
      "source": [
        "df_shoppingCart['phoneNumber'] = df_shoppingCart['phoneNumber'].astype(str)"
      ]
    },
    {
      "cell_type": "code",
      "execution_count": null,
      "metadata": {
        "id": "yw42Jy98XJl1"
      },
      "outputs": [],
      "source": [
        "df_shoppingCart['ddd'] = df_shoppingCart['phoneNumber'].apply(lambda x: x[1:3])"
      ]
    },
    {
      "cell_type": "code",
      "execution_count": null,
      "metadata": {
        "id": "UtMi21l49PDQ"
      },
      "outputs": [],
      "source": [
        "df_shoppingCart['ddd'] = df_shoppingCart['ddd'].apply(lambda x: 0 if x=='on' else int(x))"
      ]
    },
    {
      "cell_type": "code",
      "execution_count": null,
      "metadata": {
        "id": "aifB3i2eXVPR"
      },
      "outputs": [],
      "source": [
        "df_shoppingCart['createdAt'] = df_shoppingCart['createdAt'].astype(str)"
      ]
    },
    {
      "cell_type": "code",
      "execution_count": null,
      "metadata": {
        "id": "XFTcTXToXYLS"
      },
      "outputs": [],
      "source": [
        "df_shoppingCart['hora'] = df_shoppingCart['createdAt'].apply(lambda x: x[11:13])"
      ]
    },
    {
      "cell_type": "code",
      "execution_count": null,
      "metadata": {
        "id": "f_DX-Tu9tLmC"
      },
      "outputs": [],
      "source": [
        "df_shoppingCart['createdAt'] = df_shoppingCart['createdAt'].apply(pd.to_datetime)"
      ]
    },
    {
      "cell_type": "code",
      "execution_count": null,
      "metadata": {
        "id": "5yjtEWC4Ydvx"
      },
      "outputs": [],
      "source": [
        "df_shoppingCart['data'] = df_shoppingCart['createdAt'].dt.strftime('%Y-%m-%d').str.slice(stop=10)"
      ]
    },
    {
      "cell_type": "code",
      "execution_count": null,
      "metadata": {
        "id": "T-jX8wW9Y3RC"
      },
      "outputs": [],
      "source": [
        "ddd_estados = {\n",
        "    11: 'São Paulo, SP, Brasil', 12: 'São José dos Campos, SP, Brasil', 13: 'Santos, SP, Brasil', 14: 'Baurú, SP, Brasil', 15: 'Sorocaba, SP, Brasil', 16: 'Ribeirão Preto, SP, Brasil', 17: 'São José do Rio Preto, SP, Brasil', 18: 'Presidente Prudente, SP, Brasil', 19: '\tCampinas, SP, Brasil',\n",
        "    21: 'Rio de Janeiro, RJ, Brasil', 22: 'Campos, RJ, Brasil', 24: 'Volta Redonda, RJ, Brasil',\n",
        "    27: 'Vitória, ES, Brasil', 28: 'Cachoeiro de Itapemirim, ES, Brasil',\n",
        "    31: 'Belo Horizonte, MG, Brasil', 32: 'Juiz de Fora, MG, Brasil', 33: 'Governador Valadares, MG, Brasil', 34: 'Uberlândia, MG, Brasil', 35: 'Varginha, MG, Brasil', 37: 'Divinópolis, MG, Brasil', 38: 'Montes Claros, MG, Brasil',\n",
        "    41: 'Curitiba, PR, Brasil', 42: 'Ponta Grossa, PR, Brasil', 43: 'Londrina, PR, Brasil', 44: 'Maringá, PR, Brasil', 45: 'Cascável, PR, Brasil', 46: 'Pato Branco, PR, Brasil',\n",
        "    47: 'Joinville, SC, Brasil', 48: 'Florianópolis, SC, Brasil', 49: 'Chapecó, SC, Brasil',\n",
        "    51: 'Porto Alegre, RS, Brasil', 53: 'Pelotas, RS, Brasil', 54: 'Caxias do Sul, RS, Brasil', 55: 'Santa Maria, RS, Brasil',\n",
        "    61: 'Brasília, DF, Brasil',\n",
        "    62: 'Goiânia, GO, Brasil', 64: 'Rio Verde, GO, Brasil',\n",
        "    63: 'Palmas, TO, Brasil',\n",
        "    65: 'Cuiabá, MT, Brasil', 66: 'Rondonópolis, MT, Brasil',\n",
        "    67: 'Campo Grande, MS, Brasil',\n",
        "    68: 'Rio Branco, AC, Brasil',\n",
        "    69: 'Porto Velho, RO, Brasil',\n",
        "    71: 'Salvador, BA, Brasil', 73: 'Ilhéus, BA, Brasil', 74: 'Juazeiro, BA, Brasil', 75: 'Feira de Santana, BA, Brasil', 77: 'Barreiras, BA, Brasil',\n",
        "    79: 'Aracajú, SE, Brasil',\n",
        "    81: 'Recife, PE, Brasil', 87: 'Petrolina, PE, Brasil',\n",
        "    82: 'Maceió, AL, Brasil',\n",
        "    83: 'João Pessoa, PB, Brasil',\n",
        "    84: 'Natal, RN, Brasil',\n",
        "    85: 'Fortaleza, CE, Brasil',\n",
        "    86: 'Teresina, PI, Brasil',\n",
        "    88: 'Juazeiro do Norte, CE, Brasil',\n",
        "    89: 'Picos, PI, Brasil',\n",
        "    91: 'Belém, PA, Brasil', 93: 'Santarém, PA, Brasil', 94: 'Marabá, PA, Brasil',\n",
        "    92: 'Manaus, AM, Brasil',\n",
        "    95: 'Boa Vista, RR, Brasil',\n",
        "    96: 'Macapá, AP, Brasil',\n",
        "    97: 'Coari, AM, Brasil',\n",
        "    98: 'São Luis, MA, Brasil', 99: 'Imperatriz, MA, Brasil'\n",
        "}"
      ]
    },
    {
      "cell_type": "code",
      "execution_count": null,
      "metadata": {
        "id": "lDX6RwroY5q8"
      },
      "outputs": [],
      "source": [
        "df_shoppingCart['estado'] = df_shoppingCart['ddd'].apply(lambda x : None if (x==0) | (x in [6,7,9,23,56,59]) else ddd_estados[x])"
      ]
    },
    {
      "cell_type": "code",
      "execution_count": null,
      "metadata": {
        "id": "xfh3h9jPwkSb"
      },
      "outputs": [],
      "source": [
        "df_shoppingCart['estado']"
      ]
    },
    {
      "cell_type": "markdown",
      "metadata": {
        "id": "U52xiFu3SEFv"
      },
      "source": [
        "###Identificação das colunas principais"
      ]
    },
    {
      "cell_type": "code",
      "execution_count": null,
      "metadata": {
        "id": "JnX3-sQYSTNw"
      },
      "outputs": [],
      "source": [
        "#selcionando colunas mais relevantes\n",
        "colunas_principais_shoppingCart = ['id',\n",
        "                                   'phoneNumber',\n",
        "                                   'ddd',\n",
        "                                   'email',\n",
        "                                   'integrationStatus',\n",
        "                                   'purchaseStatus',\n",
        "                                   'hora',\n",
        "                                   'data',\n",
        "                                   'planName',\n",
        "                                   'price',\n",
        "                                   'paymentMethod',\n",
        "                                   'subscription_id',\n",
        "                                   'estado',\n",
        "                                   'customer_id']\n",
        "\n",
        "df_shoppingCart_final = df_shoppingCart[colunas_principais_shoppingCart]\n",
        "df_shoppingCart_final.head(2)"
      ]
    },
    {
      "cell_type": "markdown",
      "metadata": {
        "id": "neHj8dh5W8sr"
      },
      "source": [
        "###Conversão de Tipos"
      ]
    },
    {
      "cell_type": "code",
      "execution_count": null,
      "metadata": {
        "id": "ArfWrMbQXDjV"
      },
      "outputs": [],
      "source": [
        "df_shoppingCart_final.info()"
      ]
    },
    {
      "cell_type": "code",
      "execution_count": null,
      "metadata": {
        "id": "4qVvPkY7Se6d"
      },
      "outputs": [],
      "source": [
        "df_shoppingCart_final['data'] = df_shoppingCart_final['data'].apply(pd.to_datetime)"
      ]
    },
    {
      "cell_type": "markdown",
      "metadata": {
        "id": "E0uoieK5SlHM"
      },
      "source": [
        "### Tradução"
      ]
    },
    {
      "cell_type": "code",
      "execution_count": null,
      "metadata": {
        "id": "awG5QudvSyYF"
      },
      "outputs": [],
      "source": [
        "#renomeando colunas\n",
        "df_shoppingCart_final.rename(columns={'id' : 'shoppingCart_id',\n",
        "                                   'email' : 'email',\n",
        "                                   'integrationStatus' : 'status_integracao',\n",
        "                                   'purchaseStatus' : 'status_compra',\n",
        "                                   'createdAt' : 'criado_em',\n",
        "                                   'planName' : 'nome_plano',\n",
        "                                   'price' : 'preco',\n",
        "                                   'paymentMethod' : 'forma_pagamento',\n",
        "                                   'subscription_id' : 'assinatura_id',\n",
        "                                   'phoneNumber' : 'telefone',\n",
        "                                   'createdAt' : 'criado_em',\n",
        "                                   'customer_id' : 'cliente_id'\n",
        "                     },inplace = True)"
      ]
    },
    {
      "cell_type": "code",
      "execution_count": null,
      "metadata": {
        "id": "8kGIPQLsSkbz"
      },
      "outputs": [],
      "source": [
        "#renomeando dados categóricos de status_integracao\n",
        "status_integracao = {'Waiting': 'AGUARDANDO', 'Processed': 'PROCESSADO', 'Error': 'ERRO', 'Duplicity': 'DUPLICIDADE'}\n",
        "df_shoppingCart_final['status_integracao'] = df_shoppingCart_final['status_integracao'].replace(status_integracao)"
      ]
    },
    {
      "cell_type": "code",
      "execution_count": null,
      "metadata": {
        "id": "Oi4K4mwdS1Ec"
      },
      "outputs": [],
      "source": [
        "#renomeando dados categóricos de status_compra\n",
        "status_compra = {'Abandoned': 'ABANDONADO', 'Success': 'SUCESSO', 'Ordered': 'PEDIDO REALIZADO', 'Failure': 'FALHA'}\n",
        "df_shoppingCart_final['status_compra'] = df_shoppingCart_final['status_compra'].replace(status_compra)"
      ]
    },
    {
      "cell_type": "code",
      "execution_count": null,
      "metadata": {
        "id": "5zG6N472Tx0H"
      },
      "outputs": [],
      "source": [
        "#renomeando dados categóricos de assinatura\n",
        "nomes_planos = {'Assinatura Tech Social ou Aluno': 'Tech Social ou Aluno ', 'Assinatura Tech Social ou Aluno + Assinatura Mulher': 'Tech Social ou Aluno + Mulher', 'Assinatura Tech Geral': 'Tech Geral', 'Assinatura Tech Mulher': 'Tech Mulher'}\n",
        "df_shoppingCart_final['nome_plano'] = df_shoppingCart_final['nome_plano'].replace(nomes_planos)"
      ]
    },
    {
      "cell_type": "code",
      "execution_count": null,
      "metadata": {
        "id": "lmla4n2pT48s"
      },
      "outputs": [],
      "source": [
        "df_shoppingCart_final['nome_plano'] = df_shoppingCart_final['nome_plano'].str.upper()"
      ]
    },
    {
      "cell_type": "markdown",
      "metadata": {
        "id": "HwlctGCzK4rc"
      },
      "source": [
        "### Identificação e Remoção da equipe soulcode da base de clientes"
      ]
    },
    {
      "cell_type": "code",
      "execution_count": null,
      "metadata": {
        "id": "BuhGqKiYvcCf"
      },
      "outputs": [],
      "source": [
        "df_shoppingCart_final['email'].unique()"
      ]
    },
    {
      "cell_type": "code",
      "execution_count": null,
      "metadata": {
        "id": "_h2ME9I25_wN"
      },
      "outputs": [],
      "source": [
        "'''\n",
        "Foi verificado que alguns emails não seguem o padrão de email (contendo @)\n",
        "com isso não é possível separar os dominío corretamente, assim os emails\n",
        "que não estão corretamente forneceidos serão dropados abaixo, para então separar\n",
        "o domínio e identificar a equipe de testes da soulcode\n",
        "'''"
      ]
    },
    {
      "cell_type": "code",
      "execution_count": null,
      "metadata": {
        "id": "8eTNz1nx546l"
      },
      "outputs": [],
      "source": [
        "df_shoppingCart_final.drop(df_shoppingCart_final.loc[~df_shoppingCart_final['email'].str.contains('@')].index, inplace=True)"
      ]
    },
    {
      "cell_type": "code",
      "execution_count": null,
      "metadata": {
        "id": "TCn3ICumK4rc"
      },
      "outputs": [],
      "source": [
        "df_shoppingCart_final['dominio'] = df_shoppingCart_final['email'].apply(lambda x: x.split('@')[1])"
      ]
    },
    {
      "cell_type": "code",
      "execution_count": null,
      "metadata": {
        "id": "hlsr7Sd_K4rd"
      },
      "outputs": [],
      "source": [
        "df_shoppingCart_final['dominio'].unique()"
      ]
    },
    {
      "cell_type": "code",
      "execution_count": null,
      "metadata": {
        "id": "XjHMMSm0K4rd"
      },
      "outputs": [],
      "source": [
        "df_soulcode = df_shoppingCart_final.loc[(df_shoppingCart_final['dominio'] == 'soulcode.com') |\n",
        "                                        (df_shoppingCart_final['dominio'] == 'teste.com') |\n",
        "                                        (df_shoppingCart_final['dominio'] == 'teste.com.br')\n",
        "                                         ]\n",
        "df_soulcode"
      ]
    },
    {
      "cell_type": "code",
      "execution_count": null,
      "metadata": {
        "id": "98FtSUvrK4rd"
      },
      "outputs": [],
      "source": [
        "df_soulcode.groupby('dominio').size()"
      ]
    },
    {
      "cell_type": "code",
      "execution_count": null,
      "metadata": {
        "id": "M_8naLklK4re"
      },
      "outputs": [],
      "source": [
        "df_shoppingCart_final.info()"
      ]
    },
    {
      "cell_type": "code",
      "execution_count": null,
      "metadata": {
        "id": "xBci8WiIK4re"
      },
      "outputs": [],
      "source": [
        "for dominio in list(df_soulcode['dominio'].unique()):\n",
        "  df_shoppingCart_final = df_shoppingCart_final.loc[df_shoppingCart_final['dominio'] != dominio]"
      ]
    },
    {
      "cell_type": "code",
      "execution_count": null,
      "metadata": {
        "id": "cFQD0xe8K4re"
      },
      "outputs": [],
      "source": [
        "df_shoppingCart_final.info()"
      ]
    },
    {
      "cell_type": "markdown",
      "metadata": {
        "id": "Dj7dVEf-Xrur"
      },
      "source": [
        "## Pré Análise e Insights Iniciais"
      ]
    },
    {
      "cell_type": "code",
      "execution_count": null,
      "metadata": {
        "id": "u076PCSBYC0g"
      },
      "outputs": [],
      "source": [
        "df_shoppingCart_final.head(20)"
      ]
    },
    {
      "cell_type": "markdown",
      "metadata": {
        "id": "LVyAUVs-boYm"
      },
      "source": [
        "###Status dos pedidos"
      ]
    },
    {
      "cell_type": "code",
      "execution_count": null,
      "metadata": {
        "id": "IS7c65IP6VT0"
      },
      "outputs": [],
      "source": [
        "df_shoppingCart_final.info()"
      ]
    },
    {
      "cell_type": "code",
      "execution_count": null,
      "metadata": {
        "id": "CHkK6X1yYPbw"
      },
      "outputs": [],
      "source": [
        "#Status dos pedidos por quantidade\n",
        "df_shoppingCart_final.groupby('status_compra').size()"
      ]
    },
    {
      "cell_type": "code",
      "execution_count": null,
      "metadata": {
        "id": "Z_xLzYv5ZJDU"
      },
      "outputs": [],
      "source": [
        "##Status dos pedidos por percentual\n",
        "df_shoppingCart_final['status_compra'].value_counts(normalize=True)*100"
      ]
    },
    {
      "cell_type": "code",
      "execution_count": null,
      "metadata": {
        "id": "xe-5PP9f7M0k"
      },
      "outputs": [],
      "source": [
        "df_shoppingCart_final['status_compra'].value_counts(normalize=True).plot.pie(autopct='%1.1f%%')"
      ]
    },
    {
      "cell_type": "markdown",
      "metadata": {
        "id": "9mDx-81tb1sF"
      },
      "source": [
        "###Taxa de abandono de carrinho"
      ]
    },
    {
      "cell_type": "code",
      "execution_count": null,
      "metadata": {
        "id": "b_bO__pqb0Bg"
      },
      "outputs": [],
      "source": [
        "len(df_shoppingCart_final.loc[df_shoppingCart_final['status_compra']=='ABANDONADO'])/len(df_shoppingCart_final['shoppingCart_id'])*100"
      ]
    },
    {
      "cell_type": "markdown",
      "metadata": {
        "id": "Mhbzbn0uc_Qc"
      },
      "source": [
        "###Status pedidos x tipo de plano"
      ]
    },
    {
      "cell_type": "code",
      "execution_count": null,
      "metadata": {
        "id": "a8VdpMABc1bW"
      },
      "outputs": [],
      "source": [
        "for item in list(df_shoppingCart_final['status_compra'].unique()):\n",
        "  print(f'Status do Pedido: {item}')\n",
        "  print(df_shoppingCart_final.loc[df_shoppingCart_final['status_compra']==item].groupby('nome_plano')['shoppingCart_id'].size())\n",
        "  print('')"
      ]
    },
    {
      "cell_type": "markdown",
      "metadata": {
        "id": "4h247iLifNQh"
      },
      "source": [
        "OBS: o total de pedidos por plano não é igual ao total de pedidos por status, o df tem 5378 linhas ao todo, mas a coluna planName possui apenas 1324 linhas non-null"
      ]
    },
    {
      "cell_type": "markdown",
      "metadata": {
        "id": "Mw_YiQBKgnL4"
      },
      "source": [
        "###Status pedidos x status integração"
      ]
    },
    {
      "cell_type": "code",
      "execution_count": null,
      "metadata": {
        "id": "XGbQ3kgjez0R"
      },
      "outputs": [],
      "source": [
        "for item in list(df_shoppingCart_final['status_compra'].unique()):\n",
        "  print(f'Status do Pedido: {item}')\n",
        "  print(df_shoppingCart_final.loc[df_shoppingCart_final['status_compra']==item].groupby('status_integracao').size())\n",
        "  print('')"
      ]
    },
    {
      "cell_type": "markdown",
      "metadata": {
        "id": "KmICde7IjWpg"
      },
      "source": [
        "###Status pedidos x Montante(R$)"
      ]
    },
    {
      "cell_type": "code",
      "execution_count": null,
      "metadata": {
        "id": "1rST6pDAiwWN"
      },
      "outputs": [],
      "source": [
        "df_shoppingCart_final.groupby('status_compra')['preco'].sum()"
      ]
    },
    {
      "cell_type": "code",
      "execution_count": null,
      "metadata": {
        "id": "6ZROP8-D67fM"
      },
      "outputs": [],
      "source": [
        "df_shoppingCart_final.groupby('status_compra')['preco'].sum().plot.bar()"
      ]
    },
    {
      "cell_type": "markdown",
      "metadata": {
        "id": "jXY8rcuUJuAp"
      },
      "source": [
        "## Conclusões da Pré Análise"
      ]
    },
    {
      "cell_type": "markdown",
      "metadata": {
        "id": "DP170-f5LFZN"
      },
      "source": [
        "- A maior parte dos pedidos está na categoria \"Abandoned\", indicando um possível problema com o abandono do carrinho (a taxa de abandono é de 67,9%)\n",
        "- A maioria dos pedidos \"Abandoned\" e \"Failure\" foram feitos nos planos \"Assinatura Tech Social ou Aluno\" e \"Assinatura Tech Social ou Aluno + Assinatura Mulher\". Enquanto isso, a maioria dos pedidos \"Success\" foi feita no plano \"Assinatura Tech Social ou Aluno\".   \n",
        "- A maioria dos pedidos \"Abandoned\" está no status \"Waiting\" de integração, o que pode indincar um possível problema no processo de integração com a plataforma de pagamento.   \n",
        "- O montante total de pedidos \"Abandoned\" é significativamente maior do que os outros status de pedidos, o que nos indica que a diminuição da taxa de abandono de carrinho pode incorrer em uma diferença considerável no faturamento da empresa."
      ]
    },
    {
      "cell_type": "markdown",
      "metadata": {
        "id": "v3nbam0hQF9P"
      },
      "source": [
        "## Validação dos dados com o SCHEMA"
      ]
    },
    {
      "cell_type": "code",
      "execution_count": null,
      "metadata": {
        "id": "EQZa6SbXQNbo"
      },
      "outputs": [],
      "source": [
        "df_shoppingCart_final.info()"
      ]
    },
    {
      "cell_type": "code",
      "execution_count": null,
      "metadata": {
        "id": "0NOKteuPQM1G"
      },
      "outputs": [],
      "source": [
        "schema_shoppingCart_final = pa.DataFrameSchema({\n",
        "    \"shoppingCart_id\": pa.Column(pa.String),\n",
        "    \"email\": pa.Column(pa.String),\n",
        "    \"status_integracao\": pa.Column(pa.String),\n",
        "    \"status_compra\": pa.Column(pa.String),\n",
        "    \"data\": pa.Column(pa.DateTime),\n",
        "    \"nome_plano\": pa.Column(pa.String, nullable=True),\n",
        "    \"preco\": pa.Column(pa.Float, nullable=True),\n",
        "    \"forma_pagamento\": pa.Column(pa.String, nullable=True),\n",
        "    \"assinatura_id\": pa.Column(pa.String, nullable=True),\n",
        "    \"cliente_id\": pa.Column(pa.String, nullable=True)\n",
        "})"
      ]
    },
    {
      "cell_type": "code",
      "execution_count": null,
      "metadata": {
        "id": "jzW15IV1QSt4"
      },
      "outputs": [],
      "source": [
        "df_carrinho = schema_shoppingCart_final.validate(df_shoppingCart_final)"
      ]
    },
    {
      "cell_type": "markdown",
      "metadata": {
        "id": "OrpJGhE0kDfn"
      },
      "source": [
        "#Collection Subscriptions"
      ]
    },
    {
      "cell_type": "markdown",
      "metadata": {
        "id": "20dVZN3DkKF8"
      },
      "source": [
        "##Extração"
      ]
    },
    {
      "cell_type": "code",
      "execution_count": null,
      "metadata": {
        "id": "DyRmn3cKkh5i"
      },
      "outputs": [],
      "source": [
        "db = firestore.client()\n",
        "\n",
        "docs = db.collection('subscriptions').stream()\n",
        "\n",
        "data = []\n",
        "for doc in docs:\n",
        "    data.append(doc.to_dict())\n",
        "\n",
        "df_subscriptions = pd.DataFrame(data)"
      ]
    },
    {
      "cell_type": "code",
      "execution_count": null,
      "metadata": {
        "id": "HxPg83kLkrMb"
      },
      "outputs": [],
      "source": [
        "pd.set_option('display.max_columns', 200)"
      ]
    },
    {
      "cell_type": "code",
      "execution_count": null,
      "metadata": {
        "id": "1xUh5LuJkrit"
      },
      "outputs": [],
      "source": [
        "df_subscriptions.head(20)"
      ]
    },
    {
      "cell_type": "code",
      "execution_count": null,
      "metadata": {
        "id": "KBndk-o_QlYm"
      },
      "outputs": [],
      "source": [
        "df_subscriptions.info()"
      ]
    },
    {
      "cell_type": "markdown",
      "metadata": {
        "id": "ALGXmNFJk_wN"
      },
      "source": [
        "##Tratamento"
      ]
    },
    {
      "cell_type": "markdown",
      "metadata": {
        "id": "Hc4k_YdZOJ0Q"
      },
      "source": [
        "###Remover colunas nulas"
      ]
    },
    {
      "cell_type": "code",
      "execution_count": null,
      "metadata": {
        "id": "uMAnS_hUOX-p"
      },
      "outputs": [],
      "source": [
        "colunas_nulas_subscriptions = []\n",
        "total_nulos_subscriptions = 0\n",
        "\n",
        "for c in list(df_subscriptions.columns):\n",
        "  if df_subscriptions[c].count() == 0:\n",
        "    colunas_nulas_subscriptions.append(c)\n",
        "    print(c)\n",
        "    total_nulos_subscriptions += 1\n",
        "print(f'Total de colunas nulas: {total_nulos_subscriptions}')"
      ]
    },
    {
      "cell_type": "code",
      "execution_count": null,
      "metadata": {
        "id": "-0eGwPH7Q33L"
      },
      "outputs": [],
      "source": [
        "df_subscriptions.dropna(axis=1, how='all', inplace=True)"
      ]
    },
    {
      "cell_type": "code",
      "execution_count": null,
      "metadata": {
        "id": "iDLj7gp5RHE0"
      },
      "outputs": [],
      "source": [
        "df_subscriptions.info()"
      ]
    },
    {
      "cell_type": "markdown",
      "metadata": {
        "id": "oimWHu5dxPpB"
      },
      "source": [
        "###Identificação das colunas principais"
      ]
    },
    {
      "cell_type": "code",
      "execution_count": null,
      "metadata": {
        "id": "AilQVjcMNdDL"
      },
      "outputs": [],
      "source": [
        "df_subscriptions = df_subscriptions[['id',\n",
        "                                    'customer_id',\n",
        "                                    'customer_name',\n",
        "                                    'customer_email',\n",
        "                                    'created_at',\n",
        "                                    'updated_at',\n",
        "                                    'expires_at',\n",
        "                                    'plan_identifier',\n",
        "                                    'active',\n",
        "                                    'suspended',\n",
        "                                    'payable_with',\n",
        "                                    'recent_invoices',\n",
        "                                    'custom_variables',\n",
        "                                    'subitems',\n",
        "                                    'logs'\n",
        "                                    ]]"
      ]
    },
    {
      "cell_type": "code",
      "execution_count": null,
      "metadata": {
        "id": "G-yex1lh7wJ8"
      },
      "outputs": [],
      "source": [
        "'''\n",
        "Abaixo percebemos que para um mesmo customer_id haviam vários registros,\n",
        "referentes às atualizações da assinatura. Optamos por ordená-los com base na data\n",
        "de atualização e manter o último registro, preservando apenas a informação\n",
        "da situação atual daquela assinatura.\n",
        "'''"
      ]
    },
    {
      "cell_type": "code",
      "execution_count": null,
      "metadata": {
        "id": "OmyguyunNj6C"
      },
      "outputs": [],
      "source": [
        "df_subscriptions = df_subscriptions.sort_values(by=['updated_at'])\n",
        "df_subscriptions = df_subscriptions.drop_duplicates(['customer_id'], keep='last')"
      ]
    },
    {
      "cell_type": "code",
      "execution_count": null,
      "metadata": {
        "id": "Ftyzc8YmNnBz"
      },
      "outputs": [],
      "source": [
        "df_subscriptions"
      ]
    },
    {
      "cell_type": "markdown",
      "metadata": {
        "id": "Z9QTQHr0U9ka"
      },
      "source": [
        "###Extração das subcollections"
      ]
    },
    {
      "cell_type": "code",
      "execution_count": null,
      "metadata": {
        "id": "zGNISV9xNolz"
      },
      "outputs": [],
      "source": [
        "#extração da coluna subitems\n",
        "df_subitems = df_subscriptions['subitems'].apply(pd.Series)\n",
        "df_subitems"
      ]
    },
    {
      "cell_type": "code",
      "execution_count": null,
      "metadata": {
        "id": "z5mwMhGBNq3K"
      },
      "outputs": [],
      "source": [
        "#extração da coluna custom_variables\n",
        "df_custom_variables = df_subscriptions['custom_variables'].apply(pd.Series)\n",
        "df_custom_variables"
      ]
    },
    {
      "cell_type": "code",
      "execution_count": null,
      "metadata": {
        "id": "Sb-3ErCJNt_j"
      },
      "outputs": [],
      "source": [
        "#extração da coluna recent_invoices\n",
        "df_recent_invoices = df_subscriptions['recent_invoices'].apply(pd.Series)\n",
        "df_recent_invoices"
      ]
    },
    {
      "cell_type": "markdown",
      "metadata": {
        "id": "wig_Hwo0Sbqg"
      },
      "source": [
        "#### Extrair informações sobre promoções e descontos de Subitems"
      ]
    },
    {
      "cell_type": "code",
      "execution_count": null,
      "metadata": {
        "id": "0pyLNJEaShiY"
      },
      "outputs": [],
      "source": [
        "'''\n",
        "PASSO: percorrer colunas do df_subitems em busca de valores para a chave description.\n",
        "Cada celula do DF é um dicionário com chave:valor correspondente ao subitem que compõe um assinatura\n",
        "\n",
        "Os subitems atuais podem ser:\n",
        "1 - Ebooks\n",
        "2 - Serviços\n",
        "3 - Lote promocional\n",
        "4 - Desconto\n",
        "'''"
      ]
    },
    {
      "cell_type": "code",
      "execution_count": null,
      "metadata": {
        "id": "usw5tXwlOVkK"
      },
      "outputs": [],
      "source": [
        "#Filtro para encontrar os valores quando a chave description for referente ao lote\n",
        "def filtro_lote(x):\n",
        "  for c in list(df_subitems.columns):\n",
        "    if pd.isna(x[c]):\n",
        "      continue\n",
        "    elif x[c]['description'][:4] == 'Lote':\n",
        "      return x[c]['description']"
      ]
    },
    {
      "cell_type": "code",
      "execution_count": null,
      "metadata": {
        "id": "3AXe2kyBSlr3"
      },
      "outputs": [],
      "source": [
        "#Criação da Coluna Lote no df_subitems\n",
        "df_subitems['lote_promocional'] = df_subitems.apply(filtro_lote, axis=1)"
      ]
    },
    {
      "cell_type": "code",
      "execution_count": null,
      "metadata": {
        "id": "6RqSZVsqSqb4"
      },
      "outputs": [],
      "source": [
        "##Valores unicos para a variavel lote:\n",
        "list(df_subitems['lote_promocional'].unique())"
      ]
    },
    {
      "cell_type": "code",
      "execution_count": null,
      "metadata": {
        "id": "L2a5ByxBSt9n"
      },
      "outputs": [],
      "source": [
        "##Para algumas assinaturas a composição de subitems não inclui o lote promocional, nesses casos a assinatura é composta de Ebooks + Serviços + Desconto\n",
        "##nesse caso vamos substituir o None por sem promoção:\n",
        "df_subitems['lote_promocional'] = df_subitems['lote_promocional'].apply(lambda x: 'Sem Promoção' if x is None else x)"
      ]
    },
    {
      "cell_type": "code",
      "execution_count": null,
      "metadata": {
        "id": "tH9TDoVrS2T_"
      },
      "outputs": [],
      "source": [
        "#Filtro para encontrar os valores quando a chave description for referente ao desconto\n",
        "#como o df_subitems tem uma nova col (lote) que não é um dict, temos que deixá-la de fora do loop\n",
        "\n",
        "def filtro_desconto(x):\n",
        "  for c in range(4):\n",
        "    if pd.isna(x[c]):\n",
        "      continue\n",
        "    elif x[c]['description'][:4] == 'Desc':\n",
        "      return x[c]['description']"
      ]
    },
    {
      "cell_type": "code",
      "execution_count": null,
      "metadata": {
        "id": "jay--CzqS34p"
      },
      "outputs": [],
      "source": [
        "#Criação da Coluna desconto no df_subitems\n",
        "df_subitems['desconto'] = df_subitems.apply(filtro_desconto, axis=1)"
      ]
    },
    {
      "cell_type": "code",
      "execution_count": null,
      "metadata": {
        "id": "jsNa60jCS5FO"
      },
      "outputs": [],
      "source": [
        "##Valores unicos para a variavel desconto:\n",
        "list(df_subitems['desconto'].unique())"
      ]
    },
    {
      "cell_type": "code",
      "execution_count": null,
      "metadata": {
        "id": "cBW74d16S6jv"
      },
      "outputs": [],
      "source": [
        "df_subitems['desconto'] = df_subitems['desconto'].apply(lambda x: 'Sem Desconto' if x is None else x)"
      ]
    },
    {
      "cell_type": "code",
      "execution_count": null,
      "metadata": {
        "id": "-k9Cw2r4S8mu"
      },
      "outputs": [],
      "source": [
        "def filtro_campanha(x):\n",
        "  if x['lote_promocional'] == 'Sem Promoção' and x['desconto'] == 'Sem Desconto':\n",
        "    return 'Padrão'\n",
        "  elif x['lote_promocional'] != 'Sem Promoção' and x['desconto'] == 'Sem Desconto':\n",
        "    return 'Lote Promocional'\n",
        "  elif x['lote_promocional'] == 'Sem Promoção' and x['desconto'] != 'Sem Desconto':\n",
        "    return 'Desconto'\n",
        "  else:\n",
        "    return 'Lote Promocional + Desconto'"
      ]
    },
    {
      "cell_type": "code",
      "execution_count": null,
      "metadata": {
        "id": "NC37epyiS99v"
      },
      "outputs": [],
      "source": [
        "df_subitems['campanha'] = df_subitems.apply(filtro_campanha, axis=1)"
      ]
    },
    {
      "cell_type": "code",
      "execution_count": null,
      "metadata": {
        "id": "_AfOOTECS_Qv"
      },
      "outputs": [],
      "source": [
        "##Valores unicos para a variavel campanha:\n",
        "list(df_subitems['campanha'].unique())"
      ]
    },
    {
      "cell_type": "code",
      "execution_count": null,
      "metadata": {
        "id": "HquGuCtLTAp2"
      },
      "outputs": [],
      "source": [
        "df_subitems.info()"
      ]
    },
    {
      "cell_type": "code",
      "execution_count": null,
      "metadata": {
        "id": "Ka0tjNfqTCr_"
      },
      "outputs": [],
      "source": [
        "# PASSO: Concatenar df_subscriptions e df_subitems em um único df\n",
        "df_subscriptions_geral = pd.concat([df_subscriptions,df_subitems.drop(df_subitems.columns[[0,1,2,3]],axis=1)], axis=1)"
      ]
    },
    {
      "cell_type": "code",
      "execution_count": null,
      "metadata": {
        "id": "xnwtxDBGTD98"
      },
      "outputs": [],
      "source": [
        "df_subscriptions_geral"
      ]
    },
    {
      "cell_type": "markdown",
      "metadata": {
        "id": "_Yih9fZcTIHm"
      },
      "source": [
        "#### Extrair informações de venda da Custom_variables"
      ]
    },
    {
      "cell_type": "code",
      "execution_count": null,
      "metadata": {
        "id": "6W5efnrhTNwf"
      },
      "outputs": [],
      "source": [
        "df_custom_variables[0].apply(pd.Series)"
      ]
    },
    {
      "cell_type": "code",
      "execution_count": null,
      "metadata": {
        "id": "XUxkGRaHTPc-"
      },
      "outputs": [],
      "source": [
        "df_custom_variables[0].apply(pd.Series).pivot(columns='name', values='value')"
      ]
    },
    {
      "cell_type": "code",
      "execution_count": null,
      "metadata": {
        "id": "n3Ld-b_aTT92"
      },
      "outputs": [],
      "source": [
        "def filtro_venda(x):\n",
        "  for c in range(len(x)):\n",
        "    if x[c]['name'] == 'sale_type':\n",
        "      return x[c]['value']"
      ]
    },
    {
      "cell_type": "code",
      "execution_count": null,
      "metadata": {
        "id": "gzcgY8B8TVO3"
      },
      "outputs": [],
      "source": [
        "df_custom_variables['tipo_venda'] = df_custom_variables.apply(filtro_venda, axis=1)"
      ]
    },
    {
      "cell_type": "code",
      "execution_count": null,
      "metadata": {
        "id": "LFb4KnZ_TWi-"
      },
      "outputs": [],
      "source": [
        "df_custom_variables.info()"
      ]
    },
    {
      "cell_type": "code",
      "execution_count": null,
      "metadata": {
        "id": "WhaPWeRZTXyn"
      },
      "outputs": [],
      "source": [
        "df_custom_variables['tipo_venda'].unique()"
      ]
    },
    {
      "cell_type": "code",
      "execution_count": null,
      "metadata": {
        "id": "O_S4lF17TZLP"
      },
      "outputs": [],
      "source": [
        "def filtro_canal(x):\n",
        "  colunas = [0,2,3,4,5,6,7,8]\n",
        "  for c in colunas:\n",
        "    if pd.isna(x[c]):\n",
        "      continue\n",
        "    elif x[c]['name'] == 'channel':\n",
        "      if x[c]['value'] == 'null':\n",
        "        return None\n",
        "      else:\n",
        "        return x[c]['value']"
      ]
    },
    {
      "cell_type": "code",
      "execution_count": null,
      "metadata": {
        "id": "q_JMWyf1Tam3"
      },
      "outputs": [],
      "source": [
        "df_custom_variables['canal'] = df_custom_variables.apply(filtro_canal, axis=1)"
      ]
    },
    {
      "cell_type": "code",
      "execution_count": null,
      "metadata": {
        "id": "b2NM7_qjTceP"
      },
      "outputs": [],
      "source": [
        "df_custom_variables.info()"
      ]
    },
    {
      "cell_type": "code",
      "execution_count": null,
      "metadata": {
        "id": "_xj5DyHXTeAX"
      },
      "outputs": [],
      "source": [
        "df_custom_variables['canal'].unique()"
      ]
    },
    {
      "cell_type": "code",
      "execution_count": null,
      "metadata": {
        "id": "LjM330l4TfW_"
      },
      "outputs": [],
      "source": [
        "df_custom_variables[['tipo_venda','canal']]"
      ]
    },
    {
      "cell_type": "code",
      "execution_count": null,
      "metadata": {
        "id": "nVBHwY2CTi7G"
      },
      "outputs": [],
      "source": [
        "# PASSO: Concatenar df_subscriptions_geral e df_custom_variables em um único df\n",
        "df_subscriptions_geral = pd.concat([df_subscriptions_geral,df_custom_variables[['tipo_venda','canal']]], axis=1)"
      ]
    },
    {
      "cell_type": "markdown",
      "metadata": {
        "id": "bWeYtOrhTkx4"
      },
      "source": [
        "#### Extrair status da fatura mais recente de Recent_invoice"
      ]
    },
    {
      "cell_type": "code",
      "execution_count": null,
      "metadata": {
        "id": "X_hY83wATmcf"
      },
      "outputs": [],
      "source": [
        "df_recent_invoices"
      ]
    },
    {
      "cell_type": "code",
      "execution_count": null,
      "metadata": {
        "id": "UdhyALaDTn6G"
      },
      "outputs": [],
      "source": [
        "df_recent_invoices[0].apply(pd.Series)"
      ]
    },
    {
      "cell_type": "code",
      "execution_count": null,
      "metadata": {
        "id": "Z8lhM5I8TvWW"
      },
      "outputs": [],
      "source": [
        "def filtro_status_fatura(x):\n",
        "  for c in list(df_recent_invoices.columns):\n",
        "    if pd.isna(x[c]):\n",
        "      continue\n",
        "    else:\n",
        "      return x[c]['status']"
      ]
    },
    {
      "cell_type": "code",
      "execution_count": null,
      "metadata": {
        "id": "OtzaKrgMTwn_"
      },
      "outputs": [],
      "source": [
        "df_recent_invoices['fatura_status'] = df_recent_invoices.apply(filtro_status_fatura, axis=1)"
      ]
    },
    {
      "cell_type": "code",
      "execution_count": null,
      "metadata": {
        "id": "ZV_yqa8aTyI-"
      },
      "outputs": [],
      "source": [
        "list(df_recent_invoices['fatura_status'].unique())"
      ]
    },
    {
      "cell_type": "code",
      "execution_count": null,
      "metadata": {
        "id": "SlyxLdGlTzaX"
      },
      "outputs": [],
      "source": [
        "df_recent_invoices.info()"
      ]
    },
    {
      "cell_type": "code",
      "execution_count": null,
      "metadata": {
        "id": "VKn2pL-4T0uu"
      },
      "outputs": [],
      "source": [
        "df_subscriptions_geral = pd.concat([df_subscriptions_geral,df_recent_invoices[['fatura_status']]], axis=1)"
      ]
    },
    {
      "cell_type": "markdown",
      "metadata": {
        "id": "MmunyaS7V0_1"
      },
      "source": [
        "###Remover subcollections"
      ]
    },
    {
      "cell_type": "code",
      "execution_count": null,
      "metadata": {
        "id": "KFa1imQoruej"
      },
      "outputs": [],
      "source": [
        "#Retirando colunas\n",
        "df_subscriptions_geral.drop(['recent_invoices',\n",
        "                            'custom_variables',\n",
        "                            'subitems',\n",
        "                            'logs'],axis=1,inplace=True)"
      ]
    },
    {
      "cell_type": "markdown",
      "metadata": {
        "id": "JBSAZFnJrlbl"
      },
      "source": [
        "### Tradução"
      ]
    },
    {
      "cell_type": "code",
      "execution_count": null,
      "metadata": {
        "id": "XNeSxvRxrnI9"
      },
      "outputs": [],
      "source": [
        "df_subscriptions_geral"
      ]
    },
    {
      "cell_type": "code",
      "execution_count": null,
      "metadata": {
        "id": "cHZsMdB_rr3R"
      },
      "outputs": [],
      "source": [
        "#Traduzindo colunas\n",
        "df_subscriptions_geral.rename(columns={'id': 'assinatura_id',\n",
        "                             'customer_id': 'cliente_id',\n",
        "                             'customer_name': 'cliente_nome',\n",
        "                             'customer_email':'cliente_email',\n",
        "                             'created_at': 'criado_em',\n",
        "                             'updated_at': 'ultima_atualizacao',\n",
        "                             'expires_at': 'expira_em',\n",
        "                             'plan_identifier': 'tipo_de_plano',\n",
        "                             'active': 'ativo',\n",
        "                             'suspended': 'suspenso',\n",
        "                             'payable_with': 'a_pagar_com',\n",
        "                             'recent_invoices.status': 'fatura_status',\n",
        "                             'subitems.description': 'subitem_descricao',\n",
        "                             'logs.description': 'registro_descricao',\n",
        "                            },inplace = True)"
      ]
    },
    {
      "cell_type": "code",
      "execution_count": null,
      "metadata": {
        "id": "D8pFIB_nhi58"
      },
      "outputs": [],
      "source": []
    },
    {
      "cell_type": "code",
      "execution_count": null,
      "metadata": {
        "id": "VZJ3vP1HrwGa"
      },
      "outputs": [],
      "source": [
        "#Traduzindo dados\n",
        "df_subscriptions_geral.loc[df_subscriptions_geral.tipo_de_plano == 'assinatura_tech_social_recurring',   ['tipo_de_plano']] = 'ASSINATURA TECH SOCIAL RECORRENTE'\n",
        "df_subscriptions_geral.loc[df_subscriptions_geral.tipo_de_plano == 'assinatura_tech_geral',              ['tipo_de_plano']] = 'ASSINATURA TECH GERAL'\n",
        "df_subscriptions_geral.loc[df_subscriptions_geral.tipo_de_plano == 'assinatura_tech_geral_recurring',    ['tipo_de_plano']] = 'ASSINATURA TECH GERAL RECORRENTE'\n",
        "df_subscriptions_geral.loc[df_subscriptions_geral.tipo_de_plano == 'assinatura_tech_social',             ['tipo_de_plano']] = 'ASSINATURA TECH SOCIAL'\n",
        "\n",
        "df_subscriptions_geral.loc[df_subscriptions_geral.a_pagar_com == 'credit_card',   ['a_pagar_com']] = 'CARTÃO DE CRÉDITO'\n",
        "df_subscriptions_geral.loc[df_subscriptions_geral.a_pagar_com == 'bank_slip',     ['a_pagar_com']] = 'BOLETO BANCÁRIO'\n",
        "df_subscriptions_geral.loc[df_subscriptions_geral.a_pagar_com == 'pix',           ['a_pagar_com']] = 'PIX'\n",
        "\n",
        "df_subscriptions_geral.loc[df_subscriptions_geral.fatura_status == 'canceled',               ['fatura_status']] = 'CANCELADO'\n",
        "df_subscriptions_geral.loc[df_subscriptions_geral.fatura_status == 'paid',                   ['fatura_status']] = 'PAGO'\n",
        "df_subscriptions_geral.loc[df_subscriptions_geral.fatura_status == 'expired',                ['fatura_status']] = 'EXPIRADO'\n",
        "df_subscriptions_geral.loc[df_subscriptions_geral.fatura_status == 'refunded',               ['fatura_status']] = 'REEMBOLSADO'\n",
        "df_subscriptions_geral.loc[df_subscriptions_geral.fatura_status == 'pending',                ['fatura_status']] = 'PENDENTE'\n",
        "df_subscriptions_geral.loc[df_subscriptions_geral.fatura_status == 'partially_refunded',     ['fatura_status']] = 'PARCIALMENTE REEMBOLSADO'\n",
        "df_subscriptions_geral.loc[df_subscriptions_geral.fatura_status == 'chargeback',             ['fatura_status']] = 'ESTORNO'\n",
        "df_subscriptions_geral.loc[df_subscriptions_geral.fatura_status == 'in_protest',             ['fatura_status']] = 'EM PROTESTO'\n",
        "\n",
        "\n",
        "df_subscriptions_geral['cliente_nome'] = df_subscriptions_geral['cliente_nome'].str.upper()\n",
        "df_subscriptions_geral['lote_promocional'] = df_subscriptions_geral['lote_promocional'].str.upper()\n",
        "df_subscriptions_geral['desconto'] = df_subscriptions_geral['desconto'].str.upper()\n",
        "df_subscriptions_geral['campanha'] = df_subscriptions_geral['campanha'].str.upper()\n",
        "df_subscriptions_geral['tipo_venda'] = df_subscriptions_geral['tipo_venda'].str.upper()\n",
        "df_subscriptions_geral['canal'] = df_subscriptions_geral['canal'].str.upper()\n"
      ]
    },
    {
      "cell_type": "code",
      "execution_count": null,
      "metadata": {
        "id": "EBGCbtPUrzwL"
      },
      "outputs": [],
      "source": [
        "df_subscriptions_geral.info()"
      ]
    },
    {
      "cell_type": "code",
      "execution_count": null,
      "metadata": {
        "id": "ZRUymsnzsXI9"
      },
      "outputs": [],
      "source": [
        "df_subscriptions_geral['tipo_venda'] = df_subscriptions_geral['tipo_de_plano'].apply(lambda x: 'RECORRENTE' if 'RECORRENTE' in x else 'GARANTIDA')"
      ]
    },
    {
      "cell_type": "code",
      "execution_count": null,
      "metadata": {
        "id": "lbwvG_nur18b"
      },
      "outputs": [],
      "source": [
        "df_subscriptions_geral"
      ]
    },
    {
      "cell_type": "markdown",
      "metadata": {
        "id": "hIvVyhg_r526"
      },
      "source": [
        "### Identificação e Remoção da equipe soulcode da base de clientes"
      ]
    },
    {
      "cell_type": "code",
      "execution_count": null,
      "metadata": {
        "id": "ynOueCWtr9J7"
      },
      "outputs": [],
      "source": [
        "df_subscriptions_geral['dominio'] = df_subscriptions_geral['cliente_email'].apply(lambda x: x.split('@')[1])"
      ]
    },
    {
      "cell_type": "code",
      "execution_count": null,
      "metadata": {
        "id": "YPoUbygir-Tr"
      },
      "outputs": [],
      "source": [
        "df_subscriptions_geral['dominio'].unique()"
      ]
    },
    {
      "cell_type": "code",
      "execution_count": null,
      "metadata": {
        "id": "KhWPb_BEr_0K"
      },
      "outputs": [],
      "source": [
        "df_soulcode = df_subscriptions_geral.loc[(df_subscriptions_geral['dominio'] == 'soulcode.com') |\n",
        "                                        (df_subscriptions_geral['dominio'] == 'teste.com') |\n",
        "                                        (df_subscriptions_geral['dominio'] == 'teste.com.br')\n",
        "                                         ]\n",
        "df_soulcode"
      ]
    },
    {
      "cell_type": "code",
      "execution_count": null,
      "metadata": {
        "id": "8WOjIGqZsEUb"
      },
      "outputs": [],
      "source": [
        "df_soulcode.groupby('dominio').size()"
      ]
    },
    {
      "cell_type": "code",
      "execution_count": null,
      "metadata": {
        "id": "vDdgGQvTsFg7"
      },
      "outputs": [],
      "source": [
        "df_subscriptions_geral.info()"
      ]
    },
    {
      "cell_type": "code",
      "execution_count": null,
      "metadata": {
        "id": "FjNS6_-2sHBC"
      },
      "outputs": [],
      "source": [
        "for dominio in list(df_soulcode['dominio'].unique()):\n",
        "  df_subscriptions_geral = df_subscriptions_geral.loc[df_subscriptions_geral['dominio'] != dominio]"
      ]
    },
    {
      "cell_type": "code",
      "execution_count": null,
      "metadata": {
        "id": "SjjtMdxJsIka"
      },
      "outputs": [],
      "source": [
        "df_subscriptions_geral.info()"
      ]
    },
    {
      "cell_type": "markdown",
      "metadata": {
        "id": "kPi6rcIDHVQj"
      },
      "source": [
        "## Pré Análise e Insights Iniciais"
      ]
    },
    {
      "cell_type": "code",
      "execution_count": null,
      "metadata": {
        "id": "2ucN60Z1Lp4B"
      },
      "outputs": [],
      "source": [
        "df_subscriptions_geral.head(20)"
      ]
    },
    {
      "cell_type": "markdown",
      "metadata": {
        "id": "m9a6Q6u8KHmj"
      },
      "source": [
        "###Metodo de Pagamento mais utilizado"
      ]
    },
    {
      "cell_type": "code",
      "execution_count": null,
      "metadata": {
        "id": "5S6vBaL1Havg"
      },
      "outputs": [],
      "source": [
        "df_subscriptions_geral.groupby('a_pagar_com').size()"
      ]
    },
    {
      "cell_type": "code",
      "execution_count": null,
      "metadata": {
        "id": "9QZruZTI71z_"
      },
      "outputs": [],
      "source": [
        "df_subscriptions_geral.groupby('a_pagar_com').size().plot.bar()"
      ]
    },
    {
      "cell_type": "markdown",
      "metadata": {
        "id": "P8rsOYZ7NDAA"
      },
      "source": [
        "OBS: o número de assinutauras é 5.000 porém só temos 2.731 clientes únicos. Um cliente pode ter mais de uma assinatura?"
      ]
    },
    {
      "cell_type": "markdown",
      "metadata": {
        "id": "c5yrYyHiN87H"
      },
      "source": [
        "###Metodo de Pagamento x tipo de plano"
      ]
    },
    {
      "cell_type": "code",
      "execution_count": null,
      "metadata": {
        "id": "pnyPtwtfMo7P"
      },
      "outputs": [],
      "source": [
        "df_subscriptions_geral.groupby(['a_pagar_com','tipo_de_plano']).size()"
      ]
    },
    {
      "cell_type": "markdown",
      "metadata": {
        "id": "KkP5_4DuO0bO"
      },
      "source": [
        "###Planos Ativos"
      ]
    },
    {
      "cell_type": "code",
      "execution_count": null,
      "metadata": {
        "id": "sr3bCAL0M4nN"
      },
      "outputs": [],
      "source": [
        "df_subscriptions_geral.groupby('ativo').size()"
      ]
    },
    {
      "cell_type": "code",
      "execution_count": null,
      "metadata": {
        "id": "mBPsJ_4oOfgS"
      },
      "outputs": [],
      "source": [
        "df_subscriptions_geral['ativo'].value_counts(normalize=True)*100"
      ]
    },
    {
      "cell_type": "code",
      "execution_count": null,
      "metadata": {
        "id": "s0kqM9qN8A7Q"
      },
      "outputs": [],
      "source": [
        "df_subscriptions_geral.groupby('ativo').size().plot.pie(autopct='%1.1f%%')"
      ]
    },
    {
      "cell_type": "markdown",
      "metadata": {
        "id": "g9_2IPoBPu0c"
      },
      "source": [
        "###Planos Ativos x Suspensos"
      ]
    },
    {
      "cell_type": "code",
      "execution_count": null,
      "metadata": {
        "id": "7Z1utqraPO4x"
      },
      "outputs": [],
      "source": [
        "df_subscriptions_geral.groupby(['ativo','suspenso']).size()"
      ]
    },
    {
      "cell_type": "code",
      "execution_count": null,
      "metadata": {
        "id": "GQsrfbrcP2Wh"
      },
      "outputs": [],
      "source": [
        "df_subscriptions_geral.loc[df_subscriptions_geral['ativo']==True]['suspenso'].value_counts(normalize=True)*100"
      ]
    },
    {
      "cell_type": "code",
      "execution_count": null,
      "metadata": {
        "id": "WAv7FAFg8LwL"
      },
      "outputs": [],
      "source": [
        "df_subscriptions_geral.groupby(['ativo','suspenso']).size().plot.pie(autopct='%1.1f%%')"
      ]
    },
    {
      "cell_type": "markdown",
      "metadata": {
        "id": "-3RGMyI8QgPC"
      },
      "source": [
        "OBS: Verificar o significado de 'suspenso'. Como pode um plano estar ativo e suspenso ao mesmo tempo?"
      ]
    },
    {
      "cell_type": "markdown",
      "metadata": {
        "id": "Dvevy7kURLeo"
      },
      "source": [
        "###Prazo de validade dos planos"
      ]
    },
    {
      "cell_type": "code",
      "execution_count": null,
      "metadata": {
        "id": "hHCLbOzoQ4cD"
      },
      "outputs": [],
      "source": [
        "df_subscriptions_geral.groupby('expira_em').size()"
      ]
    },
    {
      "cell_type": "code",
      "execution_count": null,
      "metadata": {
        "id": "CZ8mZMjh8cO8"
      },
      "outputs": [],
      "source": [
        "df_subscriptions_geral.groupby('expira_em').size().plot.line()"
      ]
    },
    {
      "cell_type": "markdown",
      "metadata": {
        "id": "e6pF4aaERTqy"
      },
      "source": [
        "OBS: Fatiar a data por mês e ano"
      ]
    },
    {
      "cell_type": "markdown",
      "metadata": {
        "id": "765vTtqd1xS6"
      },
      "source": [
        "## Conclusão da Pré Análise\n",
        "- O método de pagamento mais utilizado nas assinaturas é o cartão de crédito, seguido pelo boleto bancário e Pix.  \n",
        "- O plano \"Assinatura Tech Social\" é o mais adquirido com boleto e cartão de crédito, enquanto o plano \"Assinatura Tech Geral\" tem mais adesões com Pix.\n",
        "71,7% dos planos estão ativos, enquanto 28,3% estão suspensos.   \n",
        "- Dos planos que estão ativos, 58% estão com a mensalidade em dia (suspended = False) e 42% estão com atrasos ou não especificado (suspended = True).\n",
        "- A maioria dos planos ativos tem prazo de validade em 2024, com uma grande concentração no mês de março de 2024."
      ]
    },
    {
      "cell_type": "markdown",
      "metadata": {
        "id": "Tg60hLMkHTp_"
      },
      "source": [
        "## Validação dos dados com o SCHEMA"
      ]
    },
    {
      "cell_type": "code",
      "execution_count": null,
      "metadata": {
        "id": "Sz6CAlXPIB85"
      },
      "outputs": [],
      "source": [
        "df_subscriptions_geral.info()"
      ]
    },
    {
      "cell_type": "code",
      "execution_count": null,
      "metadata": {
        "id": "X_UELyGKHZId"
      },
      "outputs": [],
      "source": [
        "df_subscriptions_geral.replace(to_replace=\"None\", value=np.NaN, inplace=True)"
      ]
    },
    {
      "cell_type": "code",
      "execution_count": null,
      "metadata": {
        "id": "WSU2mnQcHl48"
      },
      "outputs": [],
      "source": [
        "df_subscriptions_geral[\"ativo\"] = df_subscriptions_geral[\"ativo\"].map({True: \"SIM\", False: \"NAO\"})\n",
        "df_subscriptions_geral[\"suspenso\"] = df_subscriptions_geral[\"suspenso\"].map({True: \"SIM\", False: \"NAO\"})"
      ]
    },
    {
      "cell_type": "code",
      "execution_count": null,
      "metadata": {
        "id": "mVTtaHnhIkPk"
      },
      "outputs": [],
      "source": [
        "df_subscriptions_geral['criado_em'] = df_subscriptions_geral['criado_em'].astype('datetime64[ns]')\n",
        "df_subscriptions_geral['ultima_atualizacao'] = df_subscriptions_geral['ultima_atualizacao'].astype('datetime64[ns]')"
      ]
    },
    {
      "cell_type": "code",
      "execution_count": null,
      "metadata": {
        "id": "xMa2G52NHq_k"
      },
      "outputs": [],
      "source": [
        "schema_subscriptions_geral = pa.DataFrameSchema({\n",
        "    \"assinatura_id\": pa.Column(pa.String, nullable=False),\n",
        "    \"cliente_id\": pa.Column(pa.String, nullable=False),\n",
        "    \"cliente_nome\": pa.Column(pa.String, nullable=False),\n",
        "    \"cliente_email\": pa.Column(pa.String, nullable=False),\n",
        "    \"criado_em\": pa.Column(pa.DateTime, nullable=False),\n",
        "    \"ultima_atualizacao\": pa.Column(pa.DateTime, nullable=False),\n",
        "    \"expira_em\": pa.Column(pa.String, nullable=False),\n",
        "    \"tipo_de_plano\": pa.Column(pa.String, nullable=False),\n",
        "    \"ativo\": pa.Column(pa.String, pa.Check.str_length(3,3), nullable=False),\n",
        "    \"suspenso\": pa.Column(pa.String, pa.Check.str_length(3,3), nullable=False),\n",
        "    \"a_pagar_com\": pa.Column(pa.String, nullable=False),\n",
        "    \"lote_promocional\": pa.Column(pa.String, nullable=False),\n",
        "    \"desconto\": pa.Column(pa.String, nullable=False),\n",
        "    \"campanha\": pa.Column(pa.String, nullable=False),\n",
        "    \"tipo_venda\": pa.Column(pa.String, nullable=False),\n",
        "    \"canal\": pa.Column(pa.String, nullable=True),\n",
        "    \"fatura_status\": pa.Column(pa.String, nullable=True),\n",
        "    \"dominio\": pa.Column(pa.String, nullable=False),\n",
        "})"
      ]
    },
    {
      "cell_type": "code",
      "execution_count": null,
      "metadata": {
        "id": "2YvWftJHHzuk"
      },
      "outputs": [],
      "source": [
        "df_assinaturas = schema_subscriptions_geral.validate(df_subscriptions_geral)"
      ]
    },
    {
      "cell_type": "markdown",
      "metadata": {
        "id": "qHxwHy1N-itg"
      },
      "source": [
        "#Collection Invoice"
      ]
    },
    {
      "cell_type": "markdown",
      "metadata": {
        "id": "C8FC2KQkU6NE"
      },
      "source": [
        "##Extração"
      ]
    },
    {
      "cell_type": "code",
      "execution_count": null,
      "metadata": {
        "id": "qK_-mEw23ofa"
      },
      "outputs": [],
      "source": [
        "db = firestore.client()\n",
        "\n",
        "docs = db.collection('invoices').stream()\n",
        "\n",
        "data = []\n",
        "for doc in docs:\n",
        "    data.append(doc.to_dict())\n",
        "\n",
        "df_invoices = pd.DataFrame(data)"
      ]
    },
    {
      "cell_type": "code",
      "execution_count": null,
      "metadata": {
        "id": "0HUzn1QnnTpY"
      },
      "outputs": [],
      "source": [
        "pd.set_option('display.max_columns', 200)"
      ]
    },
    {
      "cell_type": "code",
      "execution_count": null,
      "metadata": {
        "id": "-m2LF5T0nXp7"
      },
      "outputs": [],
      "source": [
        "df_invoices.head(20)"
      ]
    },
    {
      "cell_type": "code",
      "execution_count": null,
      "metadata": {
        "id": "qmnC68cm98kM"
      },
      "outputs": [],
      "source": [
        "df_invoices.info(max_cols=200)"
      ]
    },
    {
      "cell_type": "markdown",
      "metadata": {
        "id": "pfruGlh0Vdrv"
      },
      "source": [
        "##Tratamento"
      ]
    },
    {
      "cell_type": "markdown",
      "metadata": {
        "id": "x0sOtBt2CYMC"
      },
      "source": [
        "###Remover colunas nulas"
      ]
    },
    {
      "cell_type": "code",
      "execution_count": null,
      "metadata": {
        "id": "L7ThBuu2gfyL"
      },
      "outputs": [],
      "source": [
        "colunas_invoice = list(df_invoices.columns)"
      ]
    },
    {
      "cell_type": "code",
      "execution_count": null,
      "metadata": {
        "id": "ZXpCB5CTfl1y"
      },
      "outputs": [],
      "source": [
        "#verificando existência de colunas nulas\n",
        "\n",
        "colunas_nulas_invoice = []\n",
        "total_nulos_invoice = 0\n",
        "\n",
        "for c in colunas_invoice:\n",
        "  if df_invoices[c].count() == 0:\n",
        "    colunas_nulas_invoice.append(c)\n",
        "    print(c)\n",
        "    total_nulos_invoice += 1\n",
        "print(f'Total de colunas nulas: {total_nulos_invoice}')"
      ]
    },
    {
      "cell_type": "code",
      "execution_count": null,
      "metadata": {
        "id": "IJAjL3D0kPiE"
      },
      "outputs": [],
      "source": [
        "for c in colunas_invoice:\n",
        "  if c in colunas_nulas_invoice:\n",
        "    colunas_invoice.remove(c)\n",
        "\n",
        "print(len(colunas_invoice))"
      ]
    },
    {
      "cell_type": "markdown",
      "metadata": {
        "id": "duXtu1J1qahE"
      },
      "source": [
        "###Extração da subcollection Variables"
      ]
    },
    {
      "cell_type": "code",
      "execution_count": null,
      "metadata": {
        "id": "Ic0YJ4S9rVno"
      },
      "outputs": [],
      "source": [
        "df_variables = df_invoices[['id','variables']]\n",
        "df_variables"
      ]
    },
    {
      "cell_type": "code",
      "execution_count": null,
      "metadata": {
        "id": "fvS7IY_DrdcM"
      },
      "outputs": [],
      "source": [
        "variables_explode = df_variables.explode('variables')\n",
        "df_variables = pd.json_normalize(json.loads(variables_explode.to_json(orient=\"records\")))\n",
        "df_variables"
      ]
    },
    {
      "cell_type": "code",
      "execution_count": null,
      "metadata": {
        "id": "Eq9Si290rhhd"
      },
      "outputs": [],
      "source": [
        "df_variables.drop_duplicates(inplace=True)"
      ]
    },
    {
      "cell_type": "code",
      "execution_count": null,
      "metadata": {
        "id": "Kwpm3A7wrlHH"
      },
      "outputs": [],
      "source": [
        "df_variables = df_variables.pivot(index='id', columns='variables.variable', values='variables.value')\n",
        "df_variables.reset_index(inplace=True)\n",
        "df_variables"
      ]
    },
    {
      "cell_type": "code",
      "execution_count": null,
      "metadata": {
        "id": "bpXTzgQUr01x"
      },
      "outputs": [],
      "source": [
        "df_variables = df_variables[['id','subscription_id']]\n",
        "df_variables"
      ]
    },
    {
      "cell_type": "code",
      "execution_count": null,
      "metadata": {
        "id": "SlK5-3WtsyG-"
      },
      "outputs": [],
      "source": [
        "df_variables.drop(columns=['id'],inplace=True)"
      ]
    },
    {
      "cell_type": "code",
      "execution_count": null,
      "metadata": {
        "id": "qlPI_Ys1sknM"
      },
      "outputs": [],
      "source": [
        "df_invoices = pd.concat([df_invoices, df_variables], axis=1)\n",
        "df_invoices.head(20)"
      ]
    },
    {
      "cell_type": "markdown",
      "metadata": {
        "id": "2vaX464NChKV"
      },
      "source": [
        "###Remover subcollections e colunas ilegiveis"
      ]
    },
    {
      "cell_type": "code",
      "execution_count": null,
      "metadata": {
        "id": "h5Mh542WoADB"
      },
      "outputs": [],
      "source": [
        "colunas_subcollection_invoice = ['bank_slip','credit_card_transaction', 'financial_return_dates', 'logs', 'pix', 'variables', 'items']\n",
        "print(f'Qtd de Subcollections: {len(colunas_subcollection_invoice)}')"
      ]
    },
    {
      "cell_type": "code",
      "execution_count": null,
      "metadata": {
        "id": "rFItXAkQXJFa"
      },
      "outputs": [],
      "source": [
        "for c in colunas_invoice:\n",
        "  if c in colunas_subcollection_invoice:\n",
        "    colunas_invoice.remove(c)\n",
        "\n",
        "print(len(colunas_invoice))"
      ]
    },
    {
      "cell_type": "code",
      "execution_count": null,
      "metadata": {
        "id": "BoOhOHbVpthl"
      },
      "outputs": [],
      "source": [
        "colunas_ilegiveis_invoice = ['early_payment_discounts','custom_variables']\n",
        "print(f'Qtd de colunas ilegiveis: {len(colunas_ilegiveis_invoice)}')"
      ]
    },
    {
      "cell_type": "code",
      "execution_count": null,
      "metadata": {
        "id": "SZGHH6L8qMi4"
      },
      "outputs": [],
      "source": [
        "for c in colunas_invoice:\n",
        "  if c in c in colunas_ilegiveis_invoice:\n",
        "    colunas_invoice.remove(c)\n",
        "\n",
        "print(len(colunas_invoice))"
      ]
    },
    {
      "cell_type": "markdown",
      "metadata": {
        "id": "PWWAKjnHCsLW"
      },
      "source": [
        "###Identificação das colunas principais"
      ]
    },
    {
      "cell_type": "code",
      "execution_count": null,
      "metadata": {
        "id": "iesOWXX6qd8Q"
      },
      "outputs": [],
      "source": [
        "'''for c in list(colunas_invoice[:20]):\n",
        "  print(f'coluna {c}: {list(df_invoices[c].unique())}')'''\n",
        "for c in list(colunas_invoice[:20]):\n",
        "  unique_values = df_invoices[c].apply(lambda x: str(x) if isinstance(x, dict) else x).unique()\n",
        "  print(f'coluna {c}: {list(unique_values)}')"
      ]
    },
    {
      "cell_type": "code",
      "execution_count": null,
      "metadata": {
        "id": "8x9mgTBxul_c"
      },
      "outputs": [],
      "source": [
        "for c in list(colunas_invoice[20:40]):\n",
        "  print(f'coluna {c}: {list(df_invoices[c].unique())}')"
      ]
    },
    {
      "cell_type": "code",
      "execution_count": null,
      "metadata": {
        "id": "iUTpkfaK9Voq"
      },
      "outputs": [],
      "source": [
        "for c in list(colunas_invoice[40:60]):\n",
        "    try:\n",
        "        unique_values = list(df_invoices[c].unique())\n",
        "    except Exception as e:\n",
        "        print(f'Erro na coluna {c}: {str(e)}')\n",
        "        continue\n",
        "    print(f'Coluna {c}: {unique_values}')"
      ]
    },
    {
      "cell_type": "code",
      "execution_count": null,
      "metadata": {
        "id": "J9k8_HnnzrkT"
      },
      "outputs": [],
      "source": [
        "for c in list(colunas_invoice[60:]):\n",
        "  print(f'coluna {c}: {list(df_invoices[c].unique())}')"
      ]
    },
    {
      "cell_type": "code",
      "execution_count": null,
      "metadata": {
        "id": "KMXrf4ELzBVY"
      },
      "outputs": [],
      "source": [
        "colunas_invoices_principais = ['id',\n",
        "                               'customer_id',\n",
        "                               'subscription_id',\n",
        "                               'email',\n",
        "                               'status',\n",
        "                               'paid_cents',\n",
        "                               'discount_cents',\n",
        "                               'late_payment_fine',\n",
        "                               'taxes_paid_cents',\n",
        "                               'total_paid',\n",
        "                               'total_cents',\n",
        "                               'items_total_cents',\n",
        "                               'total_on_occurrence_day_cents',\n",
        "                               'refunded_cents',\n",
        "                               'total_refunded',\n",
        "                               'installments',\n",
        "                               'max_installments_value',\n",
        "                               'total_overpaid',\n",
        "                               'payable_with',\n",
        "                               'payment_method',\n",
        "                               'payer_phone_prefix',\n",
        "                               'credit_card_brand',\n",
        "                               'ignore_due_email',\n",
        "                               'refundable',\n",
        "                               'created_at_iso',\n",
        "                               'updated_at',\n",
        "                               'paid_at',\n",
        "                               'expired_at_iso',\n",
        "                               'protested_at_iso',\n",
        "                               'canceled_at_iso',\n",
        "                               'chargeback_at_iso',\n",
        "                               'refunded_at',\n",
        "                               'occurrence_date'\n",
        "                               ]\n"
      ]
    },
    {
      "cell_type": "code",
      "execution_count": null,
      "metadata": {
        "id": "2tZhwmVH0pDi"
      },
      "outputs": [],
      "source": [
        "df_invoices_final = df_invoices[colunas_invoices_principais]\n",
        "df_invoices_final.head(20)"
      ]
    },
    {
      "cell_type": "markdown",
      "metadata": {
        "id": "mq30ZGg7jNLE"
      },
      "source": [
        "###Tradução"
      ]
    },
    {
      "cell_type": "code",
      "execution_count": null,
      "metadata": {
        "id": "NTZTJimQjZpY"
      },
      "outputs": [],
      "source": [
        "df_faturas = df_invoices_final.rename(columns={\n",
        "    'id' : 'fatura_id',\n",
        "    'customer_id': 'cliente_id',\n",
        "    'subscription_id': 'assinatura_id',\n",
        "    'paid_cents': 'pago_centavos',\n",
        "    'discount_cents' : 'disconto_centavos',\n",
        "    'late_payment_fine' : 'multa_pagamento_atrasado',\n",
        "    'taxes_paid_cents' : 'imposto_pago_centavos',\n",
        "    'total_cents':'total_centavos',\n",
        "    'total_paid' : 'total_pago',\n",
        "    'items_total_cents':'items_total_centavos',\n",
        "    'total_on_occurrence_day_cents':'total_na_ocorrencia_centavos',\n",
        "    'max_installments_value':'max_parcelas',\n",
        "    'installments':'parcelas',\n",
        "    'refunded_cents':'reembolsado_centavos',\n",
        "    'total_refunded':'total_reembolsado',\n",
        "    'total_overpaid':'total_pago_em_excesso',\n",
        "    'payable_with':'a_pagar_com',\n",
        "    'payment_method':'forma_pagamento',\n",
        "    'payer_phone_prefix':'ddd',\n",
        "    'credit_card_brand':'cartao_de_credito_marca',\n",
        "    'ignore_due_email':'email_devido_ignorado',\n",
        "    'refundable':'reembolsavel',\n",
        "    'created_at_iso':'criado_em',\n",
        "    'updated_at':'atualizado_em',\n",
        "    'paid_at':'pago_em',\n",
        "    'expired_at_iso':'expirado_em',\n",
        "    'protested_at_iso':'protestado_em',\n",
        "    'canceled_at_iso':'cancelado_em',\n",
        "    'chargeback_at_iso':'chargeback_em',\n",
        "    'refunded_at':'reembolsado_em',\n",
        "    'occurrence_date':'data_ocorrencia'\n",
        "})\n"
      ]
    },
    {
      "cell_type": "code",
      "execution_count": null,
      "metadata": {
        "id": "JDW0jPuRopXM"
      },
      "outputs": [],
      "source": [
        "df_faturas.info()"
      ]
    },
    {
      "cell_type": "code",
      "execution_count": null,
      "metadata": {
        "id": "YlBFFmlS_QcF"
      },
      "outputs": [],
      "source": [
        "for c in df_faturas.columns:\n",
        "  print(f'coluna {c}: {list(df_faturas[c].unique())}')"
      ]
    },
    {
      "cell_type": "code",
      "execution_count": null,
      "metadata": {
        "id": "hDhyo7Ec_sMb"
      },
      "outputs": [],
      "source": [
        "traducoes = {\n",
        "    'canceled' : 'CANCELADO',\n",
        "    'paid' : 'PAGO',\n",
        "    'expired' : 'EXPIRADO',\n",
        "    'pending':'PENDENTE',\n",
        "    'refunded':'REEMBOLSADO',\n",
        "    'partially_refunded':'PARCIALMENTE REEMBOLSADO',\n",
        "    'chargeback':'CHARGEBACK',\n",
        "    'in_protest':'EM PROTESTO'\n",
        "\n",
        "    }\n",
        "\n",
        "for key, value in traducoes.items():\n",
        "  df_faturas.loc[df_faturas.status==key,'status'] = value"
      ]
    },
    {
      "cell_type": "code",
      "execution_count": null,
      "metadata": {
        "id": "hYm6TrjtBNFC"
      },
      "outputs": [],
      "source": [
        "traducoes = {\n",
        "    'credit_card' : 'CARTAO DE CREDITO',\n",
        "    'pix' : 'PIX',\n",
        "    'bank_slip' : 'BOLETO BANCARIO',\n",
        "    'all':'TODOS'}\n",
        "\n",
        "for key, value in traducoes.items():\n",
        "  df_faturas.loc[df_faturas.a_pagar_com==key,'a_pagar_com'] = value"
      ]
    },
    {
      "cell_type": "code",
      "execution_count": null,
      "metadata": {
        "id": "LkpmPRmPCUiU"
      },
      "outputs": [],
      "source": [
        "traducoes = {\n",
        "    'master' : 'MASTER',\n",
        "    'visa' : 'VISA',\n",
        "    'elo' : 'ELO',\n",
        "    'amex':'AMEX'}\n",
        "\n",
        "for key, value in traducoes.items():\n",
        "  df_faturas.loc[df_faturas.cartao_de_credito_marca==key,'cartao_de_credito_marca'] = value"
      ]
    },
    {
      "cell_type": "code",
      "execution_count": null,
      "metadata": {
        "id": "7_mYSw8OCmd2"
      },
      "outputs": [],
      "source": [
        "traducoes = {\n",
        "    'iugu_credit_card' : 'CARTAO DE CREDITO',\n",
        "    'iugu_pix' : 'PIX',\n",
        "    'iugu_bank_slip' : 'BOLETO BANCARIO'}\n",
        "\n",
        "for key, value in traducoes.items():\n",
        "  df_faturas.loc[df_faturas.forma_pagamento==key,'forma_pagamento'] = value"
      ]
    },
    {
      "cell_type": "markdown",
      "metadata": {
        "id": "ZE5xCNY8Bu46"
      },
      "source": [
        "### Definição da Região do Cliente com base no DDD"
      ]
    },
    {
      "cell_type": "code",
      "execution_count": null,
      "metadata": {
        "id": "Nud_6RJWByT5"
      },
      "outputs": [],
      "source": [
        "# Possibilitando Análise Geoespacial dos dados\n",
        "ddd_estados = {\n",
        "    11: 'SP', 12: 'SP', 13: 'SP', 14: 'SP', 15: 'SP', 16: 'SP', 17: 'SP', 18: 'SP', 19: 'SP',\n",
        "    21: 'RJ', 22: 'RJ', 24: 'RJ',\n",
        "    27: 'ES',\n",
        "    31: 'MG', 32: 'MG', 33: 'MG', 34: 'MG', 35: 'MG', 37: 'MG', 38: 'MG',\n",
        "    41: 'PR', 42: 'PR', 43: 'PR', 44: 'PR', 45: 'PR', 46: 'PR',\n",
        "    47: 'SC', 48: 'SC', 49: 'SC',\n",
        "    51: 'RS', 53: 'RS',\n",
        "    61: 'DF',\n",
        "    62: 'GO', 64: 'GO',\n",
        "    63: 'TO',\n",
        "    65: 'MT',\n",
        "    67: 'MS',\n",
        "    68: 'AC',\n",
        "    69: 'RO',\n",
        "    71: 'BA', 73: 'BA', 74: 'BA', 75: 'BA', 77: 'BA',\n",
        "    79: 'SE',\n",
        "    81: 'PE', 87: 'PE',\n",
        "    82: 'AL',\n",
        "    83: 'PB',\n",
        "    84: 'RN',\n",
        "    85: 'CE',\n",
        "    86: 'PI',\n",
        "    88: 'CE',\n",
        "    89: 'PI',\n",
        "    91: 'PA', 93: 'PA', 94: 'PA',\n",
        "    92: 'AM',\n",
        "    95: 'RR',\n",
        "    96: 'AP',\n",
        "    97: 'AM',\n",
        "    98: 'MA', 99: 'MA'\n",
        "}"
      ]
    },
    {
      "cell_type": "code",
      "execution_count": null,
      "metadata": {
        "id": "kUXa0CJY62aQ"
      },
      "outputs": [],
      "source": [
        "df_faturas['ddd'] = df_faturas['ddd'].apply(lambda x: 0 if x==None else int(x))"
      ]
    },
    {
      "cell_type": "code",
      "execution_count": null,
      "metadata": {
        "id": "MoGxaG8-B2mj"
      },
      "outputs": [],
      "source": [
        "df_faturas['estado'] = df_faturas['ddd'].map(ddd_estados)"
      ]
    },
    {
      "cell_type": "code",
      "execution_count": null,
      "metadata": {
        "id": "83FzEzZMB8Mp"
      },
      "outputs": [],
      "source": [
        "regioes = {\n",
        "    'AC': 'Norte','AM': 'Norte','AP': 'Norte','PA': 'Norte','RO': 'Norte','RR': 'Norte','TO': 'Norte',\n",
        "    'AL': 'Nordeste','BA': 'Nordeste','CE': 'Nordeste','MA': 'Nordeste','PB': 'Nordeste','PE': 'Nordeste','PI': 'Nordeste','RN': 'Nordeste','SE': 'Nordeste',\n",
        "    'DF': 'Centro-Oeste','GO': 'Centro-Oeste','MT': 'Centro-Oeste','MS': 'Centro-Oeste',\n",
        "    'ES': 'Sudeste','MG': 'Sudeste','RJ': 'Sudeste','SP': 'Sudeste',\n",
        "    'PR': 'Sul','RS': 'Sul','SC': 'Sul'}"
      ]
    },
    {
      "cell_type": "code",
      "execution_count": null,
      "metadata": {
        "id": "97Cw-a4hB9Ta"
      },
      "outputs": [],
      "source": [
        "df_faturas['regiao'] = df_faturas['estado'].map(regioes)"
      ]
    },
    {
      "cell_type": "markdown",
      "metadata": {
        "id": "Ut4HoSNjNBqB"
      },
      "source": [
        "### Identificação e Remoção da equipe soulcode da base de clientes"
      ]
    },
    {
      "cell_type": "code",
      "execution_count": null,
      "metadata": {
        "id": "trYTyVFZNBqC"
      },
      "outputs": [],
      "source": [
        "df_faturas['dominio'] = df_faturas['email'].apply(lambda x: x.split('@')[1])"
      ]
    },
    {
      "cell_type": "code",
      "execution_count": null,
      "metadata": {
        "id": "zAiwX6ynNBqC"
      },
      "outputs": [],
      "source": [
        "df_faturas['dominio'].unique()"
      ]
    },
    {
      "cell_type": "code",
      "execution_count": null,
      "metadata": {
        "id": "UMnCWH3vNBqD"
      },
      "outputs": [],
      "source": [
        "df_soulcode = df_faturas.loc[(df_faturas['dominio'] == 'soulcode.com') |\n",
        "                                        (df_faturas['dominio'] == 'teste.com') |\n",
        "                                        (df_faturas['dominio'] == 'teste.com.br')\n",
        "                                         ]\n",
        "df_soulcode"
      ]
    },
    {
      "cell_type": "code",
      "execution_count": null,
      "metadata": {
        "id": "dPd8clsINBqD"
      },
      "outputs": [],
      "source": [
        "df_soulcode.groupby('dominio').size()"
      ]
    },
    {
      "cell_type": "code",
      "execution_count": null,
      "metadata": {
        "id": "Yp3dkBc9NBqD"
      },
      "outputs": [],
      "source": [
        "df_faturas.info()"
      ]
    },
    {
      "cell_type": "code",
      "execution_count": null,
      "metadata": {
        "id": "k0iqkKCeNBqD"
      },
      "outputs": [],
      "source": [
        "for dominio in list(df_soulcode['dominio'].unique()):\n",
        "  df_faturas = df_faturas.loc[df_faturas['dominio'] != dominio]"
      ]
    },
    {
      "cell_type": "code",
      "execution_count": null,
      "metadata": {
        "id": "d6Qr64nhNBqE"
      },
      "outputs": [],
      "source": [
        "df_faturas.info()"
      ]
    },
    {
      "cell_type": "markdown",
      "metadata": {
        "id": "jTFEOhi8jEKX"
      },
      "source": [
        "## Pré Análise e Insights Iniciais"
      ]
    },
    {
      "cell_type": "code",
      "execution_count": null,
      "metadata": {
        "id": "3XFoS1xX1K8e"
      },
      "outputs": [],
      "source": [
        "df_faturas.groupby(['status','a_pagar_com']).agg(quantidade=('status','size'),\n",
        "                                                         media_parcelas=('max_parcelas','mean'),\n",
        "                                                         total_taxas=('imposto_pago_centavos','sum'),\n",
        "                                                         total_pago=('total_centavos','sum'),\n",
        "                                                         total_reembolsado=('reembolsado_centavos','sum')\n",
        "                                                          )"
      ]
    },
    {
      "cell_type": "markdown",
      "metadata": {
        "id": "9I__91qQ9835"
      },
      "source": [
        "### Faturas por Status"
      ]
    },
    {
      "cell_type": "code",
      "execution_count": null,
      "metadata": {
        "id": "SMUXW6Tk-C3E"
      },
      "outputs": [],
      "source": [
        "df_faturas['status'].value_counts()"
      ]
    },
    {
      "cell_type": "code",
      "execution_count": null,
      "metadata": {
        "id": "3qjgrdRC-E_1"
      },
      "outputs": [],
      "source": [
        "df_faturas['status'].value_counts(normalize=True) * 100"
      ]
    },
    {
      "cell_type": "code",
      "execution_count": null,
      "metadata": {
        "id": "dMYAc0GZ-H9y"
      },
      "outputs": [],
      "source": [
        "df_faturas['status'].value_counts().plot.bar()"
      ]
    },
    {
      "cell_type": "markdown",
      "metadata": {
        "id": "gDClbpr7-VS7"
      },
      "source": [
        "### Ticket Médio"
      ]
    },
    {
      "cell_type": "code",
      "execution_count": null,
      "metadata": {
        "id": "1H48PUb9-XYS"
      },
      "outputs": [],
      "source": [
        "df_faturas['total_centavos'].hist()"
      ]
    },
    {
      "cell_type": "markdown",
      "metadata": {
        "id": "M9ygbBr3-b9K"
      },
      "source": [
        "### Forma de Pagamento mais utilizada"
      ]
    },
    {
      "cell_type": "code",
      "execution_count": null,
      "metadata": {
        "id": "KnNl6rjA-fuS"
      },
      "outputs": [],
      "source": [
        "df_faturas['forma_pagamento'].value_counts()"
      ]
    },
    {
      "cell_type": "code",
      "execution_count": null,
      "metadata": {
        "id": "lh6DKAaq-hMr"
      },
      "outputs": [],
      "source": [
        "df_faturas['forma_pagamento'].value_counts(normalize=True) * 100"
      ]
    },
    {
      "cell_type": "code",
      "execution_count": null,
      "metadata": {
        "id": "huXI7end-ihJ"
      },
      "outputs": [],
      "source": [
        "df_faturas['forma_pagamento'].value_counts().plot.pie(autopct='%1.1f%%')"
      ]
    },
    {
      "cell_type": "markdown",
      "metadata": {
        "id": "ZkmuhWrH-9GB"
      },
      "source": [
        "### Análise de Correlação entre os valores da base"
      ]
    },
    {
      "cell_type": "code",
      "execution_count": null,
      "metadata": {
        "id": "UisjW4lu_Eq4"
      },
      "outputs": [],
      "source": [
        "cols_eda = ['total_centavos', 'pago_centavos', 'disconto_centavos', 'imposto_pago_centavos']"
      ]
    },
    {
      "cell_type": "code",
      "execution_count": null,
      "metadata": {
        "id": "THpcim2N_GkC"
      },
      "outputs": [],
      "source": [
        "df_heatmap = df_faturas[cols_eda]\n",
        "df_pairplot = df_faturas[cols_eda]"
      ]
    },
    {
      "cell_type": "code",
      "execution_count": null,
      "metadata": {
        "id": "3B_GHJ9O_G3a"
      },
      "outputs": [],
      "source": [
        "sns.heatmap(df_heatmap.corr(), cmap=\"YlGnBu\", annot=True)"
      ]
    },
    {
      "cell_type": "code",
      "execution_count": null,
      "metadata": {
        "id": "ReSpbbDK_M4C"
      },
      "outputs": [],
      "source": [
        "sns.pairplot(df_pairplot)"
      ]
    },
    {
      "cell_type": "markdown",
      "metadata": {
        "id": "C0KHH_B34OLS"
      },
      "source": [
        "## Conclusão da Pré Análise\n",
        "\n",
        "- A maioria das faturas pagas foi através de cartão de crédito\n",
        "- A quantidade de faturas canceladas é significativa(quase 15%)\n",
        "- A maior parte das faturas expiradas são referentes a boletos bancários (mais de 60% dos boletos expirados)\n",
        "- Em termos de valores, as faturas pagas por cartão de crédito representam a maior parte do total pago\n",
        "- Apenas uma pequena porcentagem das faturas foi paga parcialmente\n",
        "- A maioria das faturas não possui taxas\n",
        "- As taxas cobradas para o pagamento por cartão de crédito são significativas em relação aos outros métodos de pagamento   \n",
        "- Das faturas parceladas, a maioria é dividida em 12 parcelas   "
      ]
    },
    {
      "cell_type": "markdown",
      "metadata": {
        "id": "ECJ1d1XvCEG6"
      },
      "source": [
        "## Validação dos dados com o SCHEMA"
      ]
    },
    {
      "cell_type": "code",
      "execution_count": null,
      "metadata": {
        "id": "waD7VESCCLSp"
      },
      "outputs": [],
      "source": [
        "df_faturas.replace(to_replace=\"None\", value=np.NaN, inplace=True)"
      ]
    },
    {
      "cell_type": "code",
      "execution_count": null,
      "metadata": {
        "id": "r0QwSMSoN1lY"
      },
      "outputs": [],
      "source": [
        "df_faturas['criado_em'] = df_faturas['criado_em'].astype('datetime64[ns]')\n",
        "df_faturas['atualizado_em'] = df_faturas['atualizado_em'].astype('datetime64[ns]')\n",
        "df_faturas['pago_em'] = df_faturas['pago_em'].astype('datetime64[ns]')\n",
        "df_faturas['expirado_em'] = df_faturas['expirado_em'].astype('datetime64[ns]')\n",
        "df_faturas['protestado_em'] = df_faturas['protestado_em'].astype('datetime64[ns]')\n",
        "df_faturas['cancelado_em'] = df_faturas['cancelado_em'].astype('datetime64[ns]')\n",
        "df_faturas['chargeback_em'] = df_faturas['chargeback_em'].astype('datetime64[ns]')\n",
        "df_faturas['data_ocorrencia'] = df_faturas['data_ocorrencia'].astype('datetime64[ns]')"
      ]
    },
    {
      "cell_type": "code",
      "execution_count": null,
      "metadata": {
        "id": "nx6xd7PfN7ED"
      },
      "outputs": [],
      "source": [
        "# Como agora já temos informação de Estado e Região o ddd não é mais necessário\n",
        "df_faturas = df_faturas.drop('ddd', axis=1)"
      ]
    },
    {
      "cell_type": "code",
      "execution_count": null,
      "metadata": {
        "id": "YYynzfPWDpkI"
      },
      "outputs": [],
      "source": [
        "'''\n",
        "Abaixo foi constatada uma fatura que consta com o cliente id nulo, o que não deveria ocorrer.\n",
        "Como os dados dessas faturas estavam todas como none, o status de pagamento pendende e é apenas uma\n",
        "ocorrência, ela foi retirada dos dados.\n",
        "'''"
      ]
    },
    {
      "cell_type": "code",
      "execution_count": null,
      "metadata": {
        "id": "HedUAJ_gCdP5"
      },
      "outputs": [],
      "source": [
        "df_faturas['cliente_id'].isna().any()"
      ]
    },
    {
      "cell_type": "code",
      "execution_count": null,
      "metadata": {
        "id": "o-Nx8QYOC1Yz"
      },
      "outputs": [],
      "source": [
        "df_faturas['cliente_id'].isna().sum()"
      ]
    },
    {
      "cell_type": "code",
      "execution_count": null,
      "metadata": {
        "id": "o2ogw0tbC28R"
      },
      "outputs": [],
      "source": [
        "df_faturas.loc[df_faturas['cliente_id'].isnull()]"
      ]
    },
    {
      "cell_type": "code",
      "execution_count": null,
      "metadata": {
        "id": "ovb0UXaXC-Tk"
      },
      "outputs": [],
      "source": [
        "df_faturas.drop(df_faturas.loc[df_faturas['cliente_id'].isnull()].index, inplace=True)"
      ]
    },
    {
      "cell_type": "code",
      "execution_count": null,
      "metadata": {
        "id": "oCxRMkxiDBiB"
      },
      "outputs": [],
      "source": [
        "df_faturas['cliente_id'].isna().any()"
      ]
    },
    {
      "cell_type": "code",
      "execution_count": null,
      "metadata": {
        "id": "-o-pl1ElDGHy"
      },
      "outputs": [],
      "source": [
        "# Ajustando tipos para o pandera\n",
        "df_faturas[\"email_devido_ignorado\"] = df_faturas[\"email_devido_ignorado\"].map({True: \"SIM\", False: \"NAO\"})\n",
        "df_faturas['reembolsavel'] = df_faturas['reembolsavel'].fillna(False).map({True: \"SIM\", False: \"NAO\"})"
      ]
    },
    {
      "cell_type": "code",
      "execution_count": null,
      "metadata": {
        "id": "6E6RrDWFDakJ"
      },
      "outputs": [],
      "source": [
        "'''\n",
        "Essas faturas abaixo foram constatadas com a assinatura id nula, o que não deveria acontecer\n",
        "Mas por parecer que são faturais de compras reais, e não testes, ter diferentes dados válidos,\n",
        "e serem uma quantidade peqquena em relação ao total de faturas, elas foram mantidas.\n",
        "'''"
      ]
    },
    {
      "cell_type": "code",
      "execution_count": null,
      "metadata": {
        "id": "YDtDFIHuDKzJ"
      },
      "outputs": [],
      "source": [
        "df_faturas.loc[df_faturas['assinatura_id'].isnull()]"
      ]
    },
    {
      "cell_type": "code",
      "execution_count": null,
      "metadata": {
        "id": "Uth71rB2EVNq"
      },
      "outputs": [],
      "source": [
        "#SCHEMA Faturas\n",
        "schema_faturas = pa.DataFrameSchema({\n",
        "    \"fatura_id\": pa.Column(pa.String),\n",
        "    \"cliente_id\": pa.Column(pa.String, nullable=False),\n",
        "    \"assinatura_id\": pa.Column(pa.String),\n",
        "    \"status\": pa.Column(pa.String),\n",
        "    \"pago_centavos\": pa.Column(pa.Float, nullable=True),\n",
        "    \"disconto_centavos\": pa.Column(pa.Float, nullable=True),\n",
        "    \"multa_pagamento_atrasado\": pa.Column(pa.Int),\n",
        "    \"imposto_pago_centavos\": pa.Column(pa.Float, nullable=True),\n",
        "    \"total_pago\": pa.Column(pa.String),\n",
        "    \"total_centavos\": pa.Column(pa.Int),\n",
        "    \"items_total_centavos\": pa.Column(pa.Int),\n",
        "    \"total_na_ocorrencia_centavos\": pa.Column(pa.Int),\n",
        "    \"reembolsado_centavos\": pa.Column(pa.Int),\n",
        "    \"total_reembolsado\": pa.Column(pa.String),\n",
        "    \"parcelas\": pa.Column(pa.Float, nullable=True),\n",
        "    \"max_parcelas\": pa.Column(pa.Float, nullable=True),\n",
        "    \"total_pago_em_excesso\": pa.Column(pa.String),\n",
        "    \"a_pagar_com\": pa.Column(pa.String),\n",
        "    \"forma_pagamento\": pa.Column(pa.String, nullable=True),\n",
        "    \"cartao_de_credito_marca\": pa.Column(pa.String, nullable=True),\n",
        "    \"email_devido_ignorado\": pa.Column(pa.String,pa.Check.str_length(3,3), nullable=True),\n",
        "    \"reembolsavel\":  pa.Column(pa.String,pa.Check.str_length(3,3), nullable=True),\n",
        "    \"criado_em\": pa.Column(pa.DateTime),\n",
        "    \"atualizado_em\": pa.Column(pa.DateTime),\n",
        "    \"pago_em\": pa.Column(pa.DateTime, nullable=True),\n",
        "    \"expirado_em\": pa.Column(pa.DateTime, nullable=True),\n",
        "    \"protestado_em\": pa.Column(pa.DateTime, nullable=True),\n",
        "    \"cancelado_em\": pa.Column(pa.DateTime, nullable=True),\n",
        "    \"chargeback_em\": pa.Column(pa.DateTime, nullable=True),\n",
        "    \"reembolsado_em\": pa.Column(pa.String, nullable=True),\n",
        "    \"data_ocorrencia\": pa.Column(pa.DateTime, nullable=True),\n",
        "    \"assinatura_id\": pa.Column(pa.String, nullable=True),\n",
        "    \"estado\": pa.Column(pa.String, nullable=True),\n",
        "    \"regiao\": pa.Column(pa.String, nullable=True)\n",
        "})"
      ]
    },
    {
      "cell_type": "code",
      "execution_count": null,
      "metadata": {
        "id": "DYBDLZAVtTqj"
      },
      "outputs": [],
      "source": [
        "df_faturas = schema_faturas.validate(df_faturas)"
      ]
    },
    {
      "cell_type": "markdown",
      "metadata": {
        "id": "4ZM_XOE6vdi0"
      },
      "source": [
        "#Subcollection Items"
      ]
    },
    {
      "cell_type": "markdown",
      "metadata": {
        "id": "VSV9L7bNvkcP"
      },
      "source": [
        "##Extração"
      ]
    },
    {
      "cell_type": "code",
      "execution_count": null,
      "metadata": {
        "id": "8qJHm-vuWM8M"
      },
      "outputs": [],
      "source": [
        "df_items = df_invoices[['id','customer_id','items']]\n",
        "df_items"
      ]
    },
    {
      "cell_type": "code",
      "execution_count": null,
      "metadata": {
        "id": "jrXT-gz-vpBQ"
      },
      "outputs": [],
      "source": [
        "items_explode = df_items.explode('items')\n",
        "df_items = pd.json_normalize(json.loads(items_explode.to_json(orient=\"records\")))\n",
        "df_items"
      ]
    },
    {
      "cell_type": "code",
      "execution_count": null,
      "metadata": {
        "id": "Sep-3Re3TLwL"
      },
      "outputs": [],
      "source": [
        "df_items.info()"
      ]
    },
    {
      "cell_type": "markdown",
      "metadata": {
        "id": "3TGr3SbrwgFq"
      },
      "source": [
        "##Tratamento"
      ]
    },
    {
      "cell_type": "markdown",
      "metadata": {
        "id": "iRP2naKn0K7T"
      },
      "source": [
        "###Tradução"
      ]
    },
    {
      "cell_type": "code",
      "execution_count": null,
      "metadata": {
        "id": "XfIRRKAg0T-C"
      },
      "outputs": [],
      "source": [
        "df_faturas_itens = df_items.rename(columns={\n",
        "    'id' : 'fatura_id',\n",
        "    'customer_id': 'cliente_id',\n",
        "    'items.id': 'item_id',\n",
        "    'items.price' : 'preco',\n",
        "    'items.description' : 'descricao',\n",
        "    'items.quantity' : 'quantidade',\n",
        "    'items.price_cents':'preco_centavos',\n",
        "    'items.created_at' : 'criado_em',\n",
        "    'items.updated_at':'atualizado_em'\n",
        "})\n"
      ]
    },
    {
      "cell_type": "code",
      "execution_count": null,
      "metadata": {
        "id": "J3Xa4eBvXOsh"
      },
      "outputs": [],
      "source": [
        "df_faturas_itens"
      ]
    },
    {
      "cell_type": "code",
      "execution_count": null,
      "metadata": {
        "id": "M1P4L4-IXap7"
      },
      "outputs": [],
      "source": [
        "for c in df_faturas_itens.columns:\n",
        "  print(f'coluna {c}: {list(df_faturas_itens[c].unique())}')"
      ]
    },
    {
      "cell_type": "code",
      "execution_count": null,
      "metadata": {
        "id": "BgDftiPpaEYO"
      },
      "outputs": [],
      "source": [
        "df_faturas_itens['descricao'] = df_faturas_itens['descricao'].str.upper()"
      ]
    },
    {
      "cell_type": "markdown",
      "metadata": {
        "id": "PfBqyzJ2cOd-"
      },
      "source": [
        "## Validação dos dados com o SCHEMA"
      ]
    },
    {
      "cell_type": "code",
      "execution_count": null,
      "metadata": {
        "id": "FJSJ59y2cYm2"
      },
      "outputs": [],
      "source": [
        "df_faturas_itens.replace(to_replace=\"None\", value=np.NaN, inplace=True)"
      ]
    },
    {
      "cell_type": "code",
      "execution_count": null,
      "metadata": {
        "id": "ffjd5J1wcc_1"
      },
      "outputs": [],
      "source": [
        "df_faturas_itens['criado_em'] = df_faturas_itens['criado_em'].astype('datetime64[ns]')"
      ]
    },
    {
      "cell_type": "code",
      "execution_count": null,
      "metadata": {
        "id": "vScY4eK7ckYW"
      },
      "outputs": [],
      "source": [
        "df_faturas_itens"
      ]
    },
    {
      "cell_type": "code",
      "execution_count": null,
      "metadata": {
        "id": "o8MPRVhlcoWV"
      },
      "outputs": [],
      "source": [
        "'''\n",
        "Abaixo foi constatado um item de faturas com cliente id nulo, porém na descrição constava como teste\n",
        "de multa, com isso foi tomada a decisão de dropar essa linha\n",
        "'''"
      ]
    },
    {
      "cell_type": "code",
      "execution_count": null,
      "metadata": {
        "id": "eI3lR3nLcmU9"
      },
      "outputs": [],
      "source": [
        "df_faturas_itens.loc[df_faturas_itens['cliente_id'].isnull()]"
      ]
    },
    {
      "cell_type": "code",
      "execution_count": null,
      "metadata": {
        "id": "rAirY7a4cyT0"
      },
      "outputs": [],
      "source": [
        "df_faturas_itens.drop(df_faturas_itens.loc[df_faturas_itens['cliente_id'].isnull()].index, inplace=True)"
      ]
    },
    {
      "cell_type": "code",
      "execution_count": null,
      "metadata": {
        "id": "VY63I8C_c02X"
      },
      "outputs": [],
      "source": [
        "faturas_itens_schema = pa.DataFrameSchema({\n",
        "    \"fatura_id\": pa.Column(pa.String, nullable=False),\n",
        "    \"cliente_id\": pa.Column(pa.String, nullable=False),\n",
        "    \"atualizado_em\": pa.Column(pa.String, nullable=False),\n",
        "    \"preco_centavos\": pa.Column(pa.Int, nullable=False),\n",
        "    \"descricao\": pa.Column(pa.String, nullable=False),\n",
        "    \"criado_em\": pa.Column(pa.DateTime, nullable=False),\n",
        "    \"item_id\": pa.Column(pa.String, nullable=False),\n",
        "    \"quantidade\": pa.Column(pa.Int, nullable=False),\n",
        "    \"preco\": pa.Column(pa.String, nullable=False),\n",
        "})"
      ]
    },
    {
      "cell_type": "code",
      "execution_count": null,
      "metadata": {
        "id": "LCjNT7XXc27H"
      },
      "outputs": [],
      "source": [
        "df_faturas_itens = faturas_itens_schema.validate(df_faturas_itens)"
      ]
    },
    {
      "cell_type": "markdown",
      "metadata": {
        "id": "o7p_AE2cIn1G"
      },
      "source": [
        "#Collection CancellationOrder"
      ]
    },
    {
      "cell_type": "markdown",
      "metadata": {
        "id": "-1bAjaPGIxrx"
      },
      "source": [
        "##Extração"
      ]
    },
    {
      "cell_type": "code",
      "execution_count": null,
      "metadata": {
        "id": "RNFiRA8nI_-N"
      },
      "outputs": [],
      "source": [
        "db = firestore.client()\n",
        "\n",
        "docs = db.collection('cancellationOrder').stream()\n",
        "\n",
        "data = []\n",
        "for doc in docs:\n",
        "    data.append(doc.to_dict())\n",
        "\n",
        "df_cancellationOrder = pd.DataFrame(data)"
      ]
    },
    {
      "cell_type": "code",
      "execution_count": null,
      "metadata": {
        "id": "LP6P7scMJC8-"
      },
      "outputs": [],
      "source": [
        "df_cancellationOrder.info()"
      ]
    },
    {
      "cell_type": "code",
      "execution_count": null,
      "metadata": {
        "id": "hbStRcEFJPhP"
      },
      "outputs": [],
      "source": [
        "df_cancellationOrder"
      ]
    },
    {
      "cell_type": "markdown",
      "metadata": {
        "id": "AkTeArRXIzGW"
      },
      "source": [
        "##Tratamento"
      ]
    },
    {
      "cell_type": "markdown",
      "metadata": {
        "id": "a4GISTEPb612"
      },
      "source": [
        "###Remover colunas nulas"
      ]
    },
    {
      "cell_type": "code",
      "execution_count": null,
      "metadata": {
        "id": "cdmDuoVyb613"
      },
      "outputs": [],
      "source": [
        "colunas_cancellationOrder = list(df_cancellationOrder.columns)"
      ]
    },
    {
      "cell_type": "code",
      "execution_count": null,
      "metadata": {
        "id": "dDDCDySDb613"
      },
      "outputs": [],
      "source": [
        "#verificando existência de colunas nulas\n",
        "\n",
        "colunas_nulas_cancellationOrder = []\n",
        "total_nulos_cancellationOrder = 0\n",
        "\n",
        "for c in colunas_cancellationOrder:\n",
        "  if df_cancellationOrder[c].count() == 0:\n",
        "    colunas_nulas_cancellationOrder.append(c)\n",
        "    print(c)\n",
        "    total_nulos_cancellationOrder += 1\n",
        "print(f'Total de colunas nulas: {total_nulos_cancellationOrder}')"
      ]
    },
    {
      "cell_type": "markdown",
      "metadata": {
        "id": "2IeE40BGc17n"
      },
      "source": [
        "###Identificação das colunas principais"
      ]
    },
    {
      "cell_type": "code",
      "execution_count": null,
      "metadata": {
        "id": "UBiOiJcUJOhM"
      },
      "outputs": [],
      "source": [
        "df_ordem_cancelamento = df_cancellationOrder[['id', 'customer_id', 'invoice_id','customer_email', 'situation', 'sale_type',\\\n",
        "                                              'created_at', 'updated_at', 'refund_cents', 'fees_cents']]\n",
        "df_ordem_cancelamento.info()"
      ]
    },
    {
      "cell_type": "markdown",
      "metadata": {
        "id": "eSgeTIfiI1Dd"
      },
      "source": [
        "###Tradução"
      ]
    },
    {
      "cell_type": "code",
      "execution_count": null,
      "metadata": {
        "id": "_ucSYB25JnyM"
      },
      "outputs": [],
      "source": [
        "df_ordem_cancelamento = df_ordem_cancelamento.rename(columns={\n",
        "    'id' : 'ordem_cancelamento_id',\n",
        "    'customer_id': 'cliente_id',\n",
        "    'invoice_id': 'fatura_id',\n",
        "    'customer_email': 'cliente_email',\n",
        "    'situation': 'situacao',\n",
        "    'sale_type': 'tipo_venda',\n",
        "    'created_at' : 'criado_em',\n",
        "    'updated_at' : 'atualizado_em',\n",
        "    'refund_cents' : 'reembolso_centavos',\n",
        "    'fees_cents' : 'taxas_centavos'\n",
        "})"
      ]
    },
    {
      "cell_type": "code",
      "execution_count": null,
      "metadata": {
        "id": "uMz-BNc1JryO"
      },
      "outputs": [],
      "source": [
        "for c in df_ordem_cancelamento.columns:\n",
        "  print(f'coluna {c}: {list(df_ordem_cancelamento[c].unique())}')"
      ]
    },
    {
      "cell_type": "code",
      "execution_count": null,
      "metadata": {
        "id": "8pHbKfghJuq0"
      },
      "outputs": [],
      "source": [
        "df_ordem_cancelamento['tipo_venda'] = df_ordem_cancelamento['tipo_venda'].str.upper()"
      ]
    },
    {
      "cell_type": "code",
      "execution_count": null,
      "metadata": {
        "id": "sXDpc8fxGAgA"
      },
      "outputs": [],
      "source": [
        "traducoes = {\n",
        "    'pending':'PENDENTE',\n",
        "    'complete':'COMPLETO',\n",
        "    'error':'ERRO'\n",
        "    }\n",
        "\n",
        "for key, value in traducoes.items():\n",
        "  df_ordem_cancelamento.loc[df_ordem_cancelamento.situacao==key,'situacao'] = value"
      ]
    },
    {
      "cell_type": "markdown",
      "metadata": {
        "id": "NpYqW425N929"
      },
      "source": [
        "### Identificação e Remoção da equipe soulcode da base de clientes"
      ]
    },
    {
      "cell_type": "code",
      "execution_count": null,
      "metadata": {
        "id": "CL_FklQzN929"
      },
      "outputs": [],
      "source": [
        "df_ordem_cancelamento['dominio'] = df_ordem_cancelamento['cliente_email'].apply(lambda x: x.split('@')[1])"
      ]
    },
    {
      "cell_type": "code",
      "execution_count": null,
      "metadata": {
        "id": "8urriFB2N929"
      },
      "outputs": [],
      "source": [
        "df_ordem_cancelamento['dominio'].unique()"
      ]
    },
    {
      "cell_type": "code",
      "execution_count": null,
      "metadata": {
        "id": "k5gMEuTHN92-"
      },
      "outputs": [],
      "source": [
        "df_soulcode = df_ordem_cancelamento.loc[(df_ordem_cancelamento['dominio'] == 'soulcode.com') |\n",
        "                                        (df_ordem_cancelamento['dominio'] == 'teste.com') |\n",
        "                                        (df_ordem_cancelamento['dominio'] == 'teste.com.br')\n",
        "                                         ]\n",
        "df_soulcode"
      ]
    },
    {
      "cell_type": "code",
      "execution_count": null,
      "metadata": {
        "id": "54folfLmN92-"
      },
      "outputs": [],
      "source": [
        "df_soulcode.groupby('dominio').size()"
      ]
    },
    {
      "cell_type": "code",
      "execution_count": null,
      "metadata": {
        "id": "_gj4vtVDN92-"
      },
      "outputs": [],
      "source": [
        "df_ordem_cancelamento.info()"
      ]
    },
    {
      "cell_type": "code",
      "execution_count": null,
      "metadata": {
        "id": "6QaEtbJSN92-"
      },
      "outputs": [],
      "source": [
        "for dominio in list(df_soulcode['dominio'].unique()):\n",
        "  df_ordem_cancelamento = df_ordem_cancelamento.loc[df_ordem_cancelamento['dominio'] != dominio]"
      ]
    },
    {
      "cell_type": "code",
      "execution_count": null,
      "metadata": {
        "id": "QAVlWt5oN92-"
      },
      "outputs": [],
      "source": [
        "df_ordem_cancelamento.info()"
      ]
    },
    {
      "cell_type": "markdown",
      "metadata": {
        "id": "kNI9pbTVNGHb"
      },
      "source": [
        "## Validação dos dados com o SCHEMA"
      ]
    },
    {
      "cell_type": "code",
      "execution_count": null,
      "metadata": {
        "id": "6oFV_51vMrJA"
      },
      "outputs": [],
      "source": [
        "df_ordem_cancelamento.info()"
      ]
    },
    {
      "cell_type": "code",
      "execution_count": null,
      "metadata": {
        "id": "3jpL3resOJ3L"
      },
      "outputs": [],
      "source": [
        "df_ordem_cancelamento['criado_em'] = df_ordem_cancelamento['criado_em'].astype('datetime64[ns]')\n",
        "df_ordem_cancelamento['atualizado_em'] = df_ordem_cancelamento['atualizado_em'].astype('datetime64[ns]')"
      ]
    },
    {
      "cell_type": "code",
      "execution_count": null,
      "metadata": {
        "id": "B8Isj2UlM2ig"
      },
      "outputs": [],
      "source": [
        "schema_ordem_cancelamento = pa.DataFrameSchema({\n",
        "\"ordem_cancelamento_id\": pa.Column(pa.String, nullable=False),\n",
        "\"cliente_id\": pa.Column(pa.String, nullable=False),\n",
        "\"fatura_id\": pa.Column(pa.String, nullable=False),\n",
        "\"situacao\": pa.Column(pa.String, nullable=False),\n",
        "\"tipo_venda\": pa.Column(pa.String, nullable=False),\n",
        "\"criado_em\": pa.Column(pa.DateTime, nullable=False),\n",
        "\"atualizado_em\": pa.Column(pa.DateTime, nullable=False),\n",
        "\"reembolso_centavos\": pa.Column(pa.Int, nullable=False),\n",
        "\"taxas_centavos\": pa.Column(pa.Int, nullable=False)\n",
        "})"
      ]
    },
    {
      "cell_type": "code",
      "execution_count": null,
      "metadata": {
        "id": "iEEDUD3SM9AJ"
      },
      "outputs": [],
      "source": [
        "df_ordem_cancelamento = schema_ordem_cancelamento.validate(df_ordem_cancelamento)"
      ]
    },
    {
      "cell_type": "markdown",
      "metadata": {
        "id": "8uxK5pv6KaHc"
      },
      "source": [
        "#Collection InvoiceExpiredData"
      ]
    },
    {
      "cell_type": "markdown",
      "metadata": {
        "id": "MYKoMOZJKjFG"
      },
      "source": [
        "##Extração"
      ]
    },
    {
      "cell_type": "code",
      "execution_count": null,
      "metadata": {
        "id": "NSw5Ri9nKkdF"
      },
      "outputs": [],
      "source": [
        "db = firestore.client()\n",
        "\n",
        "docs = db.collection('invoiceExpiredData').stream()\n",
        "\n",
        "data = []\n",
        "for doc in docs:\n",
        "    data.append(doc.to_dict())\n",
        "\n",
        "df_invoiceExpiredData = pd.DataFrame(data)"
      ]
    },
    {
      "cell_type": "code",
      "execution_count": null,
      "metadata": {
        "id": "M_047n2OKoJ0"
      },
      "outputs": [],
      "source": [
        "df_invoiceExpiredData.info()"
      ]
    },
    {
      "cell_type": "code",
      "execution_count": null,
      "metadata": {
        "id": "UvqOhUp-KvtX"
      },
      "outputs": [],
      "source": [
        "df_invoiceExpiredData"
      ]
    },
    {
      "cell_type": "markdown",
      "metadata": {
        "id": "2U4NJby2OMA4"
      },
      "source": [
        "##Tratamento"
      ]
    },
    {
      "cell_type": "markdown",
      "metadata": {
        "id": "k-xrNEW9Ot5h"
      },
      "source": [
        "###Identificação das colunas principais"
      ]
    },
    {
      "cell_type": "code",
      "execution_count": null,
      "metadata": {
        "id": "4jbK4STUP2dt"
      },
      "outputs": [],
      "source": [
        "df_faturas_expiradas = df_invoiceExpiredData[['id',\n",
        "                                              'customer_id',\n",
        "                                              'subscription_id',\n",
        "                                              'email',\n",
        "                                              'phone_prefix',\n",
        "                                              'contract',\n",
        "                                              'coupon_description',\n",
        "                                              'paymentMethod',\n",
        "                                              'invoice_total_cents',\n",
        "                                              'plan_cents',\n",
        "                                              'plan_paid_cents',\n",
        "                                              'value_remaining_cents',\n",
        "                                              'purchase_date',\n",
        "                                              'due_date',\n",
        "                                              'expired_days']]"
      ]
    },
    {
      "cell_type": "markdown",
      "metadata": {
        "id": "4nAkN9zSONon"
      },
      "source": [
        "###Tradução"
      ]
    },
    {
      "cell_type": "code",
      "execution_count": null,
      "metadata": {
        "id": "5tG3DNyWQwSm"
      },
      "outputs": [],
      "source": [
        "df_faturas_expiradas = df_faturas_expiradas.rename(columns={\n",
        "    'id' : 'fatura_expirada_id',\n",
        "    'customer_id': 'cliente_id',\n",
        "    'subscription_id': 'assinatura_id',\n",
        "    'phone_prefix': 'ddd',\n",
        "    'contract': 'contrato',\n",
        "    'coupon_description' : 'cupom_descricao',\n",
        "    'paymentMethod' : 'forma_pagamento',\n",
        "    'invoice_total_cents' : 'fatura_total_centavos',\n",
        "    'plan_cents' : 'plano_centavos',\n",
        "    'plan_paid_cents': 'plano_pago_centavos',\n",
        "    'value_remaining_cents' : 'valor_faltante_centavos',\n",
        "    'purchase_date' : 'data_compra',\n",
        "    'due_date' : 'data_vencimento',\n",
        "    'expired_days' : 'dias_expirados'\n",
        "})\n"
      ]
    },
    {
      "cell_type": "code",
      "execution_count": null,
      "metadata": {
        "id": "Q_6Mk2QdPjI7"
      },
      "outputs": [],
      "source": [
        "for c in df_faturas_expiradas.columns:\n",
        "  print(f'coluna {c}: {list(df_faturas_expiradas[c].unique())}')"
      ]
    },
    {
      "cell_type": "code",
      "execution_count": null,
      "metadata": {
        "id": "Imjoo7D3RkTz"
      },
      "outputs": [],
      "source": [
        "df_faturas_expiradas['cupom_descricao'] = df_faturas_expiradas['cupom_descricao'].str.upper()\n",
        "df_faturas_expiradas['contrato'] = df_faturas_expiradas['contrato'].str.upper()"
      ]
    },
    {
      "cell_type": "code",
      "execution_count": null,
      "metadata": {
        "id": "tPeB-s0nSQDR"
      },
      "outputs": [],
      "source": [
        "traducoes = {\n",
        "    'credit_card' : 'CARTAO DE CREDITO',\n",
        "    'pix' : 'PIX',\n",
        "    'bank_slip' : 'BOLETO BANCARIO'}\n",
        "\n",
        "for key, value in traducoes.items():\n",
        "  df_faturas_expiradas.loc[df_faturas_expiradas.forma_pagamento==key,'forma_pagamento'] = value"
      ]
    },
    {
      "cell_type": "code",
      "execution_count": null,
      "metadata": {
        "id": "2zr0LhpROeTv"
      },
      "outputs": [],
      "source": [
        "df_faturas_expiradas.info()"
      ]
    },
    {
      "cell_type": "markdown",
      "metadata": {
        "id": "8spwsQZEPCOI"
      },
      "source": [
        "### Identificação e Remoção da equipe soulcode da base de clientes"
      ]
    },
    {
      "cell_type": "code",
      "execution_count": null,
      "metadata": {
        "id": "vwQG5VdyPCOJ"
      },
      "outputs": [],
      "source": [
        "df_faturas_expiradas['dominio'] = df_faturas_expiradas['email'].apply(lambda x: x.split('@')[1])"
      ]
    },
    {
      "cell_type": "code",
      "execution_count": null,
      "metadata": {
        "id": "VtLVHJ90PCOJ"
      },
      "outputs": [],
      "source": [
        "df_faturas_expiradas['dominio'].unique()"
      ]
    },
    {
      "cell_type": "code",
      "execution_count": null,
      "metadata": {
        "id": "6X_4WHbaPCOK"
      },
      "outputs": [],
      "source": [
        "df_soulcode = df_faturas_expiradas.loc[(df_faturas_expiradas['dominio'] == 'soulcode.com') |\n",
        "                                        (df_faturas_expiradas['dominio'] == 'teste.com') |\n",
        "                                        (df_faturas_expiradas['dominio'] == 'teste.com.br')\n",
        "                                         ]\n",
        "df_soulcode"
      ]
    },
    {
      "cell_type": "code",
      "execution_count": null,
      "metadata": {
        "id": "tFXS6nsGPCOK"
      },
      "outputs": [],
      "source": [
        "df_soulcode.groupby('dominio').size()"
      ]
    },
    {
      "cell_type": "code",
      "execution_count": null,
      "metadata": {
        "id": "jNl-78IAPCOL"
      },
      "outputs": [],
      "source": [
        "df_faturas_expiradas.info()"
      ]
    },
    {
      "cell_type": "code",
      "execution_count": null,
      "metadata": {
        "id": "mzK2rzhzPCOL"
      },
      "outputs": [],
      "source": [
        "for dominio in list(df_soulcode['dominio'].unique()):\n",
        "  df_faturas_expiradas = df_faturas_expiradas.loc[df_faturas_expiradas['dominio'] != dominio]"
      ]
    },
    {
      "cell_type": "code",
      "execution_count": null,
      "metadata": {
        "id": "x4aEICXpPCOM"
      },
      "outputs": [],
      "source": [
        "df_faturas_expiradas.info()"
      ]
    },
    {
      "cell_type": "markdown",
      "metadata": {
        "id": "MleESewzPu6l"
      },
      "source": [
        "## Validação dos dados com o SCHEMA"
      ]
    },
    {
      "cell_type": "code",
      "execution_count": null,
      "metadata": {
        "id": "3In-SvhBPB-W"
      },
      "outputs": [],
      "source": [
        "df_faturas_expiradas['data_compra'] = df_faturas_expiradas['data_compra'].astype('datetime64[ns]')\n",
        "df_faturas_expiradas['data_vencimento'] = df_faturas_expiradas['data_vencimento'].astype('datetime64[ns]')"
      ]
    },
    {
      "cell_type": "code",
      "execution_count": null,
      "metadata": {
        "id": "s0ZR2fpUOvZI"
      },
      "outputs": [],
      "source": [
        "schema_faturas_expiradas = pa.DataFrameSchema({\n",
        "    \"fatura_expirada_id\": pa.Column(pa.String, nullable=False),\n",
        "    \"cliente_id\": pa.Column(pa.String, nullable=False),\n",
        "    \"assinatura_id\": pa.Column(pa.String, nullable=False),\n",
        "    \"ddd\": pa.Column(pa.String, nullable=False),\n",
        "    \"contrato\": pa.Column(pa.String, nullable=False),\n",
        "    \"cupom_descricao\": pa.Column(pa.String, nullable=False),\n",
        "    \"forma_pagamento\": pa.Column(pa.String, nullable=False),\n",
        "    \"fatura_total_centavos\": pa.Column(pa.Int, nullable=False),\n",
        "    \"plano_centavos\": pa.Column(pa.Int, nullable=False),\n",
        "    \"plano_pago_centavos\": pa.Column(pa.Int, nullable=False),\n",
        "    \"valor_faltante_centavos\": pa.Column(pa.Int, nullable=False),\n",
        "    \"data_compra\": pa.Column(pa.DateTime, nullable=False),\n",
        "    \"data_vencimento\": pa.Column(pa.DateTime, nullable=False),\n",
        "    \"dias_expirados\": pa.Column(pa.Int, nullable=False)\n",
        "})"
      ]
    },
    {
      "cell_type": "code",
      "execution_count": null,
      "metadata": {
        "id": "XaDBUdUWO4S3"
      },
      "outputs": [],
      "source": [
        "df_faturas_expiradas = schema_faturas_expiradas.validate(df_faturas_expiradas)"
      ]
    },
    {
      "cell_type": "markdown",
      "metadata": {
        "id": "-5hxnkQHPqR-"
      },
      "source": [
        "#Collection Receipts"
      ]
    },
    {
      "cell_type": "markdown",
      "metadata": {
        "id": "dlTJUAT-ZXNv"
      },
      "source": [
        "## Extração"
      ]
    },
    {
      "cell_type": "code",
      "execution_count": null,
      "metadata": {
        "id": "cpyTlS4KZcv2"
      },
      "outputs": [],
      "source": [
        "db = firestore.client()\n",
        "\n",
        "docs = db.collection('receipts').stream()\n",
        "\n",
        "data = []\n",
        "for doc in docs:\n",
        "    data.append(doc.to_dict())\n",
        "\n",
        "df_receipts = pd.DataFrame(data)"
      ]
    },
    {
      "cell_type": "code",
      "execution_count": null,
      "metadata": {
        "id": "OdUSzqvjS1eP"
      },
      "outputs": [],
      "source": [
        "df_receipts.info()"
      ]
    },
    {
      "cell_type": "code",
      "execution_count": null,
      "metadata": {
        "id": "O8y8i2oFZefw"
      },
      "outputs": [],
      "source": [
        "df_receipts"
      ]
    },
    {
      "cell_type": "markdown",
      "metadata": {
        "id": "yZUl5GkaZlFg"
      },
      "source": [
        "## Tratamento"
      ]
    },
    {
      "cell_type": "markdown",
      "metadata": {
        "id": "jVQVCET0aAUm"
      },
      "source": [
        "### Remover colunas nulas"
      ]
    },
    {
      "cell_type": "code",
      "execution_count": null,
      "metadata": {
        "id": "P6MZ5wHpZmrH"
      },
      "outputs": [],
      "source": [
        "colunas_receipts = list(df_receipts.columns)"
      ]
    },
    {
      "cell_type": "code",
      "execution_count": null,
      "metadata": {
        "id": "gKrt6jyJZoUI"
      },
      "outputs": [],
      "source": [
        "print(len(colunas_receipts))"
      ]
    },
    {
      "cell_type": "code",
      "execution_count": null,
      "metadata": {
        "id": "PAo5eakOZqVP"
      },
      "outputs": [],
      "source": [
        "colunas_nulas_df_receipts = []\n",
        "total_nulos_df_receipts = 0\n",
        "\n",
        "for c in list(df_receipts.columns):\n",
        "  if df_receipts[c].count() == 0:\n",
        "    colunas_nulas_df_receipts.append(c)\n",
        "    print(c)\n",
        "    total_nulos_df_receipts += 1\n",
        "print(f'Total de colunas nulas: {total_nulos_df_receipts}')"
      ]
    },
    {
      "cell_type": "code",
      "execution_count": null,
      "metadata": {
        "id": "iU-N37T4ZsZQ"
      },
      "outputs": [],
      "source": [
        "for c in colunas_receipts:\n",
        "  if c in colunas_nulas_df_receipts:\n",
        "    colunas_receipts.remove(c)\n",
        "\n",
        "print(len(colunas_receipts))"
      ]
    },
    {
      "cell_type": "markdown",
      "metadata": {
        "id": "bUzHAZ-zoUve"
      },
      "source": [
        "###Remover subcollections"
      ]
    },
    {
      "cell_type": "code",
      "execution_count": null,
      "metadata": {
        "id": "UAsnfsb9ZubB"
      },
      "outputs": [],
      "source": [
        "colunas_subcollection_receipts = ['nfe','produto', 'cliente']\n",
        "print(f'Qtd de Subcollections: {len(colunas_subcollection_receipts)}')"
      ]
    },
    {
      "cell_type": "code",
      "execution_count": null,
      "metadata": {
        "id": "6bEQ29oyZwYh"
      },
      "outputs": [],
      "source": [
        "for c in colunas_receipts:\n",
        "  if c in colunas_subcollection_receipts:\n",
        "    colunas_receipts.remove(c)\n",
        "\n",
        "print(len(colunas_receipts))"
      ]
    },
    {
      "cell_type": "code",
      "execution_count": null,
      "metadata": {
        "id": "feOhpc-yZyke"
      },
      "outputs": [],
      "source": [
        "colunas_receipts"
      ]
    },
    {
      "cell_type": "markdown",
      "metadata": {
        "id": "_Dgzk6HmokYD"
      },
      "source": [
        "###Identificação das colunas principais"
      ]
    },
    {
      "cell_type": "code",
      "execution_count": null,
      "metadata": {
        "id": "zsXf-QCQZ1AO"
      },
      "outputs": [],
      "source": [
        "colunas_receipts_principais = ['id', 'dataVenda','meioDePagamento', 'situacao' , 'valorTotal' , 'produto' ]"
      ]
    },
    {
      "cell_type": "code",
      "execution_count": null,
      "metadata": {
        "id": "3syl4fRSZ302"
      },
      "outputs": [],
      "source": [
        "df_receipts_final = df_receipts[colunas_receipts_principais]"
      ]
    },
    {
      "cell_type": "code",
      "execution_count": null,
      "metadata": {
        "id": "ZETDLe2NZ6Pu"
      },
      "outputs": [],
      "source": [
        "df_receipts_final"
      ]
    },
    {
      "cell_type": "markdown",
      "metadata": {
        "id": "rw4zetupaE8I"
      },
      "source": [
        "### Tradução"
      ]
    },
    {
      "cell_type": "code",
      "execution_count": null,
      "metadata": {
        "id": "dlVgM2mhZ-I2"
      },
      "outputs": [],
      "source": [
        "df_recibos = df_receipts_final.rename(columns={\n",
        "    'id':'recibo_id',\n",
        "    'dataVenda':'vendido_em',\n",
        "    'meioDePagamento':'forma_pagamento',\n",
        "    'situacao':'situacao',\n",
        "    'valorTotal':'valorTotal',\n",
        "    'produto':'produto'\n",
        "    })"
      ]
    },
    {
      "cell_type": "code",
      "execution_count": null,
      "metadata": {
        "id": "klrD6E4MaNJu"
      },
      "outputs": [],
      "source": [
        "df_recibos"
      ]
    },
    {
      "cell_type": "markdown",
      "metadata": {
        "id": "XYNbPbkVaVwX"
      },
      "source": [
        "### Extração da subcollection Produtos"
      ]
    },
    {
      "cell_type": "code",
      "execution_count": null,
      "metadata": {
        "id": "BNgGysxNaYf2"
      },
      "outputs": [],
      "source": [
        "'''\n",
        "Aqui decidimos unir a subcoleção com o id coleção principal para ser possível criar\n",
        "um relacionamento, e então concatenar as informações úteis da subcoleção a coleção principal\n",
        "'''"
      ]
    },
    {
      "cell_type": "code",
      "execution_count": null,
      "metadata": {
        "id": "LT5AcdPiaQ-m"
      },
      "outputs": [],
      "source": [
        "df_recibos_produto = df_recibos[['recibo_id','produto']]"
      ]
    },
    {
      "cell_type": "code",
      "execution_count": null,
      "metadata": {
        "id": "kexTB8u3aS6Y"
      },
      "outputs": [],
      "source": [
        "df_recibos = df_recibos.drop('produto', axis=1)"
      ]
    },
    {
      "cell_type": "code",
      "execution_count": null,
      "metadata": {
        "id": "sYXPszhcaUp-"
      },
      "outputs": [],
      "source": [
        "df_recibos"
      ]
    },
    {
      "cell_type": "code",
      "execution_count": null,
      "metadata": {
        "id": "vBUA-o9Ianfg"
      },
      "outputs": [],
      "source": [
        "df_recibos_produto"
      ]
    },
    {
      "cell_type": "code",
      "execution_count": null,
      "metadata": {
        "id": "sy_jOYdiarcD"
      },
      "outputs": [],
      "source": [
        "df_recibos_produto['produto'].apply(pd.Series)"
      ]
    },
    {
      "cell_type": "code",
      "execution_count": null,
      "metadata": {
        "id": "cAhItScHaucm"
      },
      "outputs": [],
      "source": [
        "df_recibos_produto_final = pd.concat([df_recibos_produto.drop(['produto'], axis=1), df_recibos_produto['produto'].apply(pd.Series)], axis=1)"
      ]
    },
    {
      "cell_type": "code",
      "execution_count": null,
      "metadata": {
        "id": "SuwkPsYQaxe-"
      },
      "outputs": [],
      "source": [
        "df_recibos_produto_final"
      ]
    },
    {
      "cell_type": "code",
      "execution_count": null,
      "metadata": {
        "id": "kbrKad89a0r-"
      },
      "outputs": [],
      "source": [
        "df_recibos_produto = df_recibos_produto_final.rename(columns={\n",
        "    'recibo_id':'produto_recibo_id',\n",
        "    'idExterno':'produto_id_externo',\n",
        "    'id':'produto_id',\n",
        "    'descricao':'descricao'\n",
        "    })"
      ]
    },
    {
      "cell_type": "code",
      "execution_count": null,
      "metadata": {
        "id": "_Ghgwweya3EW"
      },
      "outputs": [],
      "source": [
        "df_recibos_produto"
      ]
    },
    {
      "cell_type": "code",
      "execution_count": null,
      "metadata": {
        "id": "Oa6wrW_0a5ct"
      },
      "outputs": [],
      "source": [
        "df_recibos_e_produtos = pd.concat([df_recibos, df_recibos_produto], axis=1)"
      ]
    },
    {
      "cell_type": "code",
      "execution_count": null,
      "metadata": {
        "id": "T6WyhIpLa7jt"
      },
      "outputs": [],
      "source": [
        "df_recibos_e_produtos"
      ]
    },
    {
      "cell_type": "code",
      "execution_count": null,
      "metadata": {
        "id": "fgdX7Aqua_o-"
      },
      "outputs": [],
      "source": [
        "df_recibos_e_produtos['recibo_id'].nunique()"
      ]
    },
    {
      "cell_type": "markdown",
      "metadata": {
        "id": "7p-EQPbrbZdc"
      },
      "source": [
        "## Validação dos dados com o SCHEMA"
      ]
    },
    {
      "cell_type": "code",
      "execution_count": null,
      "metadata": {
        "id": "7ecy-vuJbbw9"
      },
      "outputs": [],
      "source": [
        "df_recibos_e_produtos.replace(to_replace=\"None\", value=np.NaN, inplace=True)"
      ]
    },
    {
      "cell_type": "code",
      "execution_count": null,
      "metadata": {
        "id": "AQnH67cCbeFE"
      },
      "outputs": [],
      "source": [
        "df_recibos_e_produtos"
      ]
    },
    {
      "cell_type": "code",
      "execution_count": null,
      "metadata": {
        "id": "XMC43jbibiI3"
      },
      "outputs": [],
      "source": [
        "df_recibos_e_produtos.info()"
      ]
    },
    {
      "cell_type": "code",
      "execution_count": null,
      "metadata": {
        "id": "BL2nOYmMbs6V"
      },
      "outputs": [],
      "source": [
        "df_recibos_e_produtos['vendido_em'] = df_recibos_e_produtos['vendido_em'].astype('datetime64[ns]')"
      ]
    },
    {
      "cell_type": "code",
      "execution_count": null,
      "metadata": {
        "id": "HsUxFjk-bkBc"
      },
      "outputs": [],
      "source": [
        "df_recibos_e_produtos['situacao'].unique()"
      ]
    },
    {
      "cell_type": "code",
      "execution_count": null,
      "metadata": {
        "id": "0zW-8J4Bbl8M"
      },
      "outputs": [],
      "source": [
        "schema_recibos = pa.DataFrameSchema({\n",
        "\"recibo_id\": pa.Column(pa.String, nullable=False),\n",
        "\"vendido_em\": pa.Column(pa.DateTime, nullable=False),\n",
        "\"forma_pagamento\": pa.Column(pa.String, nullable=False),\n",
        "\"situacao\": pa.Column(pa.String, nullable=False),\n",
        "\"valorTotal\": pa.Column(pa.Float, nullable=False),\n",
        "\"produto_recibo_id\": pa.Column(pa.String, nullable=False),\n",
        "\"produto_id\": pa.Column(pa.String, nullable=False),\n",
        "\"produto_id_externo\": pa.Column(pa.String, nullable=False),\n",
        "\"descricao\": pa.Column(pa.String, nullable=False),\n",
        "})"
      ]
    },
    {
      "cell_type": "code",
      "execution_count": null,
      "metadata": {
        "id": "1G14Nl-Kbn31"
      },
      "outputs": [],
      "source": [
        "df_recibos_e_produtos = schema_recibos.validate(df_recibos_e_produtos)"
      ]
    },
    {
      "cell_type": "markdown",
      "metadata": {
        "id": "N-sGCZtVCE8p"
      },
      "source": [
        "#Exportação dos Dados Tratados"
      ]
    },
    {
      "cell_type": "code",
      "execution_count": null,
      "metadata": {
        "id": "r96PQNfUTjWP"
      },
      "outputs": [],
      "source": [
        "#Cria um dicionário com os dataframes validados para carregá-los de uma vez\n",
        "dfs_validados = {'df_assinaturas':df_assinaturas,\n",
        "                 'df_carrinho':df_carrinho,\n",
        "                 'df_faturas':df_faturas,\n",
        "                 'df_faturas_itens':df_faturas_itens,\n",
        "                 'df_ordem_cancelamento':df_ordem_cancelamento,\n",
        "                 'df_faturas_expiradas':df_faturas_expiradas,\n",
        "                 'df_recibos_e_produtos':df_recibos_e_produtos\n",
        "}\n"
      ]
    },
    {
      "cell_type": "markdown",
      "metadata": {
        "id": "C_i9lKRFgqGY"
      },
      "source": [
        "##Bucket"
      ]
    },
    {
      "cell_type": "code",
      "execution_count": null,
      "metadata": {
        "id": "9uUg7Un6eDTg"
      },
      "outputs": [],
      "source": [
        "#Transforma cada dataframe em um arquivo .csv e os envia ao bucket utilizando o caminho gsutil\n",
        "\n",
        "for nome, df in dfs_validados.items():\n",
        "  df.to_csv(f'gs://ad1-dashboards-b2c-tratados/{nome}.csv')\n",
        "\n"
      ]
    },
    {
      "cell_type": "markdown",
      "metadata": {
        "id": "myWRB50wCE5I"
      },
      "source": [
        "##MongoDB"
      ]
    },
    {
      "cell_type": "code",
      "source": [
        "#Transformação das colunas do tipo data dos dfs para objeto. Ação necessária para contornar\n",
        "#incompatibilidade do pymongo com os dados NaT\n",
        "\n",
        "colunas_data = ['data_compra',\n",
        "                'data_vencimento',\n",
        "                'criado_em',\n",
        "                'atualizado_em',\n",
        "                'pago_em',\n",
        "                'expirado_em',\n",
        "                'protestado_em',\n",
        "                'cancelado_em',\n",
        "                'chargeback_em',\n",
        "                'data_ocorrencia',\n",
        "                'ultima_atualizacao',\n",
        "                'expira_em',\n",
        "                'data']"
      ],
      "metadata": {
        "id": "t4jnvk7gPTrl"
      },
      "execution_count": null,
      "outputs": []
    },
    {
      "cell_type": "code",
      "source": [
        "df_validados_mongo = dict()\n",
        "\n",
        "for nome, df in dfs_validados.items():\n",
        "  for coluna in colunas_data:\n",
        "    if coluna in list(df.columns):\n",
        "      df[coluna] = df[coluna].astype(object).where(df[coluna].notnull(), None)\n",
        "\n",
        "  df_validados_mongo[nome] = df"
      ],
      "metadata": {
        "id": "IT7tGZoWI-j5"
      },
      "execution_count": null,
      "outputs": []
    },
    {
      "cell_type": "code",
      "execution_count": null,
      "metadata": {
        "id": "KT-7FvvkEv8Y"
      },
      "outputs": [],
      "source": [
        "#Transforma cada dataframe em um dicionário de registros e os insere em uma coleção do MongoDB\n",
        "\n",
        "\n",
        "for i, (key, value) in enumerate(df_validados_mongo.items()):\n",
        "\n",
        "  nome_db = f'{i}'\n",
        "  db = client_mongo[nome_db]\n",
        "\n",
        "  colecao = db[key]\n",
        "\n",
        "  df_dict = value.to_dict(\"records\")\n",
        "\n",
        "  colecao.insert_many(df_dict)\n",
        "\n"
      ]
    },
    {
      "cell_type": "markdown",
      "metadata": {
        "id": "uY-pvG_YPZkv"
      },
      "source": [
        "# EDA PySpark"
      ]
    },
    {
      "cell_type": "markdown",
      "metadata": {
        "id": "Y33LQiUeb3Ld"
      },
      "source": [
        "## Faturas"
      ]
    },
    {
      "cell_type": "code",
      "execution_count": null,
      "metadata": {
        "id": "6dqgDFJtb1tV"
      },
      "outputs": [],
      "source": [
        "df_faturas_spark = spark.createDataFrame(df_faturas)"
      ]
    },
    {
      "cell_type": "code",
      "execution_count": null,
      "metadata": {
        "id": "ZDkoNiy2b6-F"
      },
      "outputs": [],
      "source": [
        "df_faturas_spark.show()"
      ]
    },
    {
      "cell_type": "markdown",
      "metadata": {
        "id": "K9yAtu_HcBDw"
      },
      "source": [
        "## Fatura_Itens"
      ]
    },
    {
      "cell_type": "code",
      "execution_count": null,
      "metadata": {
        "id": "dE-a_KqEcDLc"
      },
      "outputs": [],
      "source": [
        "df_faturas_itens_spark = spark.createDataFrame(df_faturas_itens)"
      ]
    },
    {
      "cell_type": "code",
      "execution_count": null,
      "metadata": {
        "id": "Lo6ivf-Fc_U8"
      },
      "outputs": [],
      "source": [
        "df_faturas_itens_spark.show()"
      ]
    },
    {
      "cell_type": "markdown",
      "metadata": {
        "id": "__7JsCC8dpyb"
      },
      "source": [
        "## Faturas Expiradas"
      ]
    },
    {
      "cell_type": "code",
      "execution_count": null,
      "metadata": {
        "id": "pNOzUyDwdr8M"
      },
      "outputs": [],
      "source": [
        "df_faturas_expiradas_spark = spark.createDataFrame(df_faturas_expiradas)"
      ]
    },
    {
      "cell_type": "code",
      "execution_count": null,
      "metadata": {
        "id": "jyeuhKDFd7mE"
      },
      "outputs": [],
      "source": [
        "df_faturas_expiradas_spark.show()"
      ]
    },
    {
      "cell_type": "markdown",
      "metadata": {
        "id": "Z2YCcZ2Vc8eG"
      },
      "source": [
        "## Assinaturas"
      ]
    },
    {
      "cell_type": "code",
      "execution_count": null,
      "metadata": {
        "id": "CexbXkhrc9w3"
      },
      "outputs": [],
      "source": [
        "df_subscriptions_spark = spark.createDataFrame(df_subscriptions_geral)"
      ]
    },
    {
      "cell_type": "code",
      "execution_count": null,
      "metadata": {
        "id": "PtJ4eaCTdIML"
      },
      "outputs": [],
      "source": [
        "df_subscriptions_spark.show()"
      ]
    },
    {
      "cell_type": "markdown",
      "metadata": {
        "id": "lqdbAIBWdNfE"
      },
      "source": [
        "## ShoppingCart"
      ]
    },
    {
      "cell_type": "code",
      "execution_count": null,
      "metadata": {
        "id": "iY5ZRe6jdO8k"
      },
      "outputs": [],
      "source": [
        "df_shoppingCart_spark = spark.createDataFrame(df_shoppingCart_final)"
      ]
    },
    {
      "cell_type": "code",
      "execution_count": null,
      "metadata": {
        "id": "iRwIvmKNdeRy"
      },
      "outputs": [],
      "source": [
        "df_shoppingCart_spark.show()"
      ]
    },
    {
      "cell_type": "markdown",
      "metadata": {
        "id": "GaNJa_W8dh7L"
      },
      "source": [
        "## Recibos e Produtos"
      ]
    },
    {
      "cell_type": "code",
      "execution_count": null,
      "metadata": {
        "id": "SQgszfF4djeF"
      },
      "outputs": [],
      "source": [
        "df_recibos_e_produtos_spark = spark.createDataFrame(df_recibos_e_produtos)"
      ]
    },
    {
      "cell_type": "code",
      "execution_count": null,
      "metadata": {
        "id": "2wIjE0cYdlpq"
      },
      "outputs": [],
      "source": [
        "df_recibos_e_produtos_spark.show()"
      ]
    },
    {
      "cell_type": "markdown",
      "metadata": {
        "id": "7o6Zf_-Zdmyr"
      },
      "source": [
        "## Ordem de Cancelamento"
      ]
    },
    {
      "cell_type": "code",
      "execution_count": null,
      "metadata": {
        "id": "30WXnsgXdyT0"
      },
      "outputs": [],
      "source": [
        "df_ordem_cancelamento_spark = spark.createDataFrame(df_ordem_cancelamento)"
      ]
    },
    {
      "cell_type": "code",
      "execution_count": null,
      "metadata": {
        "id": "fb_dyfHqeNmZ"
      },
      "outputs": [],
      "source": [
        "df_ordem_cancelamento_spark.show()"
      ]
    },
    {
      "cell_type": "markdown",
      "source": [
        "# Dashboard"
      ],
      "metadata": {
        "id": "S3POn43x4zdO"
      }
    },
    {
      "cell_type": "markdown",
      "source": [
        "[Trabalho Final - Dashboard Assinatura Tech da SoulCode Academy](https://lookerstudio.google.com/reporting/0bdc0001-ec57-4964-9a53-d35e35ff189e/page/rIJPD)"
      ],
      "metadata": {
        "id": "bt0BoxnT5jAa"
      }
    }
  ],
  "metadata": {
    "colab": {
      "collapsed_sections": [
        "sQSXqom7HlPK"
      ],
      "provenance": [],
      "toc_visible": true,
      "include_colab_link": true
    },
    "kernelspec": {
      "display_name": "Python 3",
      "name": "python3"
    },
    "language_info": {
      "name": "python"
    }
  },
  "nbformat": 4,
  "nbformat_minor": 0
}