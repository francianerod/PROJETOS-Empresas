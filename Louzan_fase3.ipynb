{
  "nbformat": 4,
  "nbformat_minor": 0,
  "metadata": {
    "colab": {
      "provenance": [],
      "include_colab_link": true
    },
    "kernelspec": {
      "name": "python3",
      "display_name": "Python 3"
    },
    "language_info": {
      "name": "python"
    }
  },
  "cells": [
    {
      "cell_type": "markdown",
      "metadata": {
        "id": "view-in-github",
        "colab_type": "text"
      },
      "source": [
        "<a href=\"https://colab.research.google.com/github/francianerod/PROJETOS-Empresas/blob/main/Louzan_fase3.ipynb\" target=\"_parent\"><img src=\"https://colab.research.google.com/assets/colab-badge.svg\" alt=\"Open In Colab\"/></a>"
      ]
    },
    {
      "cell_type": "markdown",
      "source": [
        "### **Relatórios Gerenciais - Resultados 3**\n",
        "\n",
        "Analista responsável: Franciane Rodrigues\n",
        "\n",
        "Empresa: Louzan Illustrations\n",
        "\n",
        "Área/Setor: Administrativo/Estratégico\n",
        "\n",
        "Obs.: Código usado para confecção de relatórios gerenciais das coleções de camisetas brancas e pretas com estampas frente e costas\n"
      ],
      "metadata": {
        "id": "f6USO5qujD-3"
      }
    },
    {
      "cell_type": "markdown",
      "source": [
        "## **Instalação e Preparação de Ambiente**"
      ],
      "metadata": {
        "id": "4HT7SKGsoBZd"
      }
    },
    {
      "cell_type": "code",
      "execution_count": null,
      "metadata": {
        "id": "Znfeq66GOW3T"
      },
      "outputs": [],
      "source": [
        "# Comando de abertura para Google Drive\n",
        "from google.colab import drive\n",
        "drive.mount('/content/drive')"
      ]
    },
    {
      "cell_type": "code",
      "source": [
        "# Instação de Pacotes\n",
        "!pip install gspread"
      ],
      "metadata": {
        "id": "rBlEOKqqtg-G"
      },
      "execution_count": null,
      "outputs": []
    },
    {
      "cell_type": "code",
      "source": [
        "# Importação de biblioteca\n",
        "import pandas as pd\n",
        "from google.colab import auth\n",
        "from google.auth import default\n",
        "import gspread"
      ],
      "metadata": {
        "id": "kEpwDtDSPCit"
      },
      "execution_count": null,
      "outputs": []
    },
    {
      "cell_type": "code",
      "source": [
        "# Autenticação para Google Sheets\n",
        "auth.authenticate_user()\n",
        "creds, _ = default()\n",
        "gc = gspread.authorize(creds)"
      ],
      "metadata": {
        "id": "m0Y4dfzUvWKY"
      },
      "execution_count": null,
      "outputs": []
    },
    {
      "cell_type": "code",
      "source": [
        "# Configuração da quantidade de colunas para aparecer em um Datraframe\n",
        "pd.set_option('display.max_columns',100)"
      ],
      "metadata": {
        "id": "rAzw8HZvQuKf"
      },
      "execution_count": null,
      "outputs": []
    },
    {
      "cell_type": "code",
      "source": [
        "# Ignorar avisos\n",
        "import warnings\n",
        "warnings.filterwarnings(\"ignore\")"
      ],
      "metadata": {
        "id": "3tUiqpGRdhPU"
      },
      "execution_count": null,
      "outputs": []
    },
    {
      "cell_type": "markdown",
      "source": [
        "## **EXTRAÇÃO**"
      ],
      "metadata": {
        "id": "H_dippFBTFfi"
      }
    },
    {
      "cell_type": "code",
      "source": [
        "# Abertura de Biblioteca\n",
        "df = pd.read_csv('/content/drive/MyDrive/5. DADOS/Temporário/Setembro_2023/relatorio_pedidos_produtos.csv',\n",
        "                 encoding='ISO-8859-1',\n",
        "                 sep = ';')"
      ],
      "metadata": {
        "id": "Nd0XGmHTPIRX"
      },
      "execution_count": null,
      "outputs": []
    },
    {
      "cell_type": "code",
      "source": [
        "# Visualizar as últimas linhas do dataframe\n",
        "df.tail(10)"
      ],
      "metadata": {
        "id": "4fA24Rb0Plz0"
      },
      "execution_count": null,
      "outputs": []
    },
    {
      "cell_type": "markdown",
      "source": [
        "## **TRANSFORMAÇÃO**"
      ],
      "metadata": {
        "id": "gWhSBQK6TzA_"
      }
    },
    {
      "cell_type": "markdown",
      "source": [
        "### **Transformação: Geral**"
      ],
      "metadata": {
        "id": "ZPsBFviAUu76"
      }
    },
    {
      "cell_type": "code",
      "source": [
        "# Filtragem por linhas\n",
        "geral_venda = df.iloc[92:100]\n",
        "\n",
        "# Filtragem por colunas \"Fornecedor\", \"Vendas\" e \"Custo\" usando .loc[]\n",
        "geral_venda = geral_venda.loc[:, [\"Fornecedor\", \"Vendas\", \"Custo\"]]\n",
        "\n",
        "# Renomeando colunas\n",
        "geral_venda.rename(columns={'Fornecedor':'Demonstrativo',\n",
        "                            'Vendas':'Produtos',\n",
        "                            'Custo':'Valor ($)',\n",
        "                            },inplace=True)\n",
        "\n",
        "# Mostrar resultados gerais\n",
        "geral_venda"
      ],
      "metadata": {
        "id": "_QCR2Wz7dPe7"
      },
      "execution_count": null,
      "outputs": []
    },
    {
      "cell_type": "code",
      "source": [
        "# Eliminando as linhas do dataframe que representa o resultado final\n",
        "df = df.drop(range(92, 100))"
      ],
      "metadata": {
        "id": "uDAsF727dzuA"
      },
      "execution_count": null,
      "outputs": []
    },
    {
      "cell_type": "code",
      "source": [
        "# Eliminando colunas desnecessárias\n",
        "df.drop(['SKU Fornecedor','Fornecedor', 'SKU', 'Custo'],axis=1, inplace=True)"
      ],
      "metadata": {
        "id": "TaJjrPE_t4gs"
      },
      "execution_count": null,
      "outputs": []
    },
    {
      "cell_type": "code",
      "source": [
        "# Verificação da base de dados de forma aleatória\n",
        "df.sample(10)"
      ],
      "metadata": {
        "id": "U7UdkUNEkJFn"
      },
      "execution_count": null,
      "outputs": []
    },
    {
      "cell_type": "code",
      "source": [
        "# Preenchendo os valores nulos com uma string.\n",
        "df['Marca'].fillna('SEM INFORMAÇÃO', inplace=True)"
      ],
      "metadata": {
        "id": "A53sfDYikepc"
      },
      "execution_count": null,
      "outputs": []
    },
    {
      "cell_type": "code",
      "source": [
        "# Crie a nova coluna 'situação' com base na coluna 'Marca'.\n",
        "df['Situação'] = df['Marca'].apply(lambda x: 'EM PRODUÇÃO' if 'NARUTO' in x else 'EM ESTOQUE')"
      ],
      "metadata": {
        "id": "AR3paOi9XjKL"
      },
      "execution_count": null,
      "outputs": []
    },
    {
      "cell_type": "code",
      "source": [
        "# Trabalhar com valor monetario\n",
        "df['Valor_TOTAL (R$)'] = df['Valor Vendas'].str.replace('R\\$', '').str.replace(',00', '').str.replace('.', '')\n",
        "\n",
        "# Converter a coluna para o tipo de dado 'int'\n",
        "df['Valor_TOTAL (R$)'] = df['Valor_TOTAL (R$)'].astype(int)\n",
        "\n",
        "df.head()"
      ],
      "metadata": {
        "id": "wGA7oe0sqgdw"
      },
      "execution_count": null,
      "outputs": []
    },
    {
      "cell_type": "code",
      "source": [
        "# Converter a coluna para o tipo de dado 'int'\n",
        "df['Vendas'] = df['Vendas'].astype(int)\n",
        "df['Valor_TOTAL (R$)'] = df['Valor_TOTAL (R$)'].astype(int)"
      ],
      "metadata": {
        "id": "RZvqmD97qKy6"
      },
      "execution_count": null,
      "outputs": []
    },
    {
      "cell_type": "code",
      "source": [
        "# Informação sobre a base de dados\n",
        "df.info()"
      ],
      "metadata": {
        "id": "aXVdga9zleCj"
      },
      "execution_count": null,
      "outputs": []
    },
    {
      "cell_type": "markdown",
      "source": [
        "### **Transformação: PRÉ-VENDA**"
      ],
      "metadata": {
        "id": "hyHfVtrQOKky"
      }
    },
    {
      "cell_type": "code",
      "source": [
        "# Localizando as linhas onde a coluna \"marca\" contém a palavra \"EM PRODUÇÃO\"\n",
        "geral_produtos_pre = df[df['Situação'].str.contains('EM PRODUÇÃO', case=False)]"
      ],
      "metadata": {
        "id": "Zrc_MqlPwRMt"
      },
      "execution_count": null,
      "outputs": []
    },
    {
      "cell_type": "code",
      "source": [
        "# Mostrar os produtos vendidos e sua estrutura\n",
        "geral_produtos_pre"
      ],
      "metadata": {
        "id": "B5L0BXl-mC4F"
      },
      "execution_count": null,
      "outputs": []
    },
    {
      "cell_type": "code",
      "source": [
        "# Converter a coluna para o tipo de dado 'int'\n",
        "geral_produtos_pre['Vendas'] = geral_produtos_pre['Vendas'].astype(int)\n",
        "\n",
        "# Quantidade de Camisetas da pré-venda por Tamanho\n",
        "geral_produtos_pre.groupby('Categoria')['Vendas'].sum().sort_values(ascending=True)"
      ],
      "metadata": {
        "id": "jJ58Tfbr3Hi6"
      },
      "execution_count": null,
      "outputs": []
    },
    {
      "cell_type": "code",
      "source": [
        "# Valor total da pré-venda\n",
        "total_pre_venda = df['Valor_TOTAL (R$)'].sum()\n",
        "\n",
        "# Imprimir os totais\n",
        "print(\"O valor total de vendas na Pré-venda foi de: R$\", total_pre_venda)"
      ],
      "metadata": {
        "id": "2JpOxThZqgVr"
      },
      "execution_count": null,
      "outputs": []
    },
    {
      "cell_type": "code",
      "source": [
        "# Filtrar linhas que começam com \"PRÉ VENDA\" na coluna \"Produto\" filtrando só as camisetas\n",
        "geral_pre_venda = df[df['Produto'].str.startswith('PRÉ VENDA')]"
      ],
      "metadata": {
        "id": "73Ytqz-uOJzF"
      },
      "execution_count": null,
      "outputs": []
    },
    {
      "cell_type": "code",
      "source": [
        "# Mostrar os produtos vendidos e sua estrutura\n",
        "geral_pre_venda"
      ],
      "metadata": {
        "id": "WseXJHTYmXJG"
      },
      "execution_count": null,
      "outputs": []
    },
    {
      "cell_type": "code",
      "source": [
        "# Renomeando atributos.\n",
        "geral_pre_venda.loc[geral_pre_venda.Combinação == 'Stikers  :  Tamanho: P', ['Combinação']]  = 'Cor: Preto; Estampa: Costa; Tamanho: P'\n",
        "geral_pre_venda.loc[geral_pre_venda.Combinação == 'Stikers  :  Tamanho: M', ['Combinação']]  = 'Cor: Preto; Estampa: Costa; Tamanho: M'\n",
        "geral_pre_venda.loc[geral_pre_venda.Combinação == 'Stikers  :  Tamanho: G', ['Combinação']]  = 'Cor: Preto; Estampa: Costa; Tamanho: G'\n",
        "geral_pre_venda.loc[geral_pre_venda.Combinação == 'Stikers  :  Tamanho: GG', ['Combinação']] = 'Cor: Preto; Estampa: Costa; Tamanho: GG'\n",
        "geral_pre_venda.loc[geral_pre_venda.Combinação == 'Stikers  :  Tamanho: G1', ['Combinação']] = 'Cor: Preto; Estampa: Costa; Tamanho: G1'\n",
        "geral_pre_venda.loc[geral_pre_venda.Combinação == 'Stikers  :  Tamanho: G2', ['Combinação']] = 'Cor: Preto; Estampa: Costa; Tamanho: G2'\n",
        "geral_pre_venda.loc[geral_pre_venda.Combinação == 'Stikers  :  Tamanho: G3', ['Combinação']] = 'Cor: Preto; Estampa: Costa; Tamanho: G3'"
      ],
      "metadata": {
        "id": "M_EeGpPC3CQN"
      },
      "execution_count": null,
      "outputs": []
    },
    {
      "cell_type": "code",
      "source": [
        "# Renomeando atributos.\n",
        "geral_pre_venda.loc[geral_pre_venda.Combinação == 'Cor: Branco Estampa : Estampa Costa Stikers  :  Tamanho: P',  ['Combinação']] = 'Cor: Branco; Estampa: Costa; Tamanho: P'\n",
        "geral_pre_venda.loc[geral_pre_venda.Combinação == 'Cor: Branco Estampa : Estampa Costa Stikers  :  Tamanho: M',  ['Combinação']] = 'Cor: Branco; Estampa: Costa; Tamanho: M'\n",
        "geral_pre_venda.loc[geral_pre_venda.Combinação == 'Cor: Branco Estampa : Estampa Costa Stikers  :  Tamanho: G',  ['Combinação']] = 'Cor: Branco; Estampa: Costa; Tamanho: G'\n",
        "geral_pre_venda.loc[geral_pre_venda.Combinação == 'Cor: Branco Estampa : Estampa Costa Stikers  :  Tamanho: GG', ['Combinação']] = 'Cor: Branco; Estampa: Costa; Tamanho: GG'\n",
        "geral_pre_venda.loc[geral_pre_venda.Combinação == 'Cor: Branco Estampa : Estampa Costa Stikers  :  Tamanho: G1', ['Combinação']] = 'Cor: Branco; Estampa: Costa; Tamanho: G1'\n",
        "geral_pre_venda.loc[geral_pre_venda.Combinação == 'Cor: Branco Estampa : Estampa Costa Stikers  :  Tamanho: G2', ['Combinação']] = 'Cor: Branco; Estampa: Costa; Tamanho: G2'\n",
        "geral_pre_venda.loc[geral_pre_venda.Combinação == 'Cor: Branco Estampa : Estampa Costa Stikers  :  Tamanho: G3', ['Combinação']] = 'Cor: Branco; Estampa: Costa; Tamanho: G3'"
      ],
      "metadata": {
        "id": "RisKu9DY7XBE"
      },
      "execution_count": null,
      "outputs": []
    },
    {
      "cell_type": "code",
      "source": [
        "# Renomeando atributos.\n",
        "geral_pre_venda.loc[geral_pre_venda.Combinação == 'Cor: Branco Estampa : Estampa Frente Stikers  :  Tamanho: P', ['Combinação']]  = 'Cor: Branco; Estampa: Frente; Tamanho: P'\n",
        "geral_pre_venda.loc[geral_pre_venda.Combinação == 'Cor: Branco Estampa : Estampa Frente Stikers  :  Tamanho: M', ['Combinação']]  = 'Cor: Branco; Estampa: Frente; Tamanho: M'\n",
        "geral_pre_venda.loc[geral_pre_venda.Combinação == 'Cor: Branco Estampa : Estampa Frente Stikers  :  Tamanho: G', ['Combinação']]  = 'Cor: Branco; Estampa: Frente; Tamanho: G'\n",
        "geral_pre_venda.loc[geral_pre_venda.Combinação == 'Cor: Branco Estampa : Estampa Frente Stikers  :  Tamanho: GG', ['Combinação']] = 'Cor: Branco; Estampa: Frente; Tamanho: GG'"
      ],
      "metadata": {
        "id": "lidG6djf9LK_"
      },
      "execution_count": null,
      "outputs": []
    },
    {
      "cell_type": "code",
      "source": [
        "# Renomeando atributos.\n",
        "geral_pre_venda.loc[geral_pre_venda.Combinação == 'Cor: Preto Estampa : Estampa Costa Stikers  :  Tamanho: P', ['Combinação']]  = 'Cor: Preto; Estampa: Costa; Tamanho: P'\n",
        "geral_pre_venda.loc[geral_pre_venda.Combinação == 'Cor: Preto Estampa : Estampa Costa Stikers  :  Tamanho: M', ['Combinação']]  = 'Cor: Preto; Estampa: Costa; Tamanho: M'\n",
        "geral_pre_venda.loc[geral_pre_venda.Combinação == 'Cor: Preto Estampa : Estampa Costa Stikers  :  Tamanho: G', ['Combinação']]  = 'Cor: Preto; Estampa: Costa; Tamanho: G'\n",
        "geral_pre_venda.loc[geral_pre_venda.Combinação == 'Cor: Preto Estampa : Estampa Costa Stikers  :  Tamanho: GG', ['Combinação']] = 'Cor: Preto; Estampa: Costa; Tamanho: GG'\n",
        "geral_pre_venda.loc[geral_pre_venda.Combinação == 'Cor: Preto Estampa : Estampa Costa Stikers  :  Tamanho: G1', ['Combinação']] = 'Cor: Preto; Estampa: Costa; Tamanho: G1'\n",
        "geral_pre_venda.loc[geral_pre_venda.Combinação == 'Cor: Preto Estampa : Estampa Costa Stikers  :  Tamanho: G2', ['Combinação']] = 'Cor: Preto; Estampa: Costa; Tamanho: G2'\n",
        "geral_pre_venda.loc[geral_pre_venda.Combinação == 'Cor: Preto Estampa : Estampa Costa Stikers  :  Tamanho: G3', ['Combinação']] = 'Cor: Preto; Estampa: Costa; Tamanho: G3'"
      ],
      "metadata": {
        "id": "80RO_POK9s9s"
      },
      "execution_count": null,
      "outputs": []
    },
    {
      "cell_type": "code",
      "source": [
        "# Renomeando atributos.\n",
        "geral_pre_venda.loc[geral_pre_venda.Combinação == 'Cor: Preto Estampa : Estampa Frente Stikers  :  Tamanho: P', ['Combinação']]  = 'Cor: Preto; Estampa: Frente; Tamanho: P'\n",
        "geral_pre_venda.loc[geral_pre_venda.Combinação == 'Cor: Preto Estampa : Estampa Frente Stikers  :  Tamanho: M', ['Combinação']]  = 'Cor: Preto; Estampa: Frente; Tamanho: M'\n",
        "geral_pre_venda.loc[geral_pre_venda.Combinação == 'Cor: Preto Estampa : Estampa Frente Stikers  :  Tamanho: G', ['Combinação']]  = 'Cor: Preto; Estampa: Frente; Tamanho: G'\n",
        "geral_pre_venda.loc[geral_pre_venda.Combinação == 'Cor: Preto Estampa : Estampa Frente Stikers  :  Tamanho: GG', ['Combinação']] = 'Cor: Preto; Estampa: Frente; Tamanho: GG'\n",
        "geral_pre_venda.loc[geral_pre_venda.Combinação == 'Cor: Preto Estampa : Estampa Frente Stikers  :  Tamanho: G1', ['Combinação']] = 'Cor: Preto; Estampa: Frente; Tamanho: G1'\n",
        "geral_pre_venda.loc[geral_pre_venda.Combinação == 'Cor: Preto Estampa : Estampa Frente Stikers  :  Tamanho: G2', ['Combinação']] = 'Cor: Preto; Estampa: Frente; Tamanho: G2'"
      ],
      "metadata": {
        "id": "RqE0syRA9s1i"
      },
      "execution_count": null,
      "outputs": []
    },
    {
      "cell_type": "code",
      "source": [
        "# Extrair as informações de Cor, Estampa e Tamanho da coluna \"Combinação\"\n",
        "geral_pre_venda['Cor'] = geral_pre_venda['Combinação'].str.extract(r'Cor:\\s+(\\w+)')\n",
        "geral_pre_venda['Estampa'] = geral_pre_venda['Combinação'].str.extract(r'Estampa:\\s+(\\w+)')\n",
        "geral_pre_venda['Tamanho'] = geral_pre_venda['Combinação'].str.extract(r'Tamanho:\\s+(\\w+)')"
      ],
      "metadata": {
        "id": "rrzUQ0ANAp2e"
      },
      "execution_count": null,
      "outputs": []
    },
    {
      "cell_type": "code",
      "source": [
        "# Verificação\n",
        "geral_pre_venda"
      ],
      "metadata": {
        "id": "l7WS-thoAuhY"
      },
      "execution_count": null,
      "outputs": []
    },
    {
      "cell_type": "code",
      "source": [
        "# Eliminando a coluna Combinação\n",
        "geral_pre_venda.drop(['Combinação'],axis=1,inplace=True)"
      ],
      "metadata": {
        "id": "ddzNDON-BYyT"
      },
      "execution_count": null,
      "outputs": []
    },
    {
      "cell_type": "code",
      "source": [
        "# Calcule a soma da coluna de vendas\n",
        "total_vendas = geral_pre_venda['Vendas'].sum()\n",
        "\n",
        "# Exiba o total de vendas\n",
        "print(f'Soma do total de Camisetas da Pré-Venda: {total_vendas}')"
      ],
      "metadata": {
        "id": "hk8GlVOMlHzF"
      },
      "execution_count": null,
      "outputs": []
    },
    {
      "cell_type": "code",
      "source": [
        "# Converter a coluna para o tipo de dado 'int'\n",
        "geral_pre_venda['Vendas'] = geral_pre_venda['Vendas'].astype(int)\n",
        "\n",
        "# Defina a ordem categórica desejada\n",
        "ordem_categorica = ['P', 'M', 'G', 'GG', 'G1', 'G2', 'G3']\n",
        "\n",
        "# Use a função Categorical para definir a ordem\n",
        "geral_pre_venda['Tamanho'] = pd.Categorical(geral_pre_venda['Tamanho'], categories=ordem_categorica, ordered=True)\n",
        "\n",
        "# Calcule a soma das vendas por Tamanho\n",
        "geral_grade = geral_pre_venda.groupby('Tamanho')['Vendas'].sum()\n",
        "\n",
        "# Reordene o resultado com base na ordem categórica\n",
        "geral_grade = geral_grade.reindex(ordem_categorica)\n",
        "\n",
        "# Crie um DataFrame a partir do resultado\n",
        "geral_grade = pd.DataFrame({'Tamanho': geral_grade.index, 'Quantidade': geral_grade.values})\n",
        "\n",
        "# Exiba a tabela resultante\n",
        "geral_grade"
      ],
      "metadata": {
        "id": "SpERyANobyEb"
      },
      "execution_count": null,
      "outputs": []
    },
    {
      "cell_type": "markdown",
      "source": [
        "### **Opcional: PRÉ-VENDA: SEPARAÇÃO DE CORES**"
      ],
      "metadata": {
        "id": "QXfTzj6cbwRG"
      }
    },
    {
      "cell_type": "code",
      "source": [
        "# Agrupar por cor, tamanho e calcular a quantidade\n",
        "geral_grade_cores = geral_pre_venda.groupby(['Cor', 'Tamanho']).agg({'Vendas': 'sum'}).reset_index()\n",
        "geral_grade_cores.rename(columns={'Vendas': 'Quantidade'}, inplace=True)\n",
        "geral_grade_cores"
      ],
      "metadata": {
        "id": "72WJEpeNa_UZ"
      },
      "execution_count": null,
      "outputs": []
    },
    {
      "cell_type": "code",
      "source": [
        "# Separar em preto e branco\n",
        "branco_grade_cores = geral_grade_cores[geral_grade_cores['Cor'] == 'Branco']\n",
        "preto_grade_cores = geral_grade_cores[geral_grade_cores['Cor'] == 'Preto']\n",
        "\n",
        "# Mostrar as tabelas separadas\n",
        "branco_grade_cores"
      ],
      "metadata": {
        "id": "_wmjU2_8S9mz"
      },
      "execution_count": null,
      "outputs": []
    },
    {
      "cell_type": "code",
      "source": [
        "# Mostrar as tabelas separadas\n",
        "preto_grade_cores"
      ],
      "metadata": {
        "id": "lS6qNnW7TwaA"
      },
      "execution_count": null,
      "outputs": []
    },
    {
      "cell_type": "code",
      "source": [
        "# Converter a coluna para o tipo de dado 'int'\n",
        "geral_pre_venda['Vendas'] = geral_pre_venda['Vendas'].astype(int)\n",
        "\n",
        "# Calcule a soma da coluna de vendas\n",
        "total_vendas = geral_pre_venda['Vendas'].sum()\n",
        "\n",
        "# Exiba o total de vendas\n",
        "print(f'Soma do Total de Camisetas da Pré-Venda: {total_vendas}')\n",
        "\n",
        "# Calcular o total de camisetas brancas\n",
        "total_brancas = geral_grade_cores[geral_grade_cores[\"Cor\"] == \"Branco\"][\"Quantidade\"].sum()\n",
        "\n",
        "# Calcular o total de camisetas pretas\n",
        "total_pretas = geral_grade_cores[geral_grade_cores[\"Cor\"] == \"Preto\"][\"Quantidade\"].sum()\n",
        "\n",
        "# Imprimir os totais\n",
        "print(\"Total de camisetas brancas:\", total_brancas)\n",
        "print(\"Total de camisetas pretas:\", total_pretas)"
      ],
      "metadata": {
        "id": "HkfhxvvYRgWM"
      },
      "execution_count": null,
      "outputs": []
    },
    {
      "cell_type": "code",
      "source": [
        "# Localizando as linhas onde a coluna \"Produto\" e realizando separação\n",
        "pre_venda_p1 = geral_pre_venda[geral_pre_venda['Produto'].str.contains(r'\\bMIGHT GUY\\b', regex=True, case=False)]\n",
        "\n",
        "# Defina a ordem categórica desejada para a coluna 'Cor'\n",
        "ordem_categorica_cor = ['Preto', 'Branco']\n",
        "\n",
        "# Use a função Categorical para definir a ordem para a coluna 'Cor'\n",
        "pre_venda_p1['Cor'] = pd.Categorical(pre_venda_p1['Cor'], categories=ordem_categorica_cor, ordered=True)\n",
        "\n",
        "# Defina a ordem categórica desejada para a coluna 'Tamanho'\n",
        "ordem_categorica_tamanho = ['Costa', 'Frente']\n",
        "\n",
        "# Use a função Categorical para definir a ordem para a coluna 'Tamanho'\n",
        "pre_venda_p1['Estampa'] = pd.Categorical(pre_venda_p1['Estampa'], categories=ordem_categorica_tamanho, ordered=True)\n",
        "\n",
        "# Defina a ordem categórica desejada para a coluna 'Tamanho'\n",
        "ordem_categorica_tamanho = ['P', 'M', 'G', 'GG', 'G1', 'G2', 'G3']\n",
        "\n",
        "# Use a função Categorical para definir a ordem para a coluna 'Tamanho'\n",
        "pre_venda_p1['Tamanho'] = pd.Categorical(pre_venda_p1['Tamanho'], categories=ordem_categorica_tamanho, ordered=True)\n",
        "\n",
        "# Ordene o DataFrame primeiro por \"Cor\" e depois por \"Tamanho\"\n",
        "pre_venda_p1 = pre_venda_p1.sort_values(by=[\"Cor\", \"Estampa\", \"Tamanho\"])\n",
        "\n",
        "# Eliminando colunas\n",
        "pre_venda_p1.drop(['Valor Vendas', 'Situação', 'Valor_TOTAL (R$)'],axis=1,inplace=True)\n",
        "\n",
        "# Exibir o DataFrame organizado\n",
        "pre_venda_p1"
      ],
      "metadata": {
        "id": "yZPeE7UdaIm4"
      },
      "execution_count": null,
      "outputs": []
    },
    {
      "cell_type": "code",
      "source": [
        "# Localizando as linhas onde a coluna \"Produto\" e realizando separação\n",
        "pre_venda_p2 = geral_pre_venda[geral_pre_venda['Produto'].str.contains(r'\\bROCK LEE\\b', regex=True, case=False)]\n",
        "\n",
        "# Defina a ordem categórica desejada para a coluna 'Cor'\n",
        "ordem_categorica_cor = ['Preto', 'Branco']\n",
        "\n",
        "# Use a função Categorical para definir a ordem para a coluna 'Cor'\n",
        "pre_venda_p2['Cor'] = pd.Categorical(pre_venda_p2['Cor'], categories=ordem_categorica_cor, ordered=True)\n",
        "\n",
        "# Defina a ordem categórica desejada para a coluna 'Tamanho'\n",
        "ordem_categorica_tamanho = ['Costa', 'Frente']\n",
        "\n",
        "# Use a função Categorical para definir a ordem para a coluna 'Tamanho'\n",
        "pre_venda_p2['Estampa'] = pd.Categorical(pre_venda_p2['Estampa'], categories=ordem_categorica_tamanho, ordered=True)\n",
        "\n",
        "# Defina a ordem categórica desejada para a coluna 'Tamanho'\n",
        "ordem_categorica_tamanho = ['P', 'M', 'G', 'GG', 'G1', 'G2', 'G3']\n",
        "\n",
        "# Use a função Categorical para definir a ordem para a coluna 'Tamanho'\n",
        "pre_venda_p2['Tamanho'] = pd.Categorical(pre_venda_p2['Tamanho'], categories=ordem_categorica_tamanho, ordered=True)\n",
        "\n",
        "# Ordene o DataFrame primeiro por \"Cor\" e depois por \"Tamanho\"\n",
        "pre_venda_p2 = pre_venda_p2.sort_values(by=[\"Cor\", \"Estampa\", \"Tamanho\"])\n",
        "\n",
        "# Eliminando colunas\n",
        "pre_venda_p2.drop(['Valor Vendas', 'Situação', 'Valor_TOTAL (R$)'],axis=1,inplace=True)\n",
        "\n",
        "# Exibir o DataFrame organizado\n",
        "pre_venda_p2"
      ],
      "metadata": {
        "id": "2vqc_Tuzq92u"
      },
      "execution_count": null,
      "outputs": []
    },
    {
      "cell_type": "code",
      "source": [
        "# Localizando as linhas onde a coluna \"Produto\" e realizando separação\n",
        "pre_venda_p3 = geral_pre_venda[geral_pre_venda['Produto'].str.contains(r'\\bJIRAIYA SANNIN\\b', regex=True, case=False)]\n",
        "\n",
        "# Defina a ordem categórica desejada\n",
        "ordem_categorica = ['P', 'M', 'G', 'GG', 'G1', 'G2', 'G3']\n",
        "\n",
        "# Use a função Categorical para definir a ordem\n",
        "pre_venda_p3['Tamanho'] = pd.Categorical(pre_venda_p3['Tamanho'], categories=ordem_categorica, ordered=True)\n",
        "\n",
        "# Ordene o DataFrame com base na coluna 'Tamanho'\n",
        "pre_venda_p3 = pre_venda_p3.sort_values(by='Tamanho')\n",
        "\n",
        "# Eliminando colunas\n",
        "pre_venda_p3.drop(['Valor Vendas', 'Situação', 'Valor_TOTAL (R$)'],axis=1,inplace=True)\n",
        "\n",
        "# Exiba o DataFrame resultante\n",
        "pre_venda_p3"
      ],
      "metadata": {
        "id": "TY3yUJJCsV-l"
      },
      "execution_count": null,
      "outputs": []
    },
    {
      "cell_type": "markdown",
      "source": [
        "### **Transformação: PRONTA-ENTREGA**"
      ],
      "metadata": {
        "id": "UgSLlT6STN6-"
      }
    },
    {
      "cell_type": "code",
      "source": [
        "# Localizando as linhas onde a coluna \"marca\" contém a palavra \"EM ESTOQUE\"\n",
        "estoque_venda = df[df['Situação'].str.contains('EM ESTOQUE', case=False)]"
      ],
      "metadata": {
        "id": "We2C-WPO2EdI"
      },
      "execution_count": null,
      "outputs": []
    },
    {
      "cell_type": "code",
      "source": [
        "estoque_venda"
      ],
      "metadata": {
        "id": "vm-hlvfvPPXb"
      },
      "execution_count": null,
      "outputs": []
    },
    {
      "cell_type": "code",
      "source": [
        "# Criando um dicionário para mapear as strings para os tamanhos correspondentes.\n",
        "tamanho_mapping = {\n",
        "    'Stikers  :  Tamanho: P': 'P',\n",
        "    'Stikers  :  Tamanho: M': 'M',\n",
        "    'Stikers  :  Tamanho: G': 'G',\n",
        "    'Stikers  :  Tamanho: GG': 'GG',\n",
        "    'Stikers  :  Tamanho: G1': 'G1',\n",
        "    'Stikers  :  Tamanho: G2': 'G2',\n",
        "    'Stikers  :  Tamanho: G3': 'G3'\n",
        "}\n",
        "\n",
        "# Criando uma função para mapear as strings usando o dicionário.\n",
        "def mapear_tamanho(valor):\n",
        "    return tamanho_mapping.get(valor, 'Não se aplica')\n",
        "\n",
        "# Aplique a função mapear_tamanho para criar a nova coluna 'Tamanho'.\n",
        "estoque_venda['Tamanho'] = estoque_venda['Combinação'].apply(mapear_tamanho)\n",
        "\n",
        "# Converter a coluna para o tipo de dado 'int'\n",
        "estoque_venda['Tamanho'] = estoque_venda['Tamanho'].astype(str)\n",
        "\n",
        "# Defina a ordem categórica desejada\n",
        "ordem_categorica = ['P', 'M', 'G', 'GG', 'G1', 'G2', 'G3', 'Não se aplica']\n",
        "\n",
        "# Use a função Categorical para definir a ordem\n",
        "estoque_venda['Tamanho'] = pd.Categorical(estoque_venda['Tamanho'], categories=ordem_categorica, ordered=True)\n",
        "\n",
        "# Ordene o DataFrame com base na coluna 'Tamanho'\n",
        "estoque_venda = estoque_venda.sort_values(by='Tamanho')\n",
        "\n",
        "# Eliminando colunas\n",
        "estoque_venda.drop(['Combinação'],axis=1,inplace=True)\n",
        "\n",
        "# Exiba o DataFrame resultante\n",
        "estoque_venda"
      ],
      "metadata": {
        "id": "QRPW3bpXvI0W"
      },
      "execution_count": null,
      "outputs": []
    },
    {
      "cell_type": "code",
      "source": [
        "# Converter a coluna para o tipo de dado 'int'\n",
        "estoque_venda['Vendas'] = estoque_venda['Vendas'].astype(int)\n",
        "\n",
        "# Quantidade de Camisetas da pré-venda por Tamanho\n",
        "estoque_venda.groupby('Categoria')['Vendas'].sum().sort_values(ascending=True)"
      ],
      "metadata": {
        "id": "-fRJr_ULjjTK"
      },
      "execution_count": null,
      "outputs": []
    },
    {
      "cell_type": "code",
      "source": [
        "# Valor total da pré-venda\n",
        "total_estoque = estoque_venda['Valor_TOTAL (R$)'].sum()\n",
        "\n",
        "# Imprimir os totais\n",
        "print(\"O valor total de vendas na Pré-venda foi de: R$\", total_estoque)"
      ],
      "metadata": {
        "id": "V3wZ0PqY4WoY"
      },
      "execution_count": null,
      "outputs": []
    },
    {
      "cell_type": "markdown",
      "source": [
        "## **RESULTADOS GERAIS**"
      ],
      "metadata": {
        "id": "lFxwMmJ74nkl"
      }
    },
    {
      "cell_type": "markdown",
      "source": [
        "### **RELATÓRIO FINANCEIRO**"
      ],
      "metadata": {
        "id": "7jmdc9Dx-NAW"
      }
    },
    {
      "cell_type": "code",
      "source": [
        "# Demonstrativo Financeiro\n",
        "geral_venda"
      ],
      "metadata": {
        "id": "RRZqLODU4_Yb"
      },
      "execution_count": null,
      "outputs": []
    },
    {
      "cell_type": "markdown",
      "source": [
        "### **RELATÓRIO COMERCIAL**"
      ],
      "metadata": {
        "id": "ilC6jb96-VYN"
      }
    },
    {
      "cell_type": "code",
      "source": [
        "# Quantidade de produtos vendidos apenas na pré-venda\n",
        "geral_produtos_pre.groupby('Categoria')['Vendas'].sum().sort_values(ascending=True)"
      ],
      "metadata": {
        "id": "289_oA5l5DvW"
      },
      "execution_count": null,
      "outputs": []
    },
    {
      "cell_type": "code",
      "source": [
        "# Preferência do público por personagem na pré-venda\n",
        "geral_produtos_pre.groupby('Produto')['Vendas'].sum().sort_values(ascending=False)"
      ],
      "metadata": {
        "id": "7FDDvUkQ8Vx9"
      },
      "execution_count": null,
      "outputs": []
    },
    {
      "cell_type": "code",
      "source": [
        "# Valor total da pré-venda\n",
        "total_pre_venda = geral_produtos_pre['Valor_TOTAL (R$)'].sum()\n",
        "\n",
        "# Imprimir os totais\n",
        "print(\"O valor total de vendas na Pré-venda foi de: R$\", total_pre_venda)"
      ],
      "metadata": {
        "id": "KukQa0ph63Dh"
      },
      "execution_count": null,
      "outputs": []
    },
    {
      "cell_type": "markdown",
      "source": [
        "### **RELATÓRIO DE INSUMO**"
      ],
      "metadata": {
        "id": "Z_74AqtxAupg"
      }
    },
    {
      "cell_type": "code",
      "source": [
        "# Solicitação para camiseteria\n",
        "geral_grade"
      ],
      "metadata": {
        "id": "R_L4asgiR5pV"
      },
      "execution_count": null,
      "outputs": []
    },
    {
      "cell_type": "code",
      "source": [
        "# Pedido por cores\n",
        "branco_grade_cores"
      ],
      "metadata": {
        "id": "A_hCDSZVSM5X"
      },
      "execution_count": null,
      "outputs": []
    },
    {
      "cell_type": "code",
      "source": [
        "# Pedido por cores\n",
        "preto_grade_cores"
      ],
      "metadata": {
        "id": "j4HLG1ZtSMvA"
      },
      "execution_count": null,
      "outputs": []
    },
    {
      "cell_type": "code",
      "source": [
        "# Imprimir os totais\n",
        "print(\"Total de camisetas brancas:\", total_brancas)\n",
        "print(\"Total de camisetas pretas:\", total_pretas)"
      ],
      "metadata": {
        "id": "1lB7kt_mQ5Kx"
      },
      "execution_count": null,
      "outputs": []
    },
    {
      "cell_type": "markdown",
      "source": [
        "### **RELATÓRIO OPERACIONAL**"
      ],
      "metadata": {
        "id": "prPVT1CDU4Ha"
      }
    },
    {
      "cell_type": "code",
      "source": [
        "# Verificação de produtos que precisam ser produzidos\n",
        "pd.unique(geral_produtos_pre['Categoria'])"
      ],
      "metadata": {
        "id": "SMkvnMzWXO7A"
      },
      "execution_count": null,
      "outputs": []
    },
    {
      "cell_type": "code",
      "source": [
        "# Quantidade de produtos vendidos apenas na pré-venda\n",
        "geral_produtos_pre.groupby('Categoria')['Vendas'].sum().sort_values(ascending=True)"
      ],
      "metadata": {
        "id": "K46IEc4qXeI-"
      },
      "execution_count": null,
      "outputs": []
    },
    {
      "cell_type": "code",
      "source": [
        "# Para produção\n",
        "pre_venda_p1"
      ],
      "metadata": {
        "id": "Wixck0twU6Am"
      },
      "execution_count": null,
      "outputs": []
    },
    {
      "cell_type": "code",
      "source": [
        "# Para produção\n",
        "pre_venda_p2"
      ],
      "metadata": {
        "id": "lB8-epfFVBzJ"
      },
      "execution_count": null,
      "outputs": []
    },
    {
      "cell_type": "code",
      "source": [
        "# Para produção\n",
        "pre_venda_p3"
      ],
      "metadata": {
        "id": "ug0PycaUVIPC"
      },
      "execution_count": null,
      "outputs": []
    },
    {
      "cell_type": "markdown",
      "source": [
        "### **RELATÓRIO PRONTO-ENTREGA**"
      ],
      "metadata": {
        "id": "aF08omrqYgzz"
      }
    },
    {
      "cell_type": "code",
      "source": [
        "# Verificação de produtos que foram vendidos\n",
        "pd.unique(estoque_venda['Categoria'])"
      ],
      "metadata": {
        "id": "71UfXDshYnZf"
      },
      "execution_count": null,
      "outputs": []
    },
    {
      "cell_type": "code",
      "source": [
        "# Valor total da pré-venda\n",
        "total_estoque = estoque_venda['Valor_TOTAL (R$)'].sum()\n",
        "\n",
        "# Imprimir os totais\n",
        "print(\"O valor total de vendas na Pré-venda foi de: R$\", total_estoque)"
      ],
      "metadata": {
        "id": "poYsDllSZNtZ"
      },
      "execution_count": null,
      "outputs": []
    },
    {
      "cell_type": "code",
      "source": [
        "# Eliminando colunas\n",
        "estoque_venda.drop(['Valor Vendas', 'Valor_TOTAL (R$)'],axis=1,inplace=True)"
      ],
      "metadata": {
        "id": "oPN0kRnHiUgs"
      },
      "execution_count": null,
      "outputs": []
    },
    {
      "cell_type": "code",
      "source": [
        "# Separar em preto e branco\n",
        "estoque_venda_p1 = estoque_venda[estoque_venda['Categoria'] == 'CAMISETAS']\n",
        "estoque_venda_p2 = estoque_venda[estoque_venda['Categoria'] == 'QUADROS']\n",
        "estoque_venda_p3 = estoque_venda[estoque_venda['Categoria'] == 'STICKERS']"
      ],
      "metadata": {
        "id": "w77aLLa5bMGO"
      },
      "execution_count": null,
      "outputs": []
    },
    {
      "cell_type": "code",
      "source": [
        "# Mostrar as tabelas separadas\n",
        "estoque_venda_p1"
      ],
      "metadata": {
        "id": "zYVI8p6_iV1N"
      },
      "execution_count": null,
      "outputs": []
    },
    {
      "cell_type": "code",
      "source": [
        "# Mostrar as tabelas separadas\n",
        "estoque_venda_p2"
      ],
      "metadata": {
        "id": "BAc9IuxgjgWm"
      },
      "execution_count": null,
      "outputs": []
    },
    {
      "cell_type": "code",
      "source": [
        "# Mostrar as tabelas separadas\n",
        "estoque_venda_p3"
      ],
      "metadata": {
        "id": "kFk6yPuijhGb"
      },
      "execution_count": null,
      "outputs": []
    },
    {
      "cell_type": "markdown",
      "source": [
        "## **CARREGAMENTO**"
      ],
      "metadata": {
        "id": "KbJRYviYTeu_"
      }
    },
    {
      "cell_type": "markdown",
      "source": [
        "**Dicionário das tabelas históricas**\n",
        "\n",
        "\n",
        "*   geral_venda - Resultado financeiro\n",
        "*   geral_produtos_pre - todos os produtos da coleção vigente;\n",
        "*   geral_pre_venda - só camisetas da coleção vigente;\n",
        "*   geral_grade - só camisetas da coleção vigente\n",
        "*   geral_grade_cores - grade completa com cores e tamanhos dos pedidos\n",
        "*   branco_grade_cores - grade por cor - (caso houver na coleção vigente)\n",
        "*   preto_grade_cores - grade por cor\n",
        "*   pre_venda_p1 - qtd. de produção do personagem 1\n",
        "*   pre_venda_p2 - qtd. de produção do personagem 2\n",
        "*   pre_venda_p3 - qtd. de produção do personagem 3\n",
        "*   pre_venda_p4 - qtd. de produção do personagem 4 (caso houver)\n",
        "*   estoque_venda - Tudo que foi vendido a pronto-entrega durante o mês vigente\n",
        "*   estoque_venda_p1 - camisetas a pronto-entrega\n",
        "*   estoque_venda_p2 - quadros a pronto-entrega\n",
        "*   estoque_venda_p3 - stickers a pronto-entrega"
      ],
      "metadata": {
        "id": "z31_qC5i-zyD"
      }
    },
    {
      "cell_type": "code",
      "source": [
        "# Carregamento em uma pasta Google Drive em extensão .csv\n",
        "geral_venda.to_csv('/content/drive/MyDrive/5. DADOS/Tratado/Setembro_2023/Setembro_2023_Dados Históricos/setembro_2023_geral_venda.csv')\n",
        "geral_produtos_pre.to_csv('/content/drive/MyDrive/5. DADOS/Tratado/Setembro_2023/Setembro_2023_Dados Históricos/setembro_2023_geral_prod_pre.csv')\n",
        "geral_pre_venda.to_csv('/content/drive/MyDrive/5. DADOS/Tratado/Setembro_2023/Setembro_2023_Dados Históricos/setembro_2023_geral_venda_pre.csv')\n",
        "geral_grade.to_csv('/content/drive/MyDrive/5. DADOS/Tratado/Setembro_2023/Setembro_2023_Dados Históricos/setembro_2023_geral_grade.csv')\n",
        "\n",
        "\n",
        "preto_grade_cores.to_csv('/content/drive/MyDrive/5. DADOS/Tratado/Setembro_2023/Setembro_2023_Dados Históricos/setembro_2023_geral_grade_cores_preto.csv')\n",
        "branco_grade_cores.to_csv('/content/drive/MyDrive/5. DADOS/Tratado/Setembro_2023/Setembro_2023_Dados Históricos/setembro_2023_geral_grade_cores_branco.csv')\n",
        "geral_grade_cores.to_csv('/content/drive/MyDrive/5. DADOS/Tratado/Setembro_2023/Setembro_2023_Dados Históricos/setembro_2023_geral_grade_cores.csv')\n",
        "\n",
        "\n",
        "pre_venda_p1.to_csv('/content/drive/MyDrive/5. DADOS/Tratado/Setembro_2023/Setembro_2023_Dados Históricos/setembro_2023_pre_venda_p1.csv')\n",
        "pre_venda_p2.to_csv('/content/drive/MyDrive/5. DADOS/Tratado/Setembro_2023/Setembro_2023_Dados Históricos/setembro_2023_pre_venda_p2.csv')\n",
        "pre_venda_p3.to_csv('/content/drive/MyDrive/5. DADOS/Tratado/Setembro_2023/Setembro_2023_Dados Históricos/setembro_2023_pre_venda_p3.csv')\n",
        "\n",
        "estoque_venda.to_csv('/content/drive/MyDrive/5. DADOS/Tratado/Setembro_2023/Setembro_2023_Dados Históricos/setembro_2023_estoque_venda.csv')\n",
        "estoque_venda_p1.to_csv('/content/drive/MyDrive/5. DADOS/Tratado/Setembro_2023/Setembro_2023_Dados Históricos/setembro_2023_estoque_venda_v1.csv')\n",
        "estoque_venda_p2.to_csv('/content/drive/MyDrive/5. DADOS/Tratado/Setembro_2023/Setembro_2023_Dados Históricos/setembro_2023_estoque_venda_v2.csv')\n",
        "estoque_venda_p3.to_csv('/content/drive/MyDrive/5. DADOS/Tratado/Setembro_2023/Setembro_2023_Dados Históricos/setembro_2023_estoque_venda_v3.csv')"
      ],
      "metadata": {
        "id": "-7eetAkvSh85"
      },
      "execution_count": null,
      "outputs": []
    },
    {
      "cell_type": "code",
      "source": [
        "# Acessar planilha que vai receber os dados\n",
        "planilha = gc.open(\"Resultado_Setembro_2023\")"
      ],
      "metadata": {
        "id": "rW84UuzTutge"
      },
      "execution_count": null,
      "outputs": []
    },
    {
      "cell_type": "code",
      "source": [
        "# Acesse as guias da planilha usando o método worksheet\n",
        "set_geral_venda = planilha.worksheet('Página1')\n",
        "set_geral_produtos_pre = planilha.worksheet('Página2')\n",
        "set_geral_pre_venda = planilha.worksheet('Página3')\n",
        "set_geral_grade_cores_branco = planilha.worksheet('Página4')\n",
        "set_geral_grade_cores_preto = planilha.worksheet('Página5')\n",
        "set_p1 = planilha.worksheet('Página6')\n",
        "set_p2 = planilha.worksheet('Página7')\n",
        "set_p3 = planilha.worksheet('Página8')\n",
        "set_p4 = planilha.worksheet('Página9')\n",
        "set_estoque_venda_v1 = planilha.worksheet('Página10')\n",
        "set_estoque_venda_v2 = planilha.worksheet('Página11')\n",
        "set_estoque_venda_v3 = planilha.worksheet('Página12')\n",
        "set_geral_grade = planilha.worksheet('Página13')"
      ],
      "metadata": {
        "id": "3RhElaNfkffU"
      },
      "execution_count": null,
      "outputs": []
    },
    {
      "cell_type": "code",
      "source": [
        "# Exportação 1\n",
        "set_geral_venda.update([geral_venda.columns.values.tolist()] + geral_venda.values.tolist())"
      ],
      "metadata": {
        "id": "z_5hDrdvoH59"
      },
      "execution_count": null,
      "outputs": []
    },
    {
      "cell_type": "code",
      "source": [
        "# Exportação 2\n",
        "set_geral_produtos_pre.update([geral_produtos_pre.columns.values.tolist()] + geral_produtos_pre.values.tolist())"
      ],
      "metadata": {
        "id": "-1zE0CWIm8UF"
      },
      "execution_count": null,
      "outputs": []
    },
    {
      "cell_type": "code",
      "source": [
        "# Exportação 3\n",
        "set_geral_pre_venda.update([geral_pre_venda.columns.values.tolist()] + geral_pre_venda.values.tolist())"
      ],
      "metadata": {
        "id": "F32tpCOapJAg"
      },
      "execution_count": null,
      "outputs": []
    },
    {
      "cell_type": "code",
      "source": [
        "# Exportação 4\n",
        "set_geral_grade_cores_branco.update([branco_grade_cores.columns.values.tolist()] + branco_grade_cores.values.tolist())"
      ],
      "metadata": {
        "id": "yNX0eOR-X1R8"
      },
      "execution_count": null,
      "outputs": []
    },
    {
      "cell_type": "code",
      "source": [
        "# Exportação 5\n",
        "set_geral_grade_cores_preto.update([preto_grade_cores.columns.values.tolist()] + preto_grade_cores.values.tolist())"
      ],
      "metadata": {
        "id": "c8CHPRAgX1sE"
      },
      "execution_count": null,
      "outputs": []
    },
    {
      "cell_type": "code",
      "source": [
        "# Exportação 6\n",
        "set_p1.update([pre_venda_p1.columns.values.tolist()] + pre_venda_p1.values.tolist())"
      ],
      "metadata": {
        "id": "CknM8uv380EX"
      },
      "execution_count": null,
      "outputs": []
    },
    {
      "cell_type": "code",
      "source": [
        "# Exportação 7\n",
        "set_p2.update([pre_venda_p2.columns.values.tolist()] + pre_venda_p2.values.tolist())"
      ],
      "metadata": {
        "id": "gVeVz2i980CC"
      },
      "execution_count": null,
      "outputs": []
    },
    {
      "cell_type": "code",
      "source": [
        "# Exportação 8\n",
        "set_p3.update([pre_venda_p3.columns.values.tolist()] + pre_venda_p3.values.tolist())"
      ],
      "metadata": {
        "id": "d3F5QoC98z_e"
      },
      "execution_count": null,
      "outputs": []
    },
    {
      "cell_type": "code",
      "source": [
        "# Exportação 9\n",
        "#junho_p4.update([pre_venda_p4.columns.values.tolist()] + pre_venda_p4.values.tolist())"
      ],
      "metadata": {
        "id": "7NZOKq1LX1-A"
      },
      "execution_count": null,
      "outputs": []
    },
    {
      "cell_type": "code",
      "source": [
        "# Exportação 10\n",
        "estoque_venda.fillna('', inplace=True)\n",
        "set_estoque_venda_v1.update([estoque_venda_p1.columns.values.tolist()] + estoque_venda_p1.values.tolist())"
      ],
      "metadata": {
        "id": "1fQLGZYOrEmu"
      },
      "execution_count": null,
      "outputs": []
    },
    {
      "cell_type": "code",
      "source": [
        "# Exportação 11\n",
        "estoque_venda.fillna('', inplace=True)\n",
        "set_estoque_venda_v2.update([estoque_venda_p2.columns.values.tolist()] + estoque_venda_p2.values.tolist())"
      ],
      "metadata": {
        "id": "40MEsUy4T3YV"
      },
      "execution_count": null,
      "outputs": []
    },
    {
      "cell_type": "code",
      "source": [
        "# Exportação 12\n",
        "estoque_venda.fillna('', inplace=True)\n",
        "set_estoque_venda_v3.update([estoque_venda_p3.columns.values.tolist()] + estoque_venda_p3.values.tolist())"
      ],
      "metadata": {
        "id": "ANITcodwT363"
      },
      "execution_count": null,
      "outputs": []
    },
    {
      "cell_type": "code",
      "source": [
        "# Exportação 13\n",
        "#estoque_venda.fillna('', inplace=True)\n",
        "set_geral_grade.update([geral_grade.columns.values.tolist()] + geral_grade.values.tolist())"
      ],
      "metadata": {
        "id": "QfxA_ERc4bin"
      },
      "execution_count": null,
      "outputs": []
    },
    {
      "cell_type": "markdown",
      "source": [
        "# **Final**"
      ],
      "metadata": {
        "id": "Ve2UPTnITkdl"
      }
    },
    {
      "cell_type": "code",
      "source": [
        "# Recado Final\n",
        "print(\"Dados exportados com sucesso para o Google Sheets!\")"
      ],
      "metadata": {
        "id": "kIMdYCtss953"
      },
      "execution_count": null,
      "outputs": []
    }
  ]
}